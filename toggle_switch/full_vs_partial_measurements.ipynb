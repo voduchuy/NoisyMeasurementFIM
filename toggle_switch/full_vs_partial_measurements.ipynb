{
 "cells": [
  {
   "cell_type": "code",
   "execution_count": 1,
   "metadata": {
    "collapsed": true
   },
   "outputs": [],
   "source": [
    "import numpy as np\n",
    "import matplotlib.pyplot as plt\n",
    "from matplotlib.ticker import FormatStrFormatter\n",
    "from matplotlib import rc\n",
    "import matplotlib.colors as colors\n",
    "from utils.my_plotting_lib import plot_barcodes, plot_conf_ellipse, label_axes\n",
    "from utils.fim_utils import computeCriteria, logTransform\n",
    "from toggle_model import ToggleSwitchModel\n",
    "rc('text', usetex=True)"
   ]
  },
  {
   "cell_type": "code",
   "execution_count": 2,
   "outputs": [],
   "source": [
    "fims = {}\n",
    "with np.load('results/fim_exact.npz') as _:\n",
    "    fims['full'] = _[\"fim\"]\n",
    "with np.load('results/fim_marginals.npz') as _:\n",
    "    fims['partial_0'] = _['fim0']\n",
    "    fims['partial_1'] = _['fim1']"
   ],
   "metadata": {
    "collapsed": false,
    "pycharm": {
     "name": "#%%\n"
    }
   }
  },
  {
   "cell_type": "code",
   "execution_count": 2,
   "outputs": [],
   "source": [],
   "metadata": {
    "collapsed": false,
    "pycharm": {
     "name": "#%%\n"
    }
   }
  }
 ],
 "metadata": {
  "kernelspec": {
   "display_name": "Python 3",
   "language": "python",
   "name": "python3"
  },
  "language_info": {
   "codemirror_mode": {
    "name": "ipython",
    "version": 2
   },
   "file_extension": ".py",
   "mimetype": "text/x-python",
   "name": "python",
   "nbconvert_exporter": "python",
   "pygments_lexer": "ipython2",
   "version": "2.7.6"
  }
 },
 "nbformat": 4,
 "nbformat_minor": 0
}