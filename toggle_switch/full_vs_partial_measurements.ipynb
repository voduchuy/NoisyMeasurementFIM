{
 "cells": [
  {
   "cell_type": "code",
   "execution_count": 7,
   "metadata": {
    "pycharm": {
     "name": "#%%\n"
    }
   },
   "outputs": [],
   "source": [
    "import sys \n",
    "sys.path.append(\"..\")\n",
    "import numpy as np\n",
    "import matplotlib.pyplot as plt\n",
    "from matplotlib.ticker import FormatStrFormatter\n",
    "from matplotlib import rc\n",
    "import matplotlib.colors as colors\n",
    "from utils.my_plotting_lib import plotBarcodes, plotConfidenceEllipse, labelAxes\n",
    "from utils.fim_utils import computeFimFunctional, logTransform\n",
    "from toggle_model import ToggleSwitchModel\n",
    "rc('text', usetex=True)"
   ]
  },
  {
   "cell_type": "code",
   "execution_count": 8,
   "metadata": {
    "pycharm": {
     "name": "#%%\n"
    }
   },
   "outputs": [],
   "source": [
    "model = ToggleSwitchModel()\n",
    "theta = np.array([model.bx,\n",
    "                model.by,\n",
    "                model.kx,\n",
    "                model.ky,\n",
    "                model.ayx,\n",
    "                model.axy,\n",
    "                model.nyx,\n",
    "                model.nxy,\n",
    "                model.gammax,\n",
    "                model.gammay])\n",
    "fims = {}\n",
    "with np.load('results/fim_exact.npz') as _:\n",
    "    fims['(x,y)'] = _[\"fim\"]\n",
    "with np.load('results/fim_marginals.npz') as _:\n",
    "    fims['x'] = _['fim0']\n",
    "    fims['y'] = _['fim1']\n",
    "for key in fims.keys():\n",
    "    logTransform(fims[key], theta)"
   ]
  },
  {
   "cell_type": "markdown",
   "metadata": {},
   "source": [
    "## Compare joint vs. single-species measurements and half-and-half combination of measurement types"
   ]
  },
  {
   "cell_type": "code",
   "execution_count": 9,
   "metadata": {
    "pycharm": {
     "name": "#%%\n"
    }
   },
   "outputs": [],
   "source": [
    "with np.load('results/combined_fim_dopt.npz', allow_pickle=True) as _:\n",
    "    fim_opt_dt_mixture = _['fim_opt']\n",
    "    nx_opt = _['nx_opt']\n",
    "    dt_opt = _['dt_opt']\n",
    "    fim_mixture_dets = _['fim_dets']\n",
    "\n",
    "best_combination_dopt = fim_mixture_dets[nx_opt, dt_opt]\n",
    "\n",
    "fim_mt_single_obs = {}\n",
    "n_cells = 1000\n",
    "max_dt = 400\n",
    "\n",
    "batch_fims = {}\n",
    "for measurement in ['(x,y)', 'x', 'y']:\n",
    "    batch_fims[f\"100%{measurement}\"] = n_cells*fims[measurement]\n",
    "batch_fims[\"50%x_50%y\"] = (n_cells//2)*fims['x'] + (n_cells//2)*fims['y']\n",
    "batch_fims[\"100%x_100%y\"] = n_cells*fims['x'] + n_cells*fims['y']\n",
    "\n",
    "combination_schemes = list(batch_fims.keys())"
   ]
  },
  {
   "cell_type": "code",
   "execution_count": 10,
   "metadata": {
    "pycharm": {
     "name": "#%%md\n"
    }
   },
   "outputs": [],
   "source": [
    "# D-optimality for single observation"
   ]
  },
  {
   "cell_type": "code",
   "execution_count": 11,
   "metadata": {
    "pycharm": {
     "name": "#%%\n"
    }
   },
   "outputs": [],
   "source": [
    "d_optimality_objectives = {k: computeFimFunctional(v) for k,v in batch_fims.items()}\n",
    "d_optimality_solutions = {k: np.argmax(v) for k,v in d_optimality_objectives.items()}"
   ]
  },
  {
   "cell_type": "code",
   "execution_count": 12,
   "metadata": {
    "pycharm": {
     "name": "#%%\n"
    }
   },
   "outputs": [
    {
     "ename": "FileNotFoundError",
     "evalue": "[Errno 2] No such file or directory: 'figs/toggle_schematic.png'",
     "output_type": "error",
     "traceback": [
      "\u001B[0;31m---------------------------------------------------------------------------\u001B[0m",
      "\u001B[0;31mFileNotFoundError\u001B[0m                         Traceback (most recent call last)",
      "Cell \u001B[0;32mIn[12], line 40\u001B[0m\n\u001B[1;32m     37\u001B[0m     ax\u001B[38;5;241m.\u001B[39mgrid(\u001B[38;5;28;01mTrue\u001B[39;00m)\n\u001B[1;32m     39\u001B[0m axs[\u001B[38;5;241m0\u001B[39m]\u001B[38;5;241m.\u001B[39maxis(\u001B[38;5;28;01mFalse\u001B[39;00m)\n\u001B[0;32m---> 40\u001B[0m axs[\u001B[38;5;241m0\u001B[39m]\u001B[38;5;241m.\u001B[39mimshow(\u001B[43mplt\u001B[49m\u001B[38;5;241;43m.\u001B[39;49m\u001B[43mimread\u001B[49m\u001B[43m(\u001B[49m\u001B[38;5;124;43m\"\u001B[39;49m\u001B[38;5;124;43mfigs/toggle_schematic.png\u001B[39;49m\u001B[38;5;124;43m\"\u001B[39;49m\u001B[43m)\u001B[49m)\n\u001B[1;32m     42\u001B[0m colors \u001B[38;5;241m=\u001B[39m {}\n\u001B[1;32m     43\u001B[0m roman_numerics \u001B[38;5;241m=\u001B[39m [\u001B[38;5;124m'\u001B[39m\u001B[38;5;124mI\u001B[39m\u001B[38;5;124m'\u001B[39m, \u001B[38;5;124m'\u001B[39m\u001B[38;5;124mII\u001B[39m\u001B[38;5;124m'\u001B[39m, \u001B[38;5;124m'\u001B[39m\u001B[38;5;124mIII\u001B[39m\u001B[38;5;124m'\u001B[39m, \u001B[38;5;124m'\u001B[39m\u001B[38;5;124mIV\u001B[39m\u001B[38;5;124m'\u001B[39m, \u001B[38;5;124m'\u001B[39m\u001B[38;5;124mV\u001B[39m\u001B[38;5;124m'\u001B[39m, \u001B[38;5;124m'\u001B[39m\u001B[38;5;124mVI\u001B[39m\u001B[38;5;124m'\u001B[39m, \u001B[38;5;124m'\u001B[39m\u001B[38;5;124mVII\u001B[39m\u001B[38;5;124m'\u001B[39m, \u001B[38;5;124m'\u001B[39m\u001B[38;5;124mVIII\u001B[39m\u001B[38;5;124m'\u001B[39m, \u001B[38;5;124m'\u001B[39m\u001B[38;5;124mIX\u001B[39m\u001B[38;5;124m'\u001B[39m, \u001B[38;5;124m'\u001B[39m\u001B[38;5;124mX\u001B[39m\u001B[38;5;124m'\u001B[39m]\n",
      "File \u001B[0;32m~/miniforge3/envs/cme/lib/python3.9/site-packages/matplotlib/pyplot.py:2139\u001B[0m, in \u001B[0;36mimread\u001B[0;34m(fname, format)\u001B[0m\n\u001B[1;32m   2137\u001B[0m \u001B[38;5;129m@_copy_docstring_and_deprecators\u001B[39m(matplotlib\u001B[38;5;241m.\u001B[39mimage\u001B[38;5;241m.\u001B[39mimread)\n\u001B[1;32m   2138\u001B[0m \u001B[38;5;28;01mdef\u001B[39;00m \u001B[38;5;21mimread\u001B[39m(fname, \u001B[38;5;28mformat\u001B[39m\u001B[38;5;241m=\u001B[39m\u001B[38;5;28;01mNone\u001B[39;00m):\n\u001B[0;32m-> 2139\u001B[0m     \u001B[38;5;28;01mreturn\u001B[39;00m \u001B[43mmatplotlib\u001B[49m\u001B[38;5;241;43m.\u001B[39;49m\u001B[43mimage\u001B[49m\u001B[38;5;241;43m.\u001B[39;49m\u001B[43mimread\u001B[49m\u001B[43m(\u001B[49m\u001B[43mfname\u001B[49m\u001B[43m,\u001B[49m\u001B[43m \u001B[49m\u001B[38;5;28;43mformat\u001B[39;49m\u001B[43m)\u001B[49m\n",
      "File \u001B[0;32m~/miniforge3/envs/cme/lib/python3.9/site-packages/matplotlib/image.py:1560\u001B[0m, in \u001B[0;36mimread\u001B[0;34m(fname, format)\u001B[0m\n\u001B[1;32m   1558\u001B[0m                 response \u001B[38;5;241m=\u001B[39m io\u001B[38;5;241m.\u001B[39mBytesIO(response\u001B[38;5;241m.\u001B[39mread())\n\u001B[1;32m   1559\u001B[0m             \u001B[38;5;28;01mreturn\u001B[39;00m imread(response, \u001B[38;5;28mformat\u001B[39m\u001B[38;5;241m=\u001B[39mext)\n\u001B[0;32m-> 1560\u001B[0m \u001B[38;5;28;01mwith\u001B[39;00m \u001B[43mimg_open\u001B[49m\u001B[43m(\u001B[49m\u001B[43mfname\u001B[49m\u001B[43m)\u001B[49m \u001B[38;5;28;01mas\u001B[39;00m image:\n\u001B[1;32m   1561\u001B[0m     \u001B[38;5;28;01mreturn\u001B[39;00m (_pil_png_to_float_array(image)\n\u001B[1;32m   1562\u001B[0m             \u001B[38;5;28;01mif\u001B[39;00m \u001B[38;5;28misinstance\u001B[39m(image, PIL\u001B[38;5;241m.\u001B[39mPngImagePlugin\u001B[38;5;241m.\u001B[39mPngImageFile) \u001B[38;5;28;01melse\u001B[39;00m\n\u001B[1;32m   1563\u001B[0m             pil_to_array(image))\n",
      "File \u001B[0;32m~/miniforge3/envs/cme/lib/python3.9/site-packages/PIL/ImageFile.py:104\u001B[0m, in \u001B[0;36mImageFile.__init__\u001B[0;34m(self, fp, filename)\u001B[0m\n\u001B[1;32m    100\u001B[0m \u001B[38;5;28mself\u001B[39m\u001B[38;5;241m.\u001B[39mdecodermaxblock \u001B[38;5;241m=\u001B[39m MAXBLOCK\n\u001B[1;32m    102\u001B[0m \u001B[38;5;28;01mif\u001B[39;00m is_path(fp):\n\u001B[1;32m    103\u001B[0m     \u001B[38;5;66;03m# filename\u001B[39;00m\n\u001B[0;32m--> 104\u001B[0m     \u001B[38;5;28mself\u001B[39m\u001B[38;5;241m.\u001B[39mfp \u001B[38;5;241m=\u001B[39m \u001B[38;5;28;43mopen\u001B[39;49m\u001B[43m(\u001B[49m\u001B[43mfp\u001B[49m\u001B[43m,\u001B[49m\u001B[43m \u001B[49m\u001B[38;5;124;43m\"\u001B[39;49m\u001B[38;5;124;43mrb\u001B[39;49m\u001B[38;5;124;43m\"\u001B[39;49m\u001B[43m)\u001B[49m\n\u001B[1;32m    105\u001B[0m     \u001B[38;5;28mself\u001B[39m\u001B[38;5;241m.\u001B[39mfilename \u001B[38;5;241m=\u001B[39m fp\n\u001B[1;32m    106\u001B[0m     \u001B[38;5;28mself\u001B[39m\u001B[38;5;241m.\u001B[39m_exclusive_fp \u001B[38;5;241m=\u001B[39m \u001B[38;5;28;01mTrue\u001B[39;00m\n",
      "\u001B[0;31mFileNotFoundError\u001B[0m: [Errno 2] No such file or directory: 'figs/toggle_schematic.png'"
     ]
    },
    {
     "data": {
      "text/plain": "<Figure size 600x900 with 6 Axes>",
      "image/png": "[encoded data removed]"
     },
     "metadata": {},
     "output_type": "display_data"
    }
   ],
   "source": [
    "from mpl_toolkits.axes_grid1.inset_locator import inset_axes\n",
    "from textwrap import wrap\n",
    "\n",
    "scheme_titles = {\n",
    "    '100%(x,y)': fr'{n_cells} joint (LacI,$\\lambda$cI)',\n",
    "    '100%x': f'{n_cells} LacI',\n",
    "    '100%y': f'{n_cells} $\\lambda$cI',\n",
    "    '50%x_50%y': f'{n_cells//2} LacI and {n_cells//2} $\\lambda$cI',\n",
    "    '100%x_100%y': f'{n_cells} LacI and {n_cells} $\\lambda$cI'\n",
    "}\n",
    "\n",
    "fig = plt.figure(figsize=(6, 9), tight_layout=True)\n",
    "axs = list(fig.subplot_mosaic(\n",
    "\"\"\"\n",
    "AAAAAAA\n",
    "AAAAAAA\n",
    "AAAAAAA\n",
    "AAAAAAA\n",
    ".......\n",
    "BBB.CCC\n",
    "BBB.CCC\n",
    "BBB.CCC\n",
    ".......\n",
    ".......\n",
    "DDD.EEE\n",
    "DDD.EEE\n",
    "DDD.EEE\n",
    ".......\n",
    ".......\n",
    "FFFFFFF\n",
    "FFFFFFF\n",
    "FFFFFFF\n",
    "\"\"\"\n",
    ").values())\n",
    "\n",
    "for ax in axs:\n",
    "    ax.grid(True)\n",
    "\n",
    "axs[0].axis(False)\n",
    "axs[0].imshow(plt.imread(\"figs/toggle_schematic.png\"))\n",
    "\n",
    "colors = {}\n",
    "roman_numerics = ['I', 'II', 'III', 'IV', 'V', 'VI', 'VII', 'VIII', 'IX', 'X']\n",
    "my_ax = axs[1]\n",
    "for i,design in enumerate(combination_schemes):\n",
    "    p = my_ax.plot(d_optimality_objectives[design], label=f\"{scheme_titles[design]} ({roman_numerics[i]})\")\n",
    "    colors[design] = p[0].get_color()\n",
    "    t_opt = d_optimality_solutions[design]\n",
    "    my_ax.scatter(t_opt,\n",
    "                   d_optimality_objectives[design][t_opt], marker=\"*\")\n",
    "    my_ax.set_yscale(\"log\")\n",
    "my_ax.set_ylabel(r\"D-optimality\")\n",
    "my_ax.set_xlabel(r\"Sampling time (min)\")\n",
    "\n",
    "\n",
    "# Bar chart for the D-opt values\n",
    "d_values = [d_optimality_objectives[design][d_optimality_solutions[design]] for design in combination_schemes]\n",
    "exp_labels = [v for k, v in scheme_titles.items()]\n",
    "\n",
    "my_ax = axs[2]\n",
    "for i, design in enumerate(combination_schemes):\n",
    "    my_ax.bar(i, d_values[i], color=colors[design])\n",
    "my_ax.bar(i+1, best_combination_dopt, color=\"k\", label=\"Optimal composition (VI)\")\n",
    "my_ax.set_yscale(\"log\")\n",
    "my_ax.set_xticks([0, 1, 2, 3, 4, 5])\n",
    "my_ax.set_xticklabels(roman_numerics[:6], ha='right')\n",
    "my_ax.set_xlabel(\"Design\")\n",
    "my_ax.set_ylabel(\"D-optimality\")\n",
    "\n",
    "# Ellipses for the uninformative designs\n",
    "my_ax = axs[3]\n",
    "for i, design in enumerate(combination_schemes):\n",
    "    t_opt = d_optimality_solutions[design]\n",
    "    plotConfidenceEllipse(fim=batch_fims[design][t_opt], num_sigma=3,\n",
    "                       ax=my_ax, par_idx=[2, 3], theta=np.log10(theta),\n",
    "                       color=colors[design])\n",
    "my_ax.set_xlabel(r\"$\\log_{10}(k_x)$\")\n",
    "my_ax.set_ylabel(r\"$\\log_{10}(k_y)$\")\n",
    "\n",
    "# Ellipses for the good designs\n",
    "my_ax = axs[4]\n",
    "for design in [\"100%(x,y)\", \"50%x_50%y\", \"100%x_100%y\"]:\n",
    "    t_opt = d_optimality_solutions[design]\n",
    "    plotConfidenceEllipse(fim=batch_fims[design][t_opt], num_sigma=3,\n",
    "                       ax=my_ax, par_idx=[2, 3], theta=np.log10(theta),\n",
    "                       color=colors[design])\n",
    "my_ax.set_xlabel(r\"$\\log_{10}(k_x)$\")\n",
    "my_ax.set_ylabel(r\"$\\log_{10}(k_y)$\")\n",
    "\n",
    "h = axs[5].contourf(fim_mixture_dets)\n",
    "fig.colorbar(h)\n",
    "axs[5].set_xlabel(r'Sampling time (min)')\n",
    "axs[5].set_ylabel(r'Number of LacI observations')\n",
    "axs[5].scatter(dt_opt, nx_opt, marker='*', s=100)\n",
    "print(f\"dt_opt={dt_opt}, nx_opt={nx_opt}\")\n",
    "\n",
    "handles = []\n",
    "labels = []\n",
    "for i in [0, 1]:\n",
    "    h, l = axs[1+i].get_legend_handles_labels()\n",
    "    handles += h\n",
    "    labels += l\n",
    "\n",
    "fig.legend(handles, labels, loc=\"upper left\", bbox_to_anchor=(0, -1, 1, 1), ncol=3)\n",
    "labelAxes(axs)\n",
    "fig.savefig(\"figs/toggle_single_vs_half.png\", dpi=300, bbox_inches=\"tight\")"
   ]
  },
  {
   "cell_type": "code",
   "execution_count": null,
   "metadata": {
    "pycharm": {
     "name": "#%%\n"
    }
   },
   "outputs": [],
   "source": [
    "import pandas as pd\n",
    "\n",
    "lst = []\n",
    "for design in combination_schemes:\n",
    "    t_opt = d_optimality_solutions[design]\n",
    "    lst.append(\n",
    "        [scheme_titles[design],\n",
    "        t_opt,\n",
    "        d_optimality_objectives[design][t_opt]]\n",
    "    )\n",
    "df = pd.DataFrame(lst, columns=['Design', 'Optimal time (minute)', 'D-optimal information'])\n",
    "df.to_csv(\"tables/toggle_designs.csv\", index=False, float_format=\"%.2e\")"
   ]
  },
  {
   "cell_type": "code",
   "execution_count": null,
   "metadata": {
    "pycharm": {
     "name": "#%%\n"
    }
   },
   "outputs": [],
   "source": [
    "fig, ax = plt.subplots(1,1)\n",
    "dt_opt_full = d_optimality_solutions['100%(x,y)']\n",
    "fim_full = batch_fims['100%(x,y)'][dt_opt_full]\n",
    "plotConfidenceEllipse(fim=fim_full, num_sigma=3,\n",
    "                  ax=ax, par_idx=[2, 3], theta=np.log10(theta),\n",
    "                  color=\"blue\", label=r\"Joint observations, optimal sampling time\")\n",
    "plotConfidenceEllipse(fim=fim_opt_dt_mixture, num_sigma=3,\n",
    "                   ax=ax, par_idx=[2, 3], theta=np.log10(theta),\n",
    "                  color=\"magenta\", label=r\"Partial observations, optimal mixture and sampling time\")\n",
    "ax.set_xlabel(r\"$\\log_{10}(k_x)$\")\n",
    "ax.set_ylabel(r\"$\\log_{10}(k_y)$\")\n",
    "h, l = ax.get_legend_handles_labels()\n",
    "fig.legend(h, l, loc=\"lower center\", bbox_to_anchor=(0.5, 1, 0, 0.5))\n",
    "fig.savefig(\"figs/toggle_opt_mixture_kx_ky.png\", dpi=300, bbox_inches=\"tight\")"
   ]
  },
  {
   "cell_type": "code",
   "execution_count": null,
   "metadata": {
    "pycharm": {
     "name": "#%%\n"
    }
   },
   "outputs": [],
   "source": [
    "num_pars = model.NUM_PARAMETERS\n",
    "fig = plt.figure(figsize=(10, 10), tight_layout=True)\n",
    "axs = fig.subplots(num_pars, num_pars, sharex='col', sharey='row')\n",
    "for i in range(num_pars):\n",
    "    for j in range(i, num_pars):\n",
    "        axs[i, j].axis(\"off\")\n",
    "    for j in range(0, i):\n",
    "        plotConfidenceEllipse(fim=fim_full,\n",
    "                          num_sigma=3,\n",
    "                  ax=axs[i, j], par_idx=[j, i], theta=np.log10(theta),\n",
    "                  color=\"darkgreen\", label=r\"Joint observations, optimal sampling time\")\n",
    "        plotConfidenceEllipse(fim=fim_opt_dt_mixture, num_sigma=3,\n",
    "                   ax=axs[i, j], par_idx=[j, i], theta=np.log10(theta),\n",
    "                  color=\"orange\", label=r\"Partial observations, optimal sampling time\")\n",
    "        axs[i, j].set_xticks([])\n",
    "        axs[i, j].set_yticks([])\n",
    "        axs[i, j].autoscale(True, tight=True)\n",
    "\n",
    "parameter_labels=[\n",
    "    r\"$\\widetilde{b_x}$\",\n",
    "    r\"$\\widetilde{b_y}$\",\n",
    "    r\"$\\widetilde{k_x}$\",\n",
    "    r\"$\\widetilde{k_y}$\",\n",
    "    r\"$\\widetilde{a_{yx}}$\",\n",
    "    r\"$\\widetilde{a_{xy}}$\",\n",
    "    r\"$\\widetilde{\\eta_{yx}}$\",\n",
    "    r\"$\\widetilde{\\eta_{xy}}$\",\n",
    "    r\"$\\widetilde{\\gamma_x}$\",\n",
    "    r\"$\\widetilde{\\gamma_y}$\",\n",
    "]\n",
    "\n",
    "for i in range(num_pars):\n",
    "    axs[i, 0].set_ylabel(parameter_labels[i], fontsize=20)\n",
    "    axs[-1, i].set_xlabel(parameter_labels[i], fontsize=20)\n",
    "\n",
    "h, l = axs[1, 0].get_legend_handles_labels()\n",
    "fig.legend(h, l, loc=\"lower center\", bbox_to_anchor=(0.5, 0.8, 0, 0.5), fontsize=15)\n",
    "fig.savefig(\"figs/toggle_conf_ellipse_opt_mixture.png\", dpi=500, bbox_inches=\"tight\")"
   ]
  }
 ],
 "metadata": {
  "kernelspec": {
   "display_name": "Python 3 (ipykernel)",
   "language": "python",
   "name": "python3"
  },
  "language_info": {
   "codemirror_mode": {
    "name": "ipython",
    "version": 3
   },
   "file_extension": ".py",
   "mimetype": "text/x-python",
   "name": "python",
   "nbconvert_exporter": "python",
   "pygments_lexer": "ipython3",
   "version": "3.9.10"
  }
 },
 "nbformat": 4,
 "nbformat_minor": 1
}