{
 "cells": [
  {
   "cell_type": "code",
   "execution_count": 1,
   "outputs": [],
   "source": [
    "par_log_transform = True"
   ],
   "metadata": {
    "collapsed": false,
    "pycharm": {
     "name": "#%%\n",
     "is_executing": false
    }
   }
  },
  {
   "cell_type": "code",
   "execution_count": 2,
   "outputs": [],
   "source": [
    "import numpy as np\n",
    "\n",
    "import numpy.linalg as LA\n",
    "import matplotlib.pyplot as plt\n",
    "from scipy.stats import binom, poisson, norm\n",
    "from scipy.special import comb     \n",
    "from matplotlib import rc \n",
    "import seaborn as sns \n",
    "rc('text', usetex=True)"
   ],
   "metadata": {
    "collapsed": false,
    "pycharm": {
     "name": "#%%\n",
     "is_executing": false
    }
   }
  },
  {
   "cell_type": "code",
   "execution_count": 3,
   "outputs": [],
   "source": [
    "with np.load('fsp_solutions.npz', allow_pickle=True) as fsp_sol_file:\n",
    "    rna_distributions = fsp_sol_file['rna_distributions']\n",
    "    rna_sensitivities = fsp_sol_file['rna_sensitivities']\n",
    "    t_meas = fsp_sol_file['t_meas']\n",
    "\n",
    "with np.load('fim_flowcyt.npz', allow_pickle=True) as f:\n",
    "    flowcyt_prob = f['flowcyt_prob']\n",
    "    \n",
    "with np.load('flowcyt_pars.npz') as f:\n",
    "    kappa=f['kappa']\n",
    "    sigma_probe=f['sigma_probe']\n",
    "    mu_bg=f['mu_bg']\n",
    "    sigma_bg=f['sigma_bg']\n",
    "\n",
    "with np.load('bursting_parameters.npz') as par:\n",
    "    k_on = par['kon']\n",
    "    k_off = par['koff']\n",
    "    k_r = par['kr']\n",
    "    gamma = par['gamma']\n",
    "\n",
    "theta = np.array([k_on, k_off, k_r, gamma])"
   ],
   "metadata": {
    "collapsed": false,
    "pycharm": {
     "name": "#%%\n",
     "is_executing": false
    }
   }
  },
  {
   "cell_type": "markdown",
   "source": [
    "## Modeling measurement noise with binomial distribution"
   ],
   "metadata": {
    "collapsed": false
   }
  },
  {
   "cell_type": "code",
   "execution_count": 4,
   "outputs": [],
   "source": [
    "p_success = 0.5\n",
    "def BinomialNoiseMatrix(n_max, p_success):\n",
    "    M = np.zeros((n_max + 1, n_max + 1))  \n",
    "    for j in range(0, n_max + 1):\n",
    "            M[:, j] = binom.pmf(np.linspace(0, n_max, n_max+1), j, p_success) \n",
    "    return M\n",
    "\n",
    "n_max = 400\n",
    "C_binom = BinomialNoiseMatrix(n_max, p_success)"
   ],
   "metadata": {
    "collapsed": false,
    "pycharm": {
     "name": "#%%\n",
     "is_executing": false
    }
   }
  },
  {
   "cell_type": "code",
   "execution_count": 5,
   "outputs": [],
   "source": [
    "with np.load('fim_exact.npz') as data:\n",
    "    fim_exact = data['fim_exact']\n",
    "\n",
    "with np.load('fim_binom.npz') as data:\n",
    "    fim_binom = data['fim_binom']        \n",
    "\n",
    "with np.load('fim_flowcyt.npz') as data:\n",
    "    fim_flowcyt = data['fim_flowcyt']\n",
    "\n",
    "if par_log_transform:\n",
    "    for it in range(0, len(t_meas)):\n",
    "        for i in range(0,4):\n",
    "            for j in range(0,4):\n",
    "                fim_exact[it, i, j] *= theta[i]*theta[j]*np.log(10)*np.log(10)\n",
    "                fim_binom[it, i, j] *= theta[i]*theta[j]*np.log(10)*np.log(10)\n",
    "                fim_flowcyt[it, i, j] *= theta[i]*theta[j]*np.log(10)*np.log(10)\n",
    "\n",
    "def plot_conf_ellipse(fim, num_sigma, ax, par_idx, color='red', label='my_ellipse'):\n",
    "    covmat = np.linalg.inv(fim)\n",
    "    [eigvals, eigvecs] = np.linalg.eig(covmat[np.ix_([par_idx[0],par_idx[1]], [par_idx[0],par_idx[1]])])\n",
    "    \n",
    "    indx = np.argsort(eigvals)\n",
    "    indx = np.flip(indx)\n",
    "    eigvals = eigvals[indx]\n",
    "    eigvecs = eigvecs[:,indx]\n",
    "            \n",
    "    mu0 = np.log10(theta[par_idx[0]])\n",
    "    mu1 = np.log10(theta[par_idx[1]])\n",
    "    sigma0 = np.sqrt(eigvals[0])\n",
    "    sigma1 = np.sqrt(eigvals[1])\n",
    "    a = num_sigma*sigma0\n",
    "    b = num_sigma*sigma1\n",
    "\n",
    "    ax.axvline(mu0, color='k', linestyle='-', alpha=0.1)\n",
    "    ax.axhline(mu1, color='k', linestyle='-', alpha=0.1)\n",
    "    \n",
    "    phi = np.arctan2(eigvecs[1,0],eigvecs[0,0])\n",
    "    if phi < 0:\n",
    "        phi = phi + 2*np.pi \n",
    "\n",
    "    rot_matrix = np.array([\n",
    "                            [np.cos(phi), -np.sin(phi)],\n",
    "                            [np.sin(phi), np.cos(phi)]\n",
    "                           ])\n",
    "    \n",
    "    phi_grid = np.linspace(0, 2*np.pi, 100)\n",
    "    ellipse_x_r = a*np.cos(phi_grid)\n",
    "    ellipse_y_r = b*np.sin(phi_grid)\n",
    "    \n",
    "    r_ellipse = np.array(rot_matrix@[ellipse_x_r, ellipse_y_r])\n",
    "    \n",
    "    ax.plot(r_ellipse[0,:] + mu0, r_ellipse[1,:] + mu1, color=color, label=label)\n",
    "        \n",
    "    # Plot the major ax           \n",
    "    ax.plot([mu0 - eigvecs[0,0]*a, mu0 + eigvecs[0,0]*a], [mu1 - eigvecs[1,0]*a, mu1 + eigvecs[1,0]*a], color=color, \n",
    "            linestyle='--')\n",
    "    \n",
    "    return 0"
   ],
   "metadata": {
    "collapsed": false,
    "pycharm": {
     "name": "#%%\n",
     "is_executing": false
    }
   }
  },
  {
   "cell_type": "code",
   "execution_count": 6,
   "outputs": [],
   "source": [
    "num_pixels = 100 # number of pixels occupied by a typical cells\n",
    "def LowResNoiseMatrix(n_max):\n",
    "    M = np.zeros((n_max + 1, n_max + 1))  \n",
    "    M[0,0] = 1.0\n",
    "    for j in range(1, n_max + 1):\n",
    "            M[:, j] = comb(num_pixels, np.arange(0, n_max+1))*comb(j-1, np.arange(0,n_max+1)-1)/comb(num_pixels + j - 1, j)       \n",
    "    return M\n",
    "\n",
    "n_max = 400\n",
    "C_lowres = LowResNoiseMatrix(n_max)\n",
    "\n",
    "fim_lowres = np.zeros((len(t_meas), 4, 4))\n",
    "for itime in range(0, len(t_meas)):\n",
    "    M = np.zeros((4,4))\n",
    "    xmax = len(rna_distributions[itime])-1\n",
    "    p = C_lowres[0:xmax+1, 0:xmax+1]@rna_distributions[itime]\n",
    "    for ip in range(0, 4):\n",
    "        sip = C_lowres[0:xmax+1, 0:xmax+1]@rna_sensitivities[itime][ip]\n",
    "        for jp in range(0, ip+1):\n",
    "            sjp = C_lowres[0:xmax+1, 0:xmax+1]@rna_sensitivities[itime][jp]\n",
    "            M[ip, jp] = np.sum(sip*sjp/np.maximum(1.e-16, p))\n",
    "    for ip in range(0,4):\n",
    "        for jp in range(ip+1,4):\n",
    "            M[ip, jp] = M[jp, ip]\n",
    "    fim_lowres[itime, :, :] = M"
   ],
   "metadata": {
    "collapsed": false,
    "pycharm": {
     "name": "#%%\n",
     "is_executing": false
    }
   }
  },
  {
   "cell_type": "code",
   "execution_count": 7,
   "outputs": [
    {
     "name": "stderr",
     "text": [
      "No handles with labels found to put in legend.\n"
     ],
     "output_type": "stream"
    },
    {
     "data": {
      "text/plain": "<Figure size 216x216 with 0 Axes>"
     },
     "metadata": {},
     "output_type": "display_data"
    }
   ],
   "source": [
    "t_idx_to_plot = 300\n",
    "\n",
    "def plot_rna_dist_sens(itime):\n",
    "    fig_smfish = plt.figure()\n",
    "    fig_smfish.set_tight_layout(True)\n",
    "    fig_smfish.set_size_inches(3,3)\n",
    "    \n",
    "    \n",
    "    fig_smfish.legend(bbox_to_anchor=(0,1,1.5,1.5), loc=\"lower left\")\n",
    "    \n",
    "    return fig_smfish\n",
    "    \n",
    "fig_smfish = plot_rna_dist_sens(t_idx_to_plot)\n",
    "fig_smfish.savefig('abstract_distributions.pdf', bbox_inches='tight')\n"
   ],
   "metadata": {
    "collapsed": false,
    "pycharm": {
     "name": "#%%    \n",
     "is_executing": false
    }
   }
  },
  {
   "cell_type": "code",
   "execution_count": 17,
   "outputs": [
    {
     "data": {
      "text/plain": "<Figure size 360x180 with 3 Axes>",
      "image/png": "[encoded data removed]"
     },
     "metadata": {
      "needs_background": "light"
     },
     "output_type": "display_data"
    }
   ],
   "source": [
    "t_idx_to_plot = 100\n",
    "design_colors = ['red', 'orange', 'blue', 'darkgreen', 'magenta']\n",
    "\n",
    "design_labels = [f'Exact measurement', \n",
    "                f'Missing spots',\n",
    "                f'Low-resolution Imaging',                \n",
    "                f'Flow cytometry',                \n",
    "                 ]\n",
    "\n",
    "fim_mats = [1000*fim_exact[t_idx_to_plot, :, :], \n",
    "            1000*fim_binom[t_idx_to_plot, :, :], \n",
    "            1000*fim_lowres[t_idx_to_plot, :, :],            \n",
    "            10000*fim_flowcyt[t_idx_to_plot, :, :],\n",
    "            ]\n",
    "\n",
    "fig, axs = plt.subplots(1,2)\n",
    "fig.set_tight_layout(True)\n",
    "fig.set_size_inches(5, 2.5)\n",
    "\n",
    "xmax = len(rna_distributions[itime])-1\n",
    "p_binom = C_binom[0:xmax+1, 0:xmax+1]@rna_distributions[itime]    \n",
    "p_lowres = C_lowres[0:xmax+1, 0:xmax+1]@rna_distributions[itime]\n",
    "\n",
    "\n",
    "axs[0].step(np.arange(0, xmax+1), rna_distributions[itime], label='True sample', color='red', linewidth=2)    \n",
    "axs[0].step(np.arange(0, xmax+1), p_binom, color='orange', linestyle='-', label='Missing spots')\n",
    "axs[0].step(np.arange(0, xmax+1), p_lowres, color='blue', linestyle='-', label='Low-resolution Imaging')\n",
    "\n",
    "# axs[0].set_xlabel('RNA molecule count/Fluorescence Intensity')\n",
    "# axs[0].set_ylabel(r'\\textbf{Probability}')\n",
    "axs[0].tick_params(axis='y', labelcolor='green', which='both', left=False, right=False, labelleft=False)\n",
    "axs[0].tick_params(axis='x', which='both', labelbottom=False)\n",
    "\n",
    "ax1 = axs[0].twinx()    \n",
    "ax1.plot(flowcyt_prob[itime]['yeval']/kappa, flowcyt_prob[itime]['peval'], \n",
    "        color='green', linestyle='-', linewidth=4, alpha=0.8, label='Flow cytometry')\n",
    "ax1.tick_params(axis='y', labelcolor='green', which='both', left=False, right=False, labelright=False)\n",
    "\n",
    "axs[0].grid()\n",
    "axs[0].set_title('Measurement Distributions')    \n",
    "\n",
    "# The 3-sigma ellipses of different experiments\n",
    "for i in range(0, len(fim_mats)):\n",
    "# for i in [0]:\n",
    "    plot_conf_ellipse(fim_mats[i], 3, axs[1], [0,1], design_colors[i], design_labels[i])\n",
    "\n",
    "axs[1].set_xlabel(r'$\\theta_1$')    \n",
    "axs[1].set_ylabel(r'$\\theta_2$')\n",
    "axs[1].tick_params(axis='y', labelcolor='green', which='both', left=False, right=False, labelleft=False)\n",
    "axs[1].tick_params(axis='x', which='both', labelbottom=False)\n",
    "\n",
    "axs[1].autoscale()\n",
    "axs[1].set_aspect('equal', adjustable='datalim')\n",
    "axs[1].grid()\n",
    "axs[1].set_title('Model Uncertainty')\n",
    "\n",
    "h, l = axs[0].get_legend_handles_labels()\n",
    "# fig.legend(h, l, bbox_to_anchor=(0.1, 1.0, 0.1, 1.1), loc='lower left', ncol=1)\n",
    "plt.show()\n",
    "fig.savefig('abstract_plots.pdf', bbox_inches='tight')"
   ],
   "metadata": {
    "collapsed": false,
    "pycharm": {
     "name": "#%%\n",
     "is_executing": false
    }
   }
  }
 ],
 "metadata": {
  "kernelspec": {
   "name": "cme",
   "language": "python",
   "display_name": "CME"
  },
  "language_info": {
   "codemirror_mode": {
    "name": "ipython",
    "version": 2
   },
   "file_extension": ".py",
   "mimetype": "text/x-python",
   "name": "python",
   "nbconvert_exporter": "python",
   "pygments_lexer": "ipython2",
   "version": "2.7.6"
  },
  "pycharm": {
   "stem_cell": {
    "cell_type": "raw",
    "source": [],
    "metadata": {
     "collapsed": false
    }
   }
  }
 },
 "nbformat": 4,
 "nbformat_minor": 0
}