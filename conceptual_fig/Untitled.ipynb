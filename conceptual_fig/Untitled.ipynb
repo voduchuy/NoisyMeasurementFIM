{
 "cells": [
  {
   "cell_type": "code",
   "execution_count": 8,
   "metadata": {},
   "outputs": [],
   "source": [
    "import numpy as np\n",
    "import matplotlib.pyplot as plt\n",
    "import seaborn as sns\n",
    "import skimage.measure as measure\n",
    "from scipy import ndimage\n",
    "import imageio"
   ]
  },
  {
   "cell_type": "code",
   "execution_count": 5,
   "metadata": {},
   "outputs": [],
   "source": [
    "def count_spot(image, thresh):\n",
    "    # function to count spots in a single cell image, based on A. Raj's paper\n",
    "    Y = image/np.max(image)\n",
    "    Y[Y<=thresh] = 0\n",
    "    Y[Y>thresh] = 1\n",
    "    l, num_spots = measure.label(Y, return_num=True)\n",
    "    return num_spots"
   ]
  },
  {
   "cell_type": "code",
   "execution_count": 6,
   "metadata": {},
   "outputs": [
    {
     "name": "stdout",
     "output_type": "stream",
     "text": [
      "29\n"
     ]
    },
    {
     "data": {
      "image/png": "[encoded data removed]",
      "text/plain": [
       "<Figure size 432x288 with 1 Axes>"
      ]
     },
     "metadata": {
      "needs_background": "light"
     },
     "output_type": "display_data"
    }
   ],
   "source": [
    "import imageio\n",
    "import matplotlib.pyplot as plt\n",
    "\n",
    "# Let's load the ideal image\n",
    "X = plt.imread('fake_cell.tiff')\n",
    "plt.imshow(X)\n",
    "\n",
    "print(count_spot(X, 0.3))"
   ]
  },
  {
   "cell_type": "code",
   "execution_count": 10,
   "metadata": {},
   "outputs": [
    {
     "name": "stderr",
     "output_type": "stream",
     "text": [
      "Lossy conversion from float64 to uint8. Range [0, 1]. Convert image to uint8 prior to saving to suppress this warning.\n"
     ]
    },
    {
     "name": "stdout",
     "output_type": "stream",
     "text": [
      "21\n"
     ]
    },
    {
     "data": {
      "image/png": "[encoded data removed]",
      "text/plain": [
       "<Figure size 432x288 with 1 Axes>"
      ]
     },
     "metadata": {
      "needs_background": "light"
     },
     "output_type": "display_data"
    }
   ],
   "source": [
    "# The cell with a low resolution camera\n",
    "xsize = X.shape[0]\n",
    "ysize = X.shape[1]\n",
    "\n",
    "pixel_x = 30\n",
    "pixel_y = 30\n",
    "F = np.ones((pixel_x, pixel_y))/(pixel_x*pixel_y)\n",
    "\n",
    "Y = np.zeros((xsize//pixel_x, ysize//pixel_y, 3), dtype=int)\n",
    "\n",
    "for i in range(0, Y.shape[0]):\n",
    "    for j in range(0, Y.shape[1]):\n",
    "        for c in range(0,3):\n",
    "            Y[i,j, c] = np.sum(F@X[i*pixel_x:(i+1)*pixel_x, j*pixel_y:(j+1)*pixel_y, c])\n",
    "Y = Y/np.max(Y)\n",
    "# Y[Y<0.7] = 0\n",
    "plt.imshow(Y)\n",
    "\n",
    "print(count_spot(Y, 0.3))\n",
    "imageio.imwrite('low_res_cell.png', Y)"
   ]
  },
  {
   "cell_type": "code",
   "execution_count": 40,
   "metadata": {},
   "outputs": [
    {
     "name": "stderr",
     "output_type": "stream",
     "text": [
      "Lossy conversion from float64 to uint8. Range [0, 1]. Convert image to uint8 prior to saving to suppress this warning.\n"
     ]
    }
   ],
   "source": [
    "# Add Poisson noise and threshold\n",
    "from scipy.stats import poisson\n",
    "\n",
    "X_noisy = np.copy(X)\n",
    "# X_noisy = X_noisy[:,:]\n",
    "X_noisy = X_noisy + poisson.rvs(400, loc=0, size=X_noisy.shape)\n",
    "X_noisy = np.uint8(X_noisy/np.max(X_noisy)*256)\n",
    "imageio.imwrite('noisy_cell.png', X_noisy)\n",
    "\n",
    "X_noisy_filtered = ndimage.gaussian_laplace(X_noisy, sigma=2)\n",
    "X_noisy_filtered[X_noisy_filtered < 0 ] = 0\n",
    "X_noisy_filtered = X_noisy_filtered/np.max(X_noisy_filtered)\n",
    "imageio.imwrite('noisy_cell_filtered.png', X1)\n",
    "\n",
    "\n",
    "# thresholds = np.linspace(0.5, 1, 100)\n",
    "# nspots = np.zeros((100,))\n",
    "# for i in range(0,len(thresholds)):\n",
    "#     nspots[i] = count_spot(X1, thresholds[i])\n",
    "\n"
   ]
  },
  {
   "cell_type": "code",
   "execution_count": 43,
   "metadata": {},
   "outputs": [
    {
     "name": "stderr",
     "output_type": "stream",
     "text": [
      "Lossy conversion from float64 to uint8. Range [0, 1]. Convert image to uint8 prior to saving to suppress this warning.\n"
     ]
    },
    {
     "data": {
      "image/png": "[encoded data removed]",
      "text/plain": [
       "<Figure size 432x288 with 1 Axes>"
      ]
     },
     "metadata": {
      "needs_background": "light"
     },
     "output_type": "display_data"
    }
   ],
   "source": [
    "X_noisy_pixel = np.zeros((xsize//pixel_x, ysize//pixel_y, 3), dtype=int)\n",
    "\n",
    "for i in range(0, X_noisy_pixel.shape[0]):\n",
    "    for j in range(0, X_noisy_pixel.shape[1]):\n",
    "        for c in range(0,3):\n",
    "            X_noisy_pixel[i,j, c] = np.sum(F@X_noisy[i*pixel_x:(i+1)*pixel_x, j*pixel_y:(j+1)*pixel_y, c])\n",
    "X_noisy_pixel = X_noisy_pixel/np.max(X_noisy_pixel)\n",
    "# Y[Y<0.7] = 0\n",
    "plt.imshow(X_noisy_pixel)\n",
    "\n",
    "imageio.imwrite('low_res_noisy_cell.png', X_noisy_pixel)"
   ]
  },
  {
   "cell_type": "code",
   "execution_count": null,
   "metadata": {},
   "outputs": [],
   "source": []
  }
 ],
 "metadata": {
  "kernelspec": {
   "display_name": "CME",
   "language": "python",
   "name": "cme"
  },
  "language_info": {
   "codemirror_mode": {
    "name": "ipython",
    "version": 3
   },
   "file_extension": ".py",
   "mimetype": "text/x-python",
   "name": "python",
   "nbconvert_exporter": "python",
   "pygments_lexer": "ipython3",
   "version": "3.7.4"
  }
 },
 "nbformat": 4,
 "nbformat_minor": 2
}
