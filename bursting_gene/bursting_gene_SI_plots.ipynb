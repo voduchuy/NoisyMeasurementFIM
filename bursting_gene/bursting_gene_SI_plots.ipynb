{
 "cells": [
  {
   "cell_type": "code",
   "execution_count": 16,
   "metadata": {
    "pycharm": {
     "is_executing": false
    }
   },
   "outputs": [],
   "source": [
    "par_log_transform = True"
   ]
  },
  {
   "cell_type": "code",
   "execution_count": 17,
   "metadata": {
    "pycharm": {
     "is_executing": false
    },
    "slideshow": {
     "slide_type": "skip"
    }
   },
   "outputs": [],
   "source": [
    "import numpy as np\n",
    "import numpy.linalg as LA\n",
    "import matplotlib.pyplot as plt\n",
    "from matplotlib.ticker import FormatStrFormatter\n",
    "from utils.my_plotting_lib import plot_barcodes, plot_conf_ellipse\n",
    "\n",
    "from matplotlib import rc\n",
    "rc('text', usetex=True)\n",
    "rc('axes', labelsize=15)\n",
    "rc('axes', titlesize=18)\n",
    "rc('lines', linewidth=2)\n",
    "rc('xtick', labelsize=12)\n",
    "rc('ytick', labelsize=12)\n",
    "rc('figure', autolayout=True)"
   ]
  },
  {
   "cell_type": "code",
   "execution_count": 18,
   "metadata": {
    "pycharm": {
     "is_executing": false,
     "name": "#%% Load CME model and noise model parameters\n"
    },
    "slideshow": {
     "slide_type": "skip"
    }
   },
   "outputs": [],
   "source": [
    "with np.load('results/fsp_solutions.npz', allow_pickle=True) as fsp_sol_file:\n",
    "    rna_distributions = fsp_sol_file['rna_distributions']\n",
    "    rna_sensitivities = fsp_sol_file['rna_sensitivities']\n",
    "    t_meas = fsp_sol_file['t_meas']\n",
    "\n",
    "with np.load('results/fim_flowcyt.npz', allow_pickle=True) as f:\n",
    "    flowcyt_prob = f['flowcyt_prob']\n",
    "    \n",
    "with np.load('results/flowcyt_pars.npz') as f:\n",
    "    kappa=f['kappa']\n",
    "    sigma_probe=f['sigma_probe']\n",
    "    mu_bg=f['mu_bg']\n",
    "    sigma_bg=f['sigma_bg']\n",
    "\n",
    "with np.load('results/bursting_parameters.npz') as par:\n",
    "    k_on = par['kon']\n",
    "    k_off = par['koff']\n",
    "    k_r = par['kr']\n",
    "    gamma = par['gamma']\n",
    "\n",
    "theta = np.array([k_on, k_off, k_r, gamma])"
   ]
  },
  {
   "cell_type": "code",
   "execution_count": 19,
   "metadata": {
    "pycharm": {
     "is_executing": false,
     "name": "#%% Load single-cell, single-measurement FIMs\n"
    },
    "scrolled": true,
    "slideshow": {
     "slide_type": "fragment"
    }
   },
   "outputs": [],
   "source": [
    "fim_single_cell = dict()\n",
    "\n",
    "with np.load('results/fim_exact.npz') as data:\n",
    "    fim_single_cell['exact'] = data['fim_exact']\n",
    "\n",
    "with np.load('results/fim_binom.npz') as data:\n",
    "    fim_single_cell['binom'] = data['fim_binom']\n",
    "    \n",
    "with np.load('results/fim_lowres.npz') as data:\n",
    "    fim_single_cell['lowres'] = data['fim_lowres']  \n",
    "    \n",
    "with np.load('results/fim_composite.npz') as data:\n",
    "    fim_single_cell['composite'] = data['fim_composite']      \n",
    "\n",
    "with np.load('results/fim_flowcyt.npz') as data:\n",
    "    fim_single_cell['flowcyt'] = data['fim_flowcyt']\n",
    "\n",
    "if par_log_transform:\n",
    "    for fim in fim_single_cell.values():\n",
    "        for it in range(0, len(t_meas)):\n",
    "            for i in range(0,4):\n",
    "                for j in range(0,4):\n",
    "                    fim[it, i, j] *= theta[i]*theta[j]*np.log(10)*np.log(10)"
   ]
  },
  {
   "cell_type": "code",
   "execution_count": 20,
   "metadata": {
    "pycharm": {
     "is_executing": false,
     "name": "#%% Load the distortion operators\n"
    }
   },
   "outputs": [],
   "source": [
    "with np.load('results/flowcyt_C_matrix.npz') as file:\n",
    "    C_flowcyt=file['C_flowcyt']\n",
    "    yeval = file['yeval']\n",
    "    xmax_flowcyt= file['xmax']\n",
    "    \n",
    "with np.load('results/binom_C_matrix.npz') as file:\n",
    "    C_binom = file['C_binom']\n",
    "    xmax_binom = file['xmax']\n",
    "    ymax_binom = file['ymax']\n",
    "    \n",
    "with np.load('results/lowres_C_matrix.npz') as file:\n",
    "    C_lowres = file['C_lowres']\n",
    "    xmax_lowres = file['xmax']\n",
    "    ymax_lowres = file['ymax']    "
   ]
  },
  {
   "cell_type": "code",
   "execution_count": 21,
   "metadata": {
    "pycharm": {
     "is_executing": false
    }
   },
   "outputs": [],
   "source": [
    "def find_min_eigv(M):\n",
    "    w = np.linalg.eigvals(M)\n",
    "    return np.min(w)\n",
    "\n",
    "def find_trace(M):\n",
    "    return np.sum(np.diagonal(M))"
   ]
  },
  {
   "cell_type": "code",
   "execution_count": 22,
   "metadata": {
    "pycharm": {
     "is_executing": true,
     "name": "#%%\n"
    }
   },
   "outputs": [
    {
     "data": {
      "image/png": "[encoded data removed]",
      "text/plain": [
       "<Figure size 1080x180 with 6 Axes>"
      ]
     },
     "metadata": {
      "needs_background": "light"
     },
     "output_type": "display_data"
    }
   ],
   "source": [
    "with np.load('results/fim_multifi.npz') as file:\n",
    "    fim_multifi = file['fim_multifi']\n",
    "    p_grid = file['p_grid']\n",
    "    dt_array = file['dt_array']\n",
    "\n",
    "info_meas = ['dopt', 'eopt', 'aopt']    \n",
    "eval_funs = {'dopt': np.linalg.det, 'eopt': find_min_eigv, 'aopt': find_trace}\n",
    "info_colors = {'dopt': 'Reds', 'eopt': 'Greens', 'aopt': 'Blues'}\n",
    "info_labels = {'dopt': 'D-Optimality', 'eopt': 'E-Optimality', 'aopt': 'A-Optimality'}\n",
    "    \n",
    "landscapes = dict()    \n",
    "for key in info_meas:\n",
    "    landscapes[key] = np.zeros((fim_multifi.shape[0], fim_multifi.shape[1]))    \n",
    "    for i in range(landscapes[key].shape[0]):\n",
    "        for j in range(landscapes[key].shape[1]):\n",
    "            landscapes[key][i, j] = eval_funs[key](fim_multifi[i, j, :, :])                      \n",
    "\n",
    "import matplotlib.colors as colors\n",
    "fig, axs = plt.subplots(1, len(info_meas))\n",
    "fig.set_size_inches(5*len(info_meas),2.5)\n",
    "\n",
    "for i in range(0, len(info_meas)):\n",
    "    heatmap = axs[i].contourf(dt_array, p_grid, landscapes[info_meas[i]], cmap=plt.cm.get_cmap(info_colors[info_meas[i]]))\n",
    "    axs[i].set_xlabel(r'$\\Delta t$')\n",
    "    axs[i].set_ylabel('smFISH Fraction')\n",
    "    axs[i].grid()\n",
    "    fig.colorbar(heatmap, ax=axs[i], extend='both', label=info_labels[info_meas[i]])\n",
    "\n",
    "fig.savefig('figs/fim_multifi_heatmaps.pdf')"
   ]
  },
  {
   "cell_type": "code",
   "execution_count": 23,
   "metadata": {
    "pycharm": {
     "is_executing": true
    }
   },
   "outputs": [],
   "source": [
    "ncells_smfish = 1000\n",
    "ncells_flowcyt = 10000\n",
    "nfish_mix = 500\n",
    "nflow_mix = 5000\n",
    "fim_mix = np.zeros((len(t_meas), 4, 4))\n",
    "\n",
    "for it in range(0, len(t_meas)):\n",
    "    fim_mix[it,:,:] = nfish_mix*fim_single_cell['lowres'][it] + nflow_mix*fim_single_cell['flowcyt'][it]      \n",
    "\n",
    "fim_multi_cells = dict()\n",
    "fim_multi_cells['mix'] = fim_mix \n",
    "\n",
    "for meas_type in fim_single_cell.keys():    \n",
    "    fim_multi_cells[meas_type] = ncells_smfish*fim_single_cell[meas_type]\n",
    "fim_multi_cells['flowcyt'] = ncells_flowcyt*fim_single_cell['flowcyt']\n",
    " \n",
    "def compute_combined_fim(fim_array, dt, num_times):\n",
    "    t_idx = dt*np.linspace(1, num_times, num_times, dtype=int)\n",
    "    fim = fim_array[t_idx[0], :, :]\n",
    "    for i in range(1, len(t_idx)):\n",
    "        fim += fim_array[t_idx[i], :, :]\n",
    "    return fim\n",
    "\n",
    "num_times = 5\n",
    "dt_min = 1\n",
    "dt_max = int(np.floor(t_meas[-1]/num_times))\n",
    "dt_array = np.linspace(dt_min, dt_max, dt_max - dt_min +1, dtype=int)\n",
    "\n",
    "fim_multi_cells_times = dict()\n",
    "det_fim_multi_cells_times = dict()\n",
    "\n",
    "for meas_type in fim_multi_cells.keys():\n",
    "    combined_fim = np.zeros((len(dt_array), 4, 4))\n",
    "    det_comb_fim = np.zeros((len(dt_array),))\n",
    "    \n",
    "    for i in range(0, len(dt_array)):\n",
    "        combined_fim[i, :, :] = compute_combined_fim(fim_multi_cells[meas_type], dt_array[i],  num_times)           \n",
    "        det_comb_fim[i] = np.linalg.det(combined_fim[i,:,:])\n",
    "        \n",
    "    fim_multi_cells_times[meas_type] = combined_fim \n",
    "    det_fim_multi_cells_times[meas_type] = det_comb_fim "
   ]
  },
  {
   "cell_type": "code",
   "execution_count": 27,
   "metadata": {
    "pycharm": {
     "is_executing": true,
     "name": "#%%\n"
    }
   },
   "outputs": [
    {
     "name": "stderr",
     "output_type": "stream",
     "text": [
      "The PostScript backend does not support transparency; partially transparent artists will be rendered opaque.\n",
      "The PostScript backend does not support transparency; partially transparent artists will be rendered opaque.\n",
      "The PostScript backend does not support transparency; partially transparent artists will be rendered opaque.\n",
      "The PostScript backend does not support transparency; partially transparent artists will be rendered opaque.\n",
      "The PostScript backend does not support transparency; partially transparent artists will be rendered opaque.\n",
      "The PostScript backend does not support transparency; partially transparent artists will be rendered opaque.\n",
      "The PostScript backend does not support transparency; partially transparent artists will be rendered opaque.\n",
      "The PostScript backend does not support transparency; partially transparent artists will be rendered opaque.\n",
      "The PostScript backend does not support transparency; partially transparent artists will be rendered opaque.\n",
      "The PostScript backend does not support transparency; partially transparent artists will be rendered opaque.\n",
      "The PostScript backend does not support transparency; partially transparent artists will be rendered opaque.\n",
      "The PostScript backend does not support transparency; partially transparent artists will be rendered opaque.\n",
      "The PostScript backend does not support transparency; partially transparent artists will be rendered opaque.\n",
      "The PostScript backend does not support transparency; partially transparent artists will be rendered opaque.\n",
      "The PostScript backend does not support transparency; partially transparent artists will be rendered opaque.\n",
      "The PostScript backend does not support transparency; partially transparent artists will be rendered opaque.\n",
      "The PostScript backend does not support transparency; partially transparent artists will be rendered opaque.\n",
      "The PostScript backend does not support transparency; partially transparent artists will be rendered opaque.\n",
      "The PostScript backend does not support transparency; partially transparent artists will be rendered opaque.\n",
      "The PostScript backend does not support transparency; partially transparent artists will be rendered opaque.\n",
      "The PostScript backend does not support transparency; partially transparent artists will be rendered opaque.\n",
      "The PostScript backend does not support transparency; partially transparent artists will be rendered opaque.\n",
      "The PostScript backend does not support transparency; partially transparent artists will be rendered opaque.\n",
      "The PostScript backend does not support transparency; partially transparent artists will be rendered opaque.\n",
      "The PostScript backend does not support transparency; partially transparent artists will be rendered opaque.\n",
      "The PostScript backend does not support transparency; partially transparent artists will be rendered opaque.\n",
      "The PostScript backend does not support transparency; partially transparent artists will be rendered opaque.\n",
      "The PostScript backend does not support transparency; partially transparent artists will be rendered opaque.\n"
     ]
    },
    {
     "data": {
      "image/png": "[encoded data removed]",
      "text/plain": [
       "<Figure size 576x180 with 2 Axes>"
      ]
     },
     "metadata": {
      "needs_background": "light"
     },
     "output_type": "display_data"
    }
   ],
   "source": [
    "fig, axs = plt.subplots(1, 2)\n",
    "fig.set_size_inches(8,2.5)\n",
    "clrs = ['red', 'green', 'blue']\n",
    "for i in range(0, len(info_meas)):\n",
    "    idx_opt = np.argmax(landscapes[info_meas[i]])\n",
    "    imax, jmax = np.unravel_index(idx_opt, landscapes[info_meas[i]].shape)\n",
    "    M = fim_multifi[imax, jmax, :, :]\n",
    "    plot_conf_ellipse(M, 3, axs[0], [0,1], theta, color=clrs[i], label=info_labels[info_meas[i]])\n",
    "    plot_conf_ellipse(M, 3, axs[1], [2,3], theta, color=clrs[i], label=info_labels[info_meas[i]])\n",
    "\n",
    "axslabels = [{'x': '$\\log_{10}{k_{ON}}$', 'y': '$\\log_{10}{k_{OFF}}$'},\n",
    "            {'x': '$\\log_{10} k_r$', 'y': '$\\log_{10}\\gamma$'}]\n",
    "for i in range(0,len(axs)):\n",
    "    axs[i].set_xlabel(axslabels[i]['x'])\n",
    "    axs[i].set_ylabel(axslabels[i]['y'])\n",
    "    axs[i].grid()\n",
    "    \n",
    "h, l = axs[0].get_legend_handles_labels()\n",
    "fig.legend(h,l, bbox_to_anchor=(0,1,1,1), loc='lower center', ncol=3, shadow=True)\n",
    "fig.savefig('figs/multifi_ellipes.eps', bbox_inches='tight')"
   ]
  },
  {
   "cell_type": "code",
   "execution_count": 25,
   "metadata": {
    "pycharm": {
     "is_executing": true,
     "name": "#%%\n"
    }
   },
   "outputs": [],
   "source": [
    "opt_rates = dict()\n",
    "for meas in fim_multi_cells_times.keys():\n",
    "    opt_rates[meas] = np.argmax(det_fim_multi_cells_times[meas])"
   ]
  },
  {
   "cell_type": "code",
   "execution_count": 26,
   "metadata": {
    "pycharm": {
     "is_executing": true,
     "name": "#%%\n"
    }
   },
   "outputs": [],
   "source": [
    "# labels = {\n",
    "#         'exact': f'smFISH exact',\n",
    "#         'binom': f'smFISH missing spots',\n",
    "#         'lowres': f'smFISH low-resolution images',\n",
    "#         'flowcyt': f'Flow cytometry',\n",
    "#         'composite': f'smFISH low-resolution images with missing spots',\n",
    "#         'mix': f'Mix',\n",
    "# }\n",
    "# \n",
    "# colors = {\n",
    "#         'exact': f'red',\n",
    "#         'binom': f'blue',\n",
    "#         'lowres': f'orange',\n",
    "#         'flowcyt': f'darkgreen',\n",
    "#         'mix': f'magenta',\n",
    "#         'composite': f'k',\n",
    "# }\n",
    "#     \n",
    "# fig, axs = plt.subplots(1,3)\n",
    "# fig.set_size_inches(9, 3)\n",
    "# fig.set_tight_layout(True)\n",
    "# for meas in ['exact', 'binom', 'lowres', 'flowcyt', 'mix']:\n",
    "#     idx_opt = opt_rates[meas]\n",
    "#     fims = fim_multi_cells_times[meas]\n",
    "#     dets = det_fim_multi_cells_times[meas]\n",
    "#     \n",
    "#     axs[0].plot(dt_array, dets, label=labels[meas], color=colors[meas])\n",
    "#     axs[0].scatter(dt_array[idx_opt], dets[idx_opt],\n",
    "#                100,\n",
    "#                color=colors[meas], marker='*')\n",
    "#     plot_conf_ellipse(fims[idx_opt], 3, \n",
    "#                       axs[1], [1,0], colors[meas], '')\n",
    "#     plot_conf_ellipse(fims[idx_opt], 3, axs[2], [3,2], colors[meas], '')\n",
    "# \n",
    "# h, l = axs[0].get_legend_handles_labels()\n",
    "# fig.legend(h, l, bbox_to_anchor=(0, 1, 1, 1), loc='lower left', ncol=5)\n",
    "# axs[0].set_xlim([0, 60])\n",
    "# axs[0].set_xlabel('$\\Delta t$ (min)')\n",
    "# axs[0].set_ylabel('$\\mathop{det}(G_Y)$')\n",
    "# \n",
    "# for j in range(1, 3):\n",
    "#     axs[j].set_aspect('equal', 'datalim')\n",
    "# axs[1].set_ylabel('$\\log_{10}({k_{ON}})$')    \n",
    "# axs[1].set_xlabel('$\\log_{10}({k_{OFF}})$')\n",
    "# axs[2].set_ylabel('$\\log_{10}({k_{r}})$')    \n",
    "# axs[2].set_xlabel('$\\log_{10}({\\gamma})$')\n",
    "# \n",
    "# for ax in list(axs):\n",
    "#     ax.grid()\n",
    "# \n",
    "# axs[0].set_title('A')\n",
    "# axs[1].set_title('B')\n",
    "# axs[2].set_title('C')\n",
    "# \n",
    "# fig.savefig('figs/fim_dopt.pdf', bbox_inches='tight')"
   ]
  }
 ],
 "metadata": {
  "@webio": {
   "lastCommId": null,
   "lastKernelId": null
  },
  "celltoolbar": "Slideshow",
  "kernelspec": {
   "display_name": "CME",
   "language": "python",
   "name": "cme"
  },
  "language_info": {
   "codemirror_mode": {
    "name": "ipython",
    "version": 3
   },
   "file_extension": ".py",
   "mimetype": "text/x-python",
   "name": "python",
   "nbconvert_exporter": "python",
   "pygments_lexer": "ipython3",
   "version": "3.7.4"
  }
 },
 "nbformat": 4,
 "nbformat_minor": 2
}