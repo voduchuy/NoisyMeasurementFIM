{
 "cells": [
  {
   "cell_type": "code",
   "execution_count": 10,
   "metadata": {},
   "outputs": [],
   "source": [
    "par_log_transform = True"
   ]
  },
  {
   "cell_type": "code",
   "execution_count": 11,
   "metadata": {
    "slideshow": {
     "slide_type": "skip"
    }
   },
   "outputs": [],
   "source": [
    "import numpy as np\n",
    "import numpy.linalg as LA\n",
    "import matplotlib.pyplot as plt\n",
    "from matplotlib.ticker import FormatStrFormatter\n",
    "from matplotlib import rc\n",
    "import matplotlib.colors as colors\n",
    "from utils.my_plotting_lib import plot_barcodes, plot_conf_ellipse, label_axes\n",
    "from utils.fim_utils import computeCriteria, logTransform\n",
    "rc('text', usetex=True)"
   ]
  },
  {
   "cell_type": "code",
   "execution_count": 12,
   "metadata": {
    "slideshow": {
     "slide_type": "skip"
    }
   },
   "outputs": [],
   "source": [
    "labels = {\n",
    "        'exact': f'smFISH exact',\n",
    "        'binomial': f'smFISH missing spots',\n",
    "        'flowcyt': f'Flow cytometry',\n",
    "}\n",
    "\n",
    "colors = {\n",
    "        'exact': f'red',\n",
    "        'binomial': f'blue',\n",
    "        'flowcyt': f'darkgreen',\n",
    "}\n",
    "\n",
    "with np.load('results/fsp_solutions.npz', allow_pickle=True) as fsp_sol_file:\n",
    "    rna_distributions = fsp_sol_file['rna_distributions']\n",
    "    rna_sensitivities = fsp_sol_file['rna_sensitivities']\n",
    "    t_meas = fsp_sol_file['t_meas']\n",
    "\n",
    "with np.load('results/bursting_parameters.npz') as par:\n",
    "    kon = par['kon']\n",
    "    koff = par['koff']\n",
    "    alpha = par['alpha']\n",
    "    gamma = par['gamma']\n",
    "\n",
    "theta = np.array([kon, koff, alpha, gamma])"
   ]
  },
  {
   "cell_type": "code",
   "execution_count": 13,
   "metadata": {
    "pycharm": {
     "name": "#%%\n"
    },
    "scrolled": true,
    "slideshow": {
     "slide_type": "fragment"
    }
   },
   "outputs": [],
   "source": [
    "fim_single_cell = dict()\n",
    "\n",
    "for s in [\"exact\", \"binomial\"]:\n",
    "    with np.load(f'results/fim_{s}.npz') as data:\n",
    "        fim_single_cell[s] = data['fim']\n",
    "\n",
    "if par_log_transform:\n",
    "    for fim in fim_single_cell.values():\n",
    "        logTransform(fim, theta)"
   ]
  },
  {
   "cell_type": "markdown",
   "metadata": {
    "pycharm": {
     "name": "#%% md\n"
    }
   },
   "source": [
    "## Monte Carlo estimates for flowcytometry FIM"
   ]
  },
  {
   "cell_type": "code",
   "execution_count": 14,
   "outputs": [
    {
     "ename": "FileNotFoundError",
     "evalue": "[Errno 2] No such file or directory: 'results/fim_flowcyt.npz'",
     "output_type": "error",
     "traceback": [
      "\u001B[0;31m---------------------------------------------------------------------------\u001B[0m",
      "\u001B[0;31mFileNotFoundError\u001B[0m                         Traceback (most recent call last)",
      "\u001B[0;32m/var/folders/3m/mfkcqvp50y14vj21n2tcg4h80000gn/T/ipykernel_37101/1601422594.py\u001B[0m in \u001B[0;36m<module>\u001B[0;34m\u001B[0m\n\u001B[0;32m----> 1\u001B[0;31m \u001B[0;32mwith\u001B[0m \u001B[0mnp\u001B[0m\u001B[0;34m.\u001B[0m\u001B[0mload\u001B[0m\u001B[0;34m(\u001B[0m\u001B[0;34mf'results/fim_flowcyt.npz'\u001B[0m\u001B[0;34m)\u001B[0m \u001B[0;32mas\u001B[0m \u001B[0m_\u001B[0m\u001B[0;34m:\u001B[0m\u001B[0;34m\u001B[0m\u001B[0;34m\u001B[0m\u001B[0m\n\u001B[0m\u001B[1;32m      2\u001B[0m     \u001B[0mfim_flowcyts\u001B[0m \u001B[0;34m=\u001B[0m \u001B[0m_\u001B[0m\u001B[0;34m[\u001B[0m\u001B[0;34m'fim'\u001B[0m\u001B[0;34m]\u001B[0m\u001B[0;34m\u001B[0m\u001B[0;34m\u001B[0m\u001B[0m\n\u001B[1;32m      3\u001B[0m \u001B[0mfig\u001B[0m \u001B[0;34m=\u001B[0m \u001B[0mplt\u001B[0m\u001B[0;34m.\u001B[0m\u001B[0mfigure\u001B[0m\u001B[0;34m(\u001B[0m\u001B[0;34m)\u001B[0m\u001B[0;34m\u001B[0m\u001B[0;34m\u001B[0m\u001B[0m\n\u001B[1;32m      4\u001B[0m \u001B[0max\u001B[0m \u001B[0;34m=\u001B[0m \u001B[0mfig\u001B[0m\u001B[0;34m.\u001B[0m\u001B[0madd_subplot\u001B[0m\u001B[0;34m(\u001B[0m\u001B[0;34m)\u001B[0m\u001B[0;34m\u001B[0m\u001B[0;34m\u001B[0m\u001B[0m\n\u001B[1;32m      5\u001B[0m \u001B[0;32mfor\u001B[0m \u001B[0mi\u001B[0m \u001B[0;32min\u001B[0m \u001B[0mrange\u001B[0m\u001B[0;34m(\u001B[0m\u001B[0mfim_flowcyts\u001B[0m\u001B[0;34m.\u001B[0m\u001B[0mshape\u001B[0m\u001B[0;34m[\u001B[0m\u001B[0;36m0\u001B[0m\u001B[0;34m]\u001B[0m\u001B[0;34m)\u001B[0m\u001B[0;34m:\u001B[0m\u001B[0;34m\u001B[0m\u001B[0;34m\u001B[0m\u001B[0m\n",
      "\u001B[0;32m~/miniforge3/envs/cme/lib/python3.9/site-packages/numpy/lib/npyio.py\u001B[0m in \u001B[0;36mload\u001B[0;34m(file, mmap_mode, allow_pickle, fix_imports, encoding)\u001B[0m\n\u001B[1;32m    414\u001B[0m             \u001B[0mown_fid\u001B[0m \u001B[0;34m=\u001B[0m \u001B[0;32mFalse\u001B[0m\u001B[0;34m\u001B[0m\u001B[0;34m\u001B[0m\u001B[0m\n\u001B[1;32m    415\u001B[0m         \u001B[0;32melse\u001B[0m\u001B[0;34m:\u001B[0m\u001B[0;34m\u001B[0m\u001B[0;34m\u001B[0m\u001B[0m\n\u001B[0;32m--> 416\u001B[0;31m             \u001B[0mfid\u001B[0m \u001B[0;34m=\u001B[0m \u001B[0mstack\u001B[0m\u001B[0;34m.\u001B[0m\u001B[0menter_context\u001B[0m\u001B[0;34m(\u001B[0m\u001B[0mopen\u001B[0m\u001B[0;34m(\u001B[0m\u001B[0mos_fspath\u001B[0m\u001B[0;34m(\u001B[0m\u001B[0mfile\u001B[0m\u001B[0;34m)\u001B[0m\u001B[0;34m,\u001B[0m \u001B[0;34m\"rb\"\u001B[0m\u001B[0;34m)\u001B[0m\u001B[0;34m)\u001B[0m\u001B[0;34m\u001B[0m\u001B[0;34m\u001B[0m\u001B[0m\n\u001B[0m\u001B[1;32m    417\u001B[0m             \u001B[0mown_fid\u001B[0m \u001B[0;34m=\u001B[0m \u001B[0;32mTrue\u001B[0m\u001B[0;34m\u001B[0m\u001B[0;34m\u001B[0m\u001B[0m\n\u001B[1;32m    418\u001B[0m \u001B[0;34m\u001B[0m\u001B[0m\n",
      "\u001B[0;31mFileNotFoundError\u001B[0m: [Errno 2] No such file or directory: 'results/fim_flowcyt.npz'"
     ]
    }
   ],
   "source": [
    "with np.load(f'results/fim_flowcyt.npz') as _:\n",
    "    fim_flowcyts = _['fim']\n",
    "fig = plt.figure()\n",
    "ax = fig.add_subplot()\n",
    "for i in range(fim_flowcyts.shape[0]):\n",
    "    y = computeCriteria(fim_flowcyts[i, ...])\n",
    "    ax.plot(y, linewidth=0.5)\n",
    "fim_flowcyt = np.mean(fim_flowcyts, axis=0)\n",
    "y = computeCriteria(fim_flowcyt)\n",
    "logTransform(fim_flowcyt, theta)\n",
    "fim_single_cell[\"flowcyt\"] = fim_flowcyt"
   ],
   "metadata": {
    "collapsed": false,
    "pycharm": {
     "name": "#%%\n"
    }
   }
  },
  {
   "cell_type": "markdown",
   "metadata": {
    "pycharm": {
     "name": "#%% md\n"
    }
   },
   "source": [
    "## D-optimal sampling periods for different types of measurements"
   ]
  },
  {
   "cell_type": "code",
   "execution_count": null,
   "outputs": [],
   "source": [
    "ncells_smfish = 1000\n",
    "ncells_flowcyt = 1000\n",
    "\n",
    "fim_multi_cells = dict()\n",
    "\n",
    "for meas_type in fim_single_cell.keys():\n",
    "    fim_multi_cells[meas_type] = ncells_smfish*fim_single_cell[meas_type]\n",
    "fim_multi_cells['flowcyt'] = ncells_flowcyt*fim_single_cell['flowcyt']\n",
    "\n",
    "def compute_combined_fim(fim_array, dt, num_times):\n",
    "    t_idx = dt*np.linspace(1, num_times, num_times, dtype=int)\n",
    "    fim = fim_array[t_idx[0], :, :]\n",
    "    for i in range(1, len(t_idx)):\n",
    "        fim += fim_array[t_idx[i], :, :]\n",
    "    return fim\n",
    "\n",
    "num_times = 5\n",
    "dt_min = 1\n",
    "dt_max = int(np.floor(t_meas[-1]/num_times))\n",
    "dt_array = np.linspace(dt_min, dt_max, dt_max - dt_min +1, dtype=int)\n",
    "\n",
    "fim_multi_cells_times = dict()\n",
    "det_fim_multi_cells_times = dict()\n",
    "\n",
    "for meas_type in fim_multi_cells.keys():\n",
    "    combined_fim = np.zeros((len(dt_array), 4, 4))\n",
    "    det_comb_fim = np.zeros((len(dt_array),))\n",
    "\n",
    "    for i in range(0, len(dt_array)):\n",
    "        combined_fim[i, :, :] = compute_combined_fim(fim_multi_cells[meas_type], dt_array[i],  num_times)\n",
    "        det_comb_fim[i] = np.linalg.det(combined_fim[i,:,:])\n",
    "\n",
    "    fim_multi_cells_times[meas_type] = combined_fim\n",
    "    det_fim_multi_cells_times[meas_type] = det_comb_fim\n",
    "#\n",
    "opt_rates = dict()\n",
    "for meas in fim_multi_cells_times.keys():\n",
    "    opt_rates[meas] = np.argmax(det_fim_multi_cells_times[meas])\n",
    "    print(f\"Optimal sampling period for {meas} is {opt_rates[meas]} \"\n",
    "          f\"min with D-opt={det_fim_multi_cells_times[meas][opt_rates[meas]]}.\")\n",
    "\n",
    "DT_MAX = 70\n",
    "fig, axs = plt.subplots(1,3)\n",
    "fig.set_size_inches(9, 3)\n",
    "fig.set_tight_layout(True)\n",
    "for meas in ['exact', 'binomial', 'flowcyt']:\n",
    "    idx_opt = opt_rates[meas]\n",
    "    fims = fim_multi_cells_times[meas]\n",
    "    dets = det_fim_multi_cells_times[meas]\n",
    "    \n",
    "    axs[0].plot(dt_array, dets, label=labels[meas], color=colors[meas])\n",
    "    axs[0].scatter(dt_array[idx_opt],\n",
    "                   dets[idx_opt],\n",
    "               100,\n",
    "               color=colors[meas],\n",
    "                   marker='*')\n",
    "    plot_conf_ellipse(fims[idx_opt],\n",
    "                      3,\n",
    "                      axs[1],\n",
    "                      [1,0],\n",
    "                      theta,\n",
    "                      colors[meas], '')\n",
    "    plot_conf_ellipse(fims[idx_opt],\n",
    "                      3,\n",
    "                      axs[2],\n",
    "                      [3,2],\n",
    "                      theta, colors[meas], '')\n",
    "\n",
    "h, l = axs[0].get_legend_handles_labels()\n",
    "fig.legend(h, l, bbox_to_anchor=(0, 1, 1, 1), loc='lower left', ncol=5)\n",
    "axs[0].set_xlim([0, DT_MAX])\n",
    "axs[0].set_xlabel('$\\Delta t$ (min)')\n",
    "axs[0].set_ylabel('$\\mathop{det}(G_Y)$')\n",
    "\n",
    "for j in range(1, 3):\n",
    "    axs[j].set_aspect('equal', 'datalim')\n",
    "axs[1].set_ylabel('$\\log_{10}({k_{ON}})$')    \n",
    "axs[1].set_xlabel('$\\log_{10}({k_{OFF}})$')\n",
    "axs[2].set_ylabel('$\\log_{10}({k_{r}})$')    \n",
    "axs[2].set_xlabel('$\\log_{10}({\\gamma})$')\n",
    "\n",
    "for ax in list(axs):\n",
    "    ax.grid()\n",
    "label_axes(axs)\n",
    "fig.savefig('figs/fim_dopt.pdf', bbox_inches='tight')"
   ],
   "metadata": {
    "collapsed": false,
    "pycharm": {
     "name": "#%%\n"
    }
   }
  },
  {
   "cell_type": "markdown",
   "source": [
    "## Find the optimal mixture of smFISH and flow cytomtery experiments at the optimal sampling period of exact smFISH\n",
    "Could we further improve the precision of smFISH-based estimates by mixing in some flow-cytometry measurements?"
   ],
   "metadata": {
    "collapsed": false,
    "pycharm": {
     "name": "#%% md\n"
    }
   }
  },
  {
   "cell_type": "code",
   "execution_count": null,
   "outputs": [],
   "source": [
    "BUDGET_MAX = 1000.0\n",
    "SMFISH_COST = 1\n",
    "FLOWCYT_COST = 0.2\n",
    "\n",
    "DT_OPT = opt_rates[\"exact\"] # Optimze the previous design at the optimal rate of exact smFISH\n",
    "\n",
    "CRITERIA = \"d\"\n",
    "\n",
    "m_flowcyt = np.copy(fim_single_cell[\"flowcyt\"][DT_OPT,...])\n",
    "m_fish = np.copy(fim_single_cell[\"exact\"][DT_OPT,...])\n",
    "for i in range(1,5):\n",
    "    m_flowcyt += fim_single_cell[\"flowcyt\"][i*DT_OPT,...]\n",
    "    m_fish += fim_single_cell[\"exact\"][i*DT_OPT,...]\n",
    "\n",
    "obj_values = np.zeros(\n",
    "    (int(BUDGET_MAX/SMFISH_COST)+1,\n",
    "     int(BUDGET_MAX/FLOWCYT_COST)+1\n",
    "     )\n",
    ")\n",
    "for nfish in range(obj_values.shape[0]):\n",
    "    for nflowcyt in range(1+int((BUDGET_MAX-nfish*SMFISH_COST)/FLOWCYT_COST)):\n",
    "        obj_values[nfish, nflowcyt] = computeCriteria(nfish*m_fish + nflowcyt*m_flowcyt,\n",
    "                                                      criteria=CRITERIA)\n",
    "opt_mixture = np.unravel_index(np.argmax(obj_values), obj_values.shape)\n",
    "fim_mix_opt = opt_mixture[0]*m_fish + opt_mixture[1]*m_flowcyt\n",
    "\n",
    "print(f\"\"\"\n",
    "      The optimal mixture is {opt_mixture[0]} smFISH and\n",
    "      {opt_mixture[1]} flow-cytomtery measurements with D-opt value {np.max(obj_values)}.\n",
    "      \"\"\")"
   ],
   "metadata": {
    "collapsed": false,
    "pycharm": {
     "name": "#%%\n"
    }
   }
  },
  {
   "cell_type": "code",
   "execution_count": null,
   "outputs": [],
   "source": [
    "import matplotlib.colors as Colors\n",
    "\n",
    "fig, axs = plt.subplots(1,3)\n",
    "fig.set_size_inches(9, 3)\n",
    "fig.set_tight_layout(True)\n",
    "\n",
    "mixture_plot = axs[0].pcolorfast(obj_values, norm=Colors.LogNorm(vmin=1.0E16, vmax=6E17))\n",
    "fig.colorbar(mixture_plot, ax=axs[0], orientation='vertical', extend='min',\n",
    "             label=r\"D-opt criterion\")\n",
    "axs[0].scatter(opt_mixture[1], opt_mixture[0], 400, marker='*', color=\"blue\")\n",
    "axs[0].set_xlabel(\"Number of flow cytometry measurements\")\n",
    "axs[0].set_ylabel(\"Number of smFISH measurements\")\n",
    "\n",
    "for meas in ['exact', 'flowcyt']:\n",
    "    idx_opt = opt_rates[meas]\n",
    "    fims = fim_multi_cells_times[meas]\n",
    "    dets = det_fim_multi_cells_times[meas]\n",
    "\n",
    "    plot_conf_ellipse(fims[idx_opt],\n",
    "                      3,\n",
    "                      axs[1],\n",
    "                      [1,0],\n",
    "                      theta,\n",
    "                      colors[meas], f'Pure {labels[meas]}')\n",
    "    plot_conf_ellipse(fims[idx_opt],\n",
    "                      3,\n",
    "                      axs[2],\n",
    "                      [3,2],\n",
    "                      theta, colors[meas], f'Pure {meas}')\n",
    "plot_conf_ellipse(fim_mix_opt,\n",
    "                      3,\n",
    "                      axs[1],\n",
    "                      [1,0],\n",
    "                      theta,\n",
    "                      'blue', 'Optimal mixture')\n",
    "plot_conf_ellipse(fim_mix_opt,\n",
    "                  3,\n",
    "                  axs[2],\n",
    "                  [3,2],\n",
    "                  theta, 'blue', 'Optimal mixture')\n",
    "\n",
    "h, l = axs[1].get_legend_handles_labels()\n",
    "fig.legend(h, l, bbox_to_anchor=(0, 1, 1, 1), loc='lower right', ncol=5)\n",
    "\n",
    "for j in range(1, 3):\n",
    "    axs[j].set_aspect('equal', 'datalim')\n",
    "    axs[j].grid()\n",
    "axs[1].set_ylabel('$\\log_{10}({k_{ON}})$')\n",
    "axs[1].set_xlabel('$\\log_{10}({k_{OFF}})$')\n",
    "axs[2].set_ylabel('$\\log_{10}({k_{r}})$')\n",
    "axs[2].set_xlabel('$\\log_{10}({\\gamma})$')\n",
    "axs[0].grid()\n",
    "label_axes(axs)\n",
    "fig.savefig(\"figs/mixture_dopt.png\", dpi=300, bbox_inches=\"tight\")"
   ],
   "metadata": {
    "collapsed": false,
    "pycharm": {
     "name": "#%%\n"
    }
   }
  },
  {
   "cell_type": "markdown",
   "metadata": {
    "pycharm": {
     "name": "#%% md\n"
    }
   },
   "source": [
    "## Heatmaps for the probability kernels"
   ]
  },
  {
   "cell_type": "code",
   "execution_count": null,
   "outputs": [],
   "source": [
    "pdos = {}\n",
    "for s in [\"binomial\", \"flowcyt\"]:\n",
    "    with np.load(f'results/distortion_matrix_{s}.npz') as data:\n",
    "        pdos[s] = data['C']\n",
    "pdo_colors = [\"Oranges\", \"Greens\"]\n",
    "\n",
    "fig, axs = plt.subplots(1, 2)\n",
    "fig.set_size_inches(9, 2.5)\n",
    "fig.set_tight_layout(True)\n",
    "\n",
    "for i,s in enumerate(pdos.keys()):\n",
    "    C = pdos[s][:, :200]\n",
    "    p = axs[i].pcolorfast(C, norm=Colors.LogNorm(vmin=1.0E-6),\n",
    "                         cmap=plt.cm.get_cmap(pdo_colors[i]))\n",
    "    fig.colorbar(p, ax=axs[i], orientation='vertical', extend='min', label=r\"Conditional Probability\")\n",
    "\n",
    "for j in range(0,2):\n",
    "    axs[j].set_xlabel('True mRNA copy number')\n",
    "    axs[j].set_ylabel('Observed number of spots')\n",
    "axs[1].set_ylabel('Fluorescence intensity')\n",
    "\n",
    "models = ['smFISH missing spots', 'Flow cytometry']\n",
    "for j in range(0,2):\n",
    "    axs[j].set_title(rf'\\textbf{{{models[j]}}}')\n",
    "    axs[j].grid()\n",
    "\n",
    "fig.savefig('figs/kernel_maps.png', bbox_inches='tight', dpi=200)"
   ],
   "metadata": {
    "collapsed": false,
    "pycharm": {
     "name": "#%%\n"
    }
   }
  },
  {
   "cell_type": "markdown",
   "source": [
    "## Effects of distortion on the mRNA distribution"
   ],
   "metadata": {
    "collapsed": false,
    "pycharm": {
     "name": "#%% md\n"
    }
   }
  },
  {
   "cell_type": "code",
   "execution_count": null,
   "outputs": [],
   "source": [
    "t = 60\n",
    "\n",
    "p = rna_distributions[t]\n",
    "p_distorted = pdos[\"binomial\"][:len(p),:len(p)]@p\n",
    "\n",
    "fig, ax = plt.subplots(1,1)\n",
    "fig.set_size_inches(4,4)\n",
    "ax.plot(p, label=\"Exact measurement\", color=\"orange\")\n",
    "ax.plot(p_distorted, label=\"Distorted measurement\", color=\"red\")\n",
    "ax.legend()\n",
    "ax.grid()\n",
    "fig.savefig(\"figs/distorted_dists.pdf\", bbox_inches=\"tight\")\n",
    "\n"
   ],
   "metadata": {
    "collapsed": false,
    "pycharm": {
     "name": "#%%\n"
    }
   }
  }
 ],
 "metadata": {
  "@webio": {
   "lastCommId": null,
   "lastKernelId": null
  },
  "celltoolbar": "Slideshow",
  "kernelspec": {
   "name": "python3",
   "language": "python",
   "display_name": "Python 3"
  },
  "language_info": {
   "codemirror_mode": {
    "name": "ipython",
    "version": 3
   },
   "file_extension": ".py",
   "mimetype": "text/x-python",
   "name": "python",
   "nbconvert_exporter": "python",
   "pygments_lexer": "ipython3",
   "version": "3.7.4"
  }
 },
 "nbformat": 4,
 "nbformat_minor": 2
}