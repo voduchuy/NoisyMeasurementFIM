{
 "cells": [
  {
   "cell_type": "code",
   "execution_count": 1,
   "metadata": {
    "pycharm": {
     "is_executing": false
    }
   },
   "outputs": [],
   "source": [
    "from pypacmensl.sensitivity.multi_sinks import SensFspSolverMultiSinks\n",
    "import mpi4py.MPI as mpi\n",
    "import numpy as np\n",
    "import numpy.linalg as LA\n",
    "import matplotlib.pyplot as plt\n",
    "from scipy.stats import binom, poisson, norm\n",
    "from scipy.special import comb     \n",
    "from math import exp, log, sqrt\n",
    "from matplotlib.patches import Ellipse\n",
    "from numba import jit\n",
    "from matplotlib.ticker import FormatStrFormatter\n",
    "import ipywidgets as widgets\n",
    "import seaborn as sns\n",
    "\n",
    "\n",
    "sns.set(style='darkgrid')"
   ]
  },
  {
   "cell_type": "markdown",
   "metadata": {},
   "source": [
    "# Constitutive gene expression model\n"
   ]
  },
  {
   "cell_type": "markdown",
   "metadata": {},
   "source": [
    "The chemical master equation $\\frac{d}{dt}\\mathbf{p}(t) = \\mathbf{A}\\mathbf{p}(t)$"
   ]
  },
  {
   "cell_type": "code",
   "execution_count": 13,
   "metadata": {
    "pycharm": {
     "is_executing": false
    }
   },
   "outputs": [],
   "source": [
    "k_off = 0.15\n",
    "k_on = 0.05\n",
    "k_r = 5.0\n",
    "gamma = 0.05\n",
    "theta = np.array([k_off, k_on, k_r, gamma])\n",
    "\n",
    "SM = [[-1, 1, 0], [1, -1, 0], [0, 0, 1], [0, 0, -1]]\n",
    "X0 = [[1, 0, 0]]\n",
    "P0 = [1.0]\n",
    "S0 = [0.0]\n",
    "\n",
    "\n",
    "def dprop_t_factory(i):\n",
    "    def dprop_t(t, out):\n",
    "        out[:] = 0.0\n",
    "        out[i] = 1.0\n",
    "    return dprop_t\n",
    "\n",
    "\n",
    "dprop_t_list = []\n",
    "for i in range(0, 4):\n",
    "    dprop_t_list.append(dprop_t_factory(i))\n",
    "dprop_sparsity = np.eye(4, dtype=np.intc)\n",
    "\n",
    "\n",
    "def prop_t(t, out):\n",
    "    out[:] = theta[:]\n",
    "\n",
    "\n",
    "def prop_x(reaction, X, out):\n",
    "    if reaction == 0:\n",
    "        out[:] = X[:, 0]\n",
    "        return None\n",
    "    if reaction == 1:\n",
    "        out[:] = X[:, 1]\n",
    "        return None\n",
    "    if reaction == 2:\n",
    "        out[:] = X[:, 1]\n",
    "        return None\n",
    "    if reaction == 3:\n",
    "        out[:] = X[:, 2]\n",
    "        return None\n",
    "\n",
    "\n",
    "init_bounds = np.array([1, 1, 20])\n",
    "\n",
    "\n",
    "t_meas = np.linspace(0, 2*60, 121)\n"
   ]
  },
  {
   "cell_type": "markdown",
   "metadata": {},
   "source": [
    "# Sensitivity FSP solver\n"
   ]
  },
  {
   "cell_type": "code",
   "execution_count": 14,
   "metadata": {
    "pycharm": {
     "is_executing": false
    }
   },
   "outputs": [],
   "source": [
    "comm = mpi.COMM_SELF\n",
    "solver = SensFspSolverMultiSinks(comm)\n",
    "solver.SetModel(np.array(SM), prop_t, prop_x, dprop_t_list, [prop_x] * 4, dprop_sparsity)\n",
    "solver.SetVerbosity(2)\n",
    "solver.SetFspShape(constr_fun=None, constr_bound=init_bounds)\n",
    "solver.SetInitialDist(np.array(X0), np.array(P0), [np.array(S0)] * 4)\n",
    "solutions = solver.SolveTspan(t_meas, 1.0e-4)"
   ]
  },
  {
   "cell_type": "markdown",
   "metadata": {},
   "source": [
    "# Compute the RNA disribution over time and its sensitivity\n"
   ]
  },
  {
   "cell_type": "code",
   "execution_count": 15,
   "metadata": {
    "pycharm": {
     "is_executing": false
    }
   },
   "outputs": [],
   "source": [
    "rna_distributions = []\n",
    "rna_sensitivities = []\n",
    "for i in range(0, len(solutions)):\n",
    "    rna_distributions.append(solutions[i].Marginal(2))\n",
    "    sens_list = []\n",
    "    for iS in range(0, 4):\n",
    "        sens_list.append(solutions[i].SensMarginal(iS, 2))\n",
    "    rna_sensitivities.append(sens_list)\n",
    "        \n",
    "np.savez('fsp_solutions.npz', rna_distributions=rna_distributions, rna_sensitivities=rna_sensitivities, allow_pickle=True)    "
   ]
  },
  {
   "cell_type": "code",
   "execution_count": 16,
   "metadata": {
    "pycharm": {
     "is_executing": false
    }
   },
   "outputs": [],
   "source": [
    "fsp_sol_file = np.load('fsp_solutions.npz', allow_pickle=True)\n",
    "rna_distributions = fsp_sol_file['rna_distributions']\n",
    "rna_sensitivities = fsp_sol_file['rna_sensitivities']\n",
    "fsp_sol_file.close()"
   ]
  },
  {
   "cell_type": "code",
   "execution_count": 17,
   "metadata": {},
   "outputs": [],
   "source": [
    "# FIM for exact smFISH measurements\n",
    "fim_exact = np.zeros((len(t_meas), 4, 4))\n",
    "for itime in range(0, len(t_meas)):\n",
    "    M = np.zeros((4,4))\n",
    "    for ip in range(0, 4):\n",
    "        for jp in range(0, ip+1):\n",
    "            M[ip, jp] = np.sum(rna_sensitivities[itime][ip]*rna_sensitivities[itime][jp]/\n",
    "                               np.maximum(rna_distributions[itime], 1.0e-16))\n",
    "    M = 0.5*(M.T + M)\n",
    "    fim_exact[itime, : , :] = M\n",
    " \n",
    "np.savez('fim_exact.npz', fim_exact=fim_exact)"
   ]
  },
  {
   "cell_type": "markdown",
   "metadata": {},
   "source": [
    "# Simulate flow cytometry experiment"
   ]
  },
  {
   "cell_type": "code",
   "execution_count": 7,
   "metadata": {},
   "outputs": [],
   "source": [
    "kappa = 240\n",
    "mu_bg = 10\n",
    "sigma_bg = 20"
   ]
  },
  {
   "cell_type": "code",
   "execution_count": 19,
   "metadata": {},
   "outputs": [],
   "source": [
    "num_cells_flowcyt = 20000\n",
    "intensity_samples = np.zeros((len(t_meas), num_cells_flowcyt))\n",
    "\n",
    "for itime in range(0, len(t_meas)):\n",
    "    xmax = len(rna_distributions[itime])-1\n",
    "    nrna_samples = np.random.choice(xmax+1, size=(num_cells_flowcyt,), p= rna_distributions[itime]/np.sum(rna_distributions[itime]))\n",
    "    bg_noise = np.random.normal(loc=mu_bg, scale=sigma_bg, size=(num_cells_flowcyt,))\n",
    "    intensity_samples[itime, :] = kappa*nrna_samples + bg_noise"
   ]
  },
  {
   "cell_type": "markdown",
   "metadata": {},
   "source": [
    "# Modeling measurement noise with binomial distribution"
   ]
  },
  {
   "cell_type": "code",
   "execution_count": 20,
   "metadata": {
    "pycharm": {
     "is_executing": false
    }
   },
   "outputs": [],
   "source": [
    "def BinomialNoiseMatrix(n_max, p_success):\n",
    "    M = np.zeros((n_max + 1, n_max + 1))  \n",
    "    for j in range(0, n_max + 1):\n",
    "            M[:, j] = binom.pmf(np.linspace(0, n_max, n_max+1), j, p_success) \n",
    "    return M\n",
    "\n",
    "n_max = 200\n",
    "p_success = 0.1\n",
    "C_binom = BinomialNoiseMatrix(n_max, p_success)\n",
    "\n",
    "fim_binom = np.zeros((len(t_meas), 4, 4))\n",
    "for itime in range(0, len(t_meas)):\n",
    "    M = np.zeros((4,4))\n",
    "    xmax = len(rna_distributions[itime])-1\n",
    "    p = C_binom[0:xmax+1, 0:xmax+1]@rna_distributions[itime]\n",
    "    for ip in range(0, 4):\n",
    "        sip = C_binom[0:xmax+1, 0:xmax+1]@rna_sensitivities[itime][ip]\n",
    "        for jp in range(0, ip+1):\n",
    "            sjp = C_binom[0:xmax+1, 0:xmax+1]@rna_sensitivities[itime][jp]\n",
    "            M[ip, jp] = np.sum(sip*sjp/np.maximum(1.e-16, p))\n",
    "    M = 0.5*(M.T + M)\n",
    "    fim_binom[itime, :, :] = M\n",
    "np.savez('fim_binom.npz', fim_binom=fim_binom)\n"
   ]
  },
  {
   "cell_type": "markdown",
   "metadata": {},
   "source": [
    "# Modeling combinatorial noise from low image resolution"
   ]
  },
  {
   "cell_type": "code",
   "execution_count": 24,
   "metadata": {},
   "outputs": [],
   "source": [
    "num_pixels = 100 # number of pixels occupied by a typical cells\n",
    "\n",
    "def LowResNoiseMatrix(n_max):\n",
    "    M = np.zeros((n_max + 1, n_max + 1))  \n",
    "    M[0,0] = 1.0\n",
    "    for j in range(1, n_max + 1):\n",
    "            M[:, j] = comb(num_pixels, np.arange(0, n_max+1))*comb(j-1, np.arange(0,n_max+1)-1)/comb(num_pixels + j - 1, j)       \n",
    "    return M\n",
    "\n",
    "n_max = 200\n",
    "C_lowres = LowResNoiseMatrix(n_max)\n",
    "\n",
    "fim_lowres = np.zeros((len(t_meas), 4, 4))\n",
    "for itime in range(0, len(t_meas)):\n",
    "    M = np.zeros((4,4))\n",
    "    xmax = len(rna_distributions[itime])-1\n",
    "    p = C_lowres[0:xmax+1, 0:xmax+1]@rna_distributions[itime]\n",
    "    for ip in range(0, 4):\n",
    "        sip = C_lowres[0:xmax+1, 0:xmax+1]@rna_sensitivities[itime][ip]\n",
    "        for jp in range(0, ip+1):\n",
    "            sjp = C_lowres[0:xmax+1, 0:xmax+1]@rna_sensitivities[itime][jp]\n",
    "            M[ip, jp] = np.sum(sip*sjp/np.maximum(1.e-16, p))\n",
    "    M = 0.5*(M.T + M)\n",
    "    fim_lowres[itime, :, :] = M\n",
    "np.savez('fim_lowres.npz', fim_lowres=fim_lowres)"
   ]
  },
  {
   "cell_type": "code",
   "execution_count": 33,
   "metadata": {},
   "outputs": [
    {
     "data": {
      "text/plain": [
       "[<matplotlib.lines.Line2D at 0x1235b5950>]"
      ]
     },
     "execution_count": 33,
     "metadata": {},
     "output_type": "execute_result"
    },
    {
     "data": {
      "image/png": "[encoded data removed]",
      "text/plain": [
       "<Figure size 432x288 with 1 Axes>"
      ]
     },
     "metadata": {
      "needs_background": "light"
     },
     "output_type": "display_data"
    }
   ],
   "source": [
    "plt.plot(C_lowres[:,100])"
   ]
  },
  {
   "cell_type": "code",
   "execution_count": 49,
   "metadata": {},
   "outputs": [
    {
     "data": {
      "application/vnd.jupyter.widget-view+json": {
       "model_id": "c796540f6e3742d9bb4ee4dd854e7e71",
       "version_major": 2,
       "version_minor": 0
      },
      "text/plain": [
       "interactive(children=(IntSlider(value=0, description='Time:', max=120), Output()), _dom_classes=('widget-inter…"
      ]
     },
     "metadata": {},
     "output_type": "display_data"
    }
   ],
   "source": [
    "time_slider = widgets.IntSlider(value=0, min=0, max=len(t_meas)-1, step=1, description='Time:')\n",
    "\n",
    "def plot_rna_dist_sens(itime):\n",
    "    fig_smfish = plt.figure()\n",
    "    fig_smfish.set_tight_layout(True)\n",
    "    gs = fig_smfish.add_gridspec(3, 2)\n",
    "    xmax = len(rna_distributions[itime])-1\n",
    "    p_binom = C_binom[0:xmax+1, 0:xmax+1]@rna_distributions[itime]\n",
    "    p_lowres = C_lowres[0:xmax+1, 0:xmax+1]@rna_distributions[itime]\n",
    "    \n",
    "    fig_smfish.suptitle(f't = {t_meas[itime]:.2f}')\n",
    "    ax0 = fig_smfish.add_subplot(gs[0, :])\n",
    "    ax0.plot(np.arange(0, xmax+1), rna_distributions[itime], label='True')\n",
    "    ax0.plot(np.arange(0, xmax+1), p_binom, color='orange', linestyle=':', label='Lossy')\n",
    "    ax0.plot(np.arange(0, xmax+1), p_lowres, color='magenta', label='Low-resolution')\n",
    "    ax0.set_xlabel('RNA molecule count')\n",
    "    ax0.set_ylabel('Probability')\n",
    "    ax0.legend()\n",
    "    \n",
    "    for ip in range(0,4):\n",
    "        sip_binom = C_binom[0:xmax+1, 0:xmax+1]@rna_sensitivities[itime][ip]        \n",
    "        sip_lowres = C_lowres[0:xmax+1, 0:xmax+1]@rna_sensitivities[itime][ip]\n",
    "        ax1 = fig_smfish.add_subplot(gs[1 + ip // 2, ip % 2])\n",
    "        ax1.plot(np.arange(0, xmax+1), rna_sensitivities[itime][ip])\n",
    "        ax1.plot(np.arange(0, xmax+1), sip_binom, color='orange', linestyle=':')\n",
    "        ax1.plot(np.arange(0, xmax+1), sip_lowres, color='magenta')\n",
    "        ax1.set_xlabel('RNA molecule count')\n",
    "    \n",
    "    fig_flowcyt, ax = plt.subplots(1,1)\n",
    "    sns.distplot(intensity_samples[itime, :], ax=ax)\n",
    "    ax.set_xlabel('Intensity (AU)')\n",
    "    ax.set_ylabel('Probability')\n",
    "    \n",
    "#     return fig_smfish, fig_flowcyt\n",
    "\n",
    "\n",
    "widgets.interactive(plot_rna_dist_sens, itime=time_slider)"
   ]
  },
  {
   "cell_type": "markdown",
   "metadata": {},
   "source": [
    "# Uncertainties in eigendirections for different experiment types with one-shot design"
   ]
  },
  {
   "cell_type": "code",
   "execution_count": 43,
   "metadata": {
    "pycharm": {
     "is_executing": false
    }
   },
   "outputs": [
    {
     "data": {
      "application/vnd.jupyter.widget-view+json": {
       "model_id": "dde5df4eacac47e49a912bd18298b356",
       "version_major": 2,
       "version_minor": 0
      },
      "text/plain": [
       "interactive(children=(IntSlider(value=0, description='Time:', max=120), Output()), _dom_classes=('widget-inter…"
      ]
     },
     "metadata": {},
     "output_type": "display_data"
    }
   ],
   "source": [
    "num_cells_flowcyt = 200000\n",
    "num_cells_smfish = 200\n",
    "\n",
    "with np.load('fim_exact.npz') as data:\n",
    "    fim_exact = data['fim_exact']\n",
    "\n",
    "with np.load('fim_binom.npz') as data:\n",
    "    fim_binom = data['fim_binom']\n",
    "    \n",
    "with np.load('fim_lowres.npz') as data:\n",
    "    fim_flowcyt = data['fim_lowres']    \n",
    "    \n",
    "with np.load('fim_flowcyt_rep0.npz') as data:\n",
    "    fim_flowcyt = data['fim_flowcyt']\n",
    "    \n",
    "def plot_uncertainties(itime):\n",
    "\n",
    "    [eigval, eigvec] = np.linalg.eig(num_cells_smfish*fim_exact[itime,:,:])\n",
    "    uncertainties_exact = 1/np.sqrt(eigval)\n",
    "\n",
    "    [eigval, eigvec] = np.linalg.eig(num_cells_smfish*fim_binom[itime, :, :])\n",
    "    uncertainties_binom = 1/np.sqrt(eigval)\n",
    "    \n",
    "    [eigval, eigvec] = np.linalg.eig(num_cells_smfish*fim_lowres[itime, :, :])\n",
    "    uncertainties_lowres = 1/np.sqrt(eigval)    \n",
    "\n",
    "    [eigval, eigvec] = np.linalg.eig(num_cells_flowcyt*fim_flowcyt[itime, :, :])\n",
    "    uncertainties_flowcyt = 1/np.sqrt(eigval)\n",
    "\n",
    "    fig = plt.figure()\n",
    "    fig.set_tight_layout(True)\n",
    "    ax = fig.add_subplot(1,1,1)\n",
    "    ax.hlines(uncertainties_exact, xmin = 1.75, xmax = 2.25, color='red', linewidth=2)\n",
    "    ax.hlines(uncertainties_binom, xmin = 2.75, xmax = 3.25, color='red', linewidth=2)\n",
    "    ax.hlines(uncertainties_lowres, xmin = 3.75, xmax = 4.25, color='red', linewidth=2)\n",
    "    ax.hlines(uncertainties_flowcyt, xmin = 4.75, xmax = 5.25, color='red', linewidth=2)\n",
    "    ax.set_yscale('log')\n",
    "    ax.set_xticks([2, 3, 4, 5])\n",
    "    ax.set_xticklabels([f'smFISH \\n Noise-free \\n {num_cells_smfish} cells', \n",
    "                        f'smFISH \\n Lossy spot \\n {num_cells_smfish} cells',\n",
    "                        f'smFISH \\n Low resolution \\n {num_cells_smfish} cells',\n",
    "                        f'flow cytometry \\n Additive noise \\n {num_cells_flowcyt} cells'])\n",
    "    ax.set_ylabel('Uncertainty')\n",
    "    fig.suptitle(f'One-shot experimental design \\n t = {t_meas[itime]:.2f} \\n')\n",
    "    \n",
    "time_slider = widgets.IntSlider(value=0, min=0, max=len(t_meas)-1, step=1, description='Time:')\n",
    "widgets.interactive(plot_uncertainties, itime=time_slider)"
   ]
  },
  {
   "cell_type": "code",
   "execution_count": 42,
   "metadata": {},
   "outputs": [
    {
     "data": {
      "text/plain": [
       "<matplotlib.legend.Legend at 0x1255ef950>"
      ]
     },
     "execution_count": 42,
     "metadata": {},
     "output_type": "execute_result"
    },
    {
     "data": {
      "image/png": "[encoded data removed]",
      "text/plain": [
       "<Figure size 432x288 with 1 Axes>"
      ]
     },
     "metadata": {
      "needs_background": "light"
     },
     "output_type": "display_data"
    }
   ],
   "source": [
    "# Information volume across time of different measurement types\n",
    "num_cells_flowcyt = 20000\n",
    "num_cells_smfish = 200\n",
    "\n",
    "with np.load('fim_exact.npz') as data:\n",
    "    fim_exact = data['fim_exact']\n",
    "\n",
    "with np.load('fim_binom.npz') as data:\n",
    "    fim_binom = data['fim_binom']\n",
    "    \n",
    "with np.load('fim_lowres.npz') as data:\n",
    "    fim_flowcyt = data['fim_lowres']     \n",
    "    \n",
    "with np.load('fim_flowcyt_rep0.npz') as data:\n",
    "    fim_flowcyt = data['fim_flowcyt']\n",
    "    \n",
    "nt = fim_flowcyt.shape[0]\n",
    "    \n",
    "fimdet_exact = np.zeros((nt,))\n",
    "fimdet_binom = np.zeros((nt,))\n",
    "fimdet_lowres = np.zeros((nt,))\n",
    "fimdet_flowcyt = np.zeros((nt,))\n",
    "\n",
    "for i in range(0, nt):\n",
    "    fimdet_exact[i] = np.linalg.det(num_cells_smfish*fim_exact[i,:,:])\n",
    "    fimdet_binom[i] = np.linalg.det(num_cells_smfish*fim_binom[i,:,:])\n",
    "    fimdet_lowres[i] = np.linalg.det(num_cells_smfish*fim_lowres[i,:,:])\n",
    "    fimdet_flowcyt[i] = np.linalg.det(num_cells_flowcyt*fim_flowcyt[i,:,:])\n",
    "\n",
    "fig, ax = plt.subplots(1,1)\n",
    "ax.plot(t_meas, fimdet_exact, label='Exact smFISH')\n",
    "ax.plot(t_meas, fimdet_binom, label='Lossy smFISH')\n",
    "ax.plot(t_meas, fimdet_lowres, label='Low resolution smFISH')\n",
    "ax.plot(t_meas, fimdet_flowcyt, label='Flow cytometry')\n",
    "ax.set_yscale('log')\n",
    "ax.set_ylabel('D-opt objective')\n",
    "ax.set_xlabel('Measurement time')\n",
    "ax.legend()"
   ]
  }
 ],
 "metadata": {
  "@webio": {
   "lastCommId": null,
   "lastKernelId": null
  },
  "kernelspec": {
   "display_name": "CME",
   "language": "python",
   "name": "cme"
  },
  "language_info": {
   "codemirror_mode": {
    "name": "ipython",
    "version": 3
   },
   "file_extension": ".py",
   "mimetype": "text/x-python",
   "name": "python",
   "nbconvert_exporter": "python",
   "pygments_lexer": "ipython3",
   "version": "3.7.4"
  },
  "pycharm": {
   "stem_cell": {
    "cell_type": "raw",
    "metadata": {
     "collapsed": false
    },
    "source": []
   }
  }
 },
 "nbformat": 4,
 "nbformat_minor": 2
}
