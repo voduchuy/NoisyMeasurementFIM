{
 "cells": [
  {
   "cell_type": "code",
   "execution_count": 103,
   "metadata": {},
   "outputs": [
    {
     "data": {
      "text/html": [
       "\n",
       "<script>\n",
       "  function code_toggle() {\n",
       "    if (code_shown){\n",
       "      $('div.input').hide('500');\n",
       "      $('#toggleButton').val('Show Code')\n",
       "    } else {\n",
       "      $('div.input').show('500');\n",
       "      $('#toggleButton').val('Hide Code')\n",
       "    }\n",
       "    code_shown = !code_shown\n",
       "  }\n",
       "\n",
       "  $( document ).ready(function(){\n",
       "    code_shown=false;\n",
       "    $('div.input').hide()\n",
       "  });\n",
       "</script>\n",
       "<form action=\"javascript:code_toggle()\"><input type=\"submit\" id=\"toggleButton\" value=\"Show Code\"></form>\n"
      ],
      "text/plain": [
       "<IPython.core.display.HTML object>"
      ]
     },
     "execution_count": 103,
     "metadata": {},
     "output_type": "execute_result"
    }
   ],
   "source": [
    "from IPython.display import HTML\n",
    "\n",
    "HTML('''\n",
    "<script>\n",
    "  function code_toggle() {\n",
    "    if (code_shown){\n",
    "      $('div.input').hide('500');\n",
    "      $('#toggleButton').val('Show Code')\n",
    "    } else {\n",
    "      $('div.input').show('500');\n",
    "      $('#toggleButton').val('Hide Code')\n",
    "    }\n",
    "    code_shown = !code_shown\n",
    "  }\n",
    "\n",
    "  $( document ).ready(function(){\n",
    "    code_shown=false;\n",
    "    $('div.input').hide()\n",
    "  });\n",
    "</script>\n",
    "<form action=\"javascript:code_toggle()\"><input type=\"submit\" id=\"toggleButton\" value=\"Show Code\"></form>\n",
    "''')"
   ]
  },
  {
   "cell_type": "markdown",
   "metadata": {
    "slideshow": {
     "slide_type": "skip"
    }
   },
   "source": [
    "# Adjustable measurement noise parameters"
   ]
  },
  {
   "cell_type": "markdown",
   "metadata": {
    "slideshow": {
     "slide_type": "skip"
    }
   },
   "source": [
    "You can adjust the chance for a spot to be visible here:"
   ]
  },
  {
   "cell_type": "code",
   "execution_count": 104,
   "metadata": {
    "slideshow": {
     "slide_type": "skip"
    }
   },
   "outputs": [],
   "source": [
    "p_success = 0.1"
   ]
  },
  {
   "cell_type": "markdown",
   "metadata": {
    "slideshow": {
     "slide_type": "skip"
    }
   },
   "source": [
    "You can adjust the number of pixels occupied by a single cell here:"
   ]
  },
  {
   "cell_type": "code",
   "execution_count": 105,
   "metadata": {
    "slideshow": {
     "slide_type": "skip"
    }
   },
   "outputs": [],
   "source": [
    "num_pixels = 16 # number of pixels occupied by a typical cells"
   ]
  },
  {
   "cell_type": "markdown",
   "metadata": {
    "slideshow": {
     "slide_type": "skip"
    }
   },
   "source": [
    "We will always assumed that parameter search is done in log10-transformed domain. This means that the FIM needs to be transformed accordingly."
   ]
  },
  {
   "cell_type": "code",
   "execution_count": 106,
   "metadata": {
    "slideshow": {
     "slide_type": "skip"
    }
   },
   "outputs": [],
   "source": [
    "par_log_transform = True"
   ]
  },
  {
   "cell_type": "markdown",
   "metadata": {
    "slideshow": {
     "slide_type": "skip"
    }
   },
   "source": [
    "See the description below for the meaning of these parameters."
   ]
  },
  {
   "cell_type": "code",
   "execution_count": 107,
   "metadata": {
    "pycharm": {
     "is_executing": false
    },
    "slideshow": {
     "slide_type": "skip"
    }
   },
   "outputs": [],
   "source": [
    "from pypacmensl.sensitivity.multi_sinks import SensFspSolverMultiSinks\n",
    "import mpi4py.MPI as mpi\n",
    "import numpy as np\n",
    "\n",
    "import numpy.linalg as LA\n",
    "import matplotlib.pyplot as plt\n",
    "import matplotlib.patches as patches\n",
    "from scipy.stats import binom, poisson, norm\n",
    "from scipy.special import comb     \n",
    "from math import exp, log, sqrt\n",
    "\n",
    "from matplotlib.patches import Ellipse\n",
    "from matplotlib.ticker import FormatStrFormatter\n",
    "import ipywidgets as widgets\n",
    "\n",
    "# For nice plots\n",
    "import seaborn as sns\n",
    "sns.set(style='darkgrid')"
   ]
  },
  {
   "cell_type": "markdown",
   "metadata": {
    "slideshow": {
     "slide_type": "skip"
    }
   },
   "source": [
    "# Constitutive gene expression model\n"
   ]
  },
  {
   "cell_type": "markdown",
   "metadata": {
    "slideshow": {
     "slide_type": "skip"
    }
   },
   "source": [
    "We will load the time-dependent probability distribution of RNA count from the precomputed FSP solutions. If you want to make changes to the model parameters, please adjust and run the script 'const_gene_expr_fsp.py' again."
   ]
  },
  {
   "cell_type": "code",
   "execution_count": 108,
   "metadata": {
    "pycharm": {
     "is_executing": false
    },
    "slideshow": {
     "slide_type": "skip"
    }
   },
   "outputs": [],
   "source": [
    "fsp_sol_file = np.load('fsp_solutions.npz', allow_pickle=True)\n",
    "rna_distributions = fsp_sol_file['rna_distributions']\n",
    "rna_sensitivities = fsp_sol_file['rna_sensitivities']\n",
    "t_meas = fsp_sol_file['t_meas']\n",
    "fsp_sol_file.close()\n",
    "\n",
    "with np.load('bursting_parameters.npz') as par:\n",
    "    k_on = par['kon']\n",
    "    k_off = par['koff']\n",
    "    k_r = par['kr']\n",
    "    gamma = par['gamma']\n",
    "\n",
    "theta = np.array([k_on, k_off, k_r, gamma])"
   ]
  },
  {
   "cell_type": "markdown",
   "metadata": {
    "slideshow": {
     "slide_type": "skip"
    }
   },
   "source": [
    "## Exact smFISH measurement FIM"
   ]
  },
  {
   "cell_type": "code",
   "execution_count": 109,
   "metadata": {
    "slideshow": {
     "slide_type": "skip"
    }
   },
   "outputs": [],
   "source": [
    "# FIM for exact smFISH measurements\n",
    "fim_exact = np.zeros((len(t_meas), 4, 4))\n",
    "for itime in range(0, len(t_meas)):\n",
    "    M = np.zeros((4,4))\n",
    "    for ip in range(0, 4):\n",
    "        for jp in range(0, ip+1):\n",
    "            M[ip, jp] = np.sum(rna_sensitivities[itime][ip]*rna_sensitivities[itime][jp]/\n",
    "                               np.maximum(rna_distributions[itime], 1.0e-16))\n",
    "    for ip in range(0,4):\n",
    "        for jp in range(ip+1,4):\n",
    "            M[ip, jp] = M[jp, ip]\n",
    "    fim_exact[itime, : , :] = M\n",
    " \n",
    "np.savez('fim_exact.npz', fim_exact=fim_exact)"
   ]
  },
  {
   "cell_type": "markdown",
   "metadata": {
    "slideshow": {
     "slide_type": "slide"
    }
   },
   "source": [
    "## Simulate flow cytometry experimental outcomes"
   ]
  },
  {
   "cell_type": "markdown",
   "metadata": {
    "slideshow": {
     "slide_type": "fragment"
    }
   },
   "source": [
    "We assume the measured intensity $I$ (in AU) is linked to the actual number of mRNA molecules via the formula\n",
    "$$I = \\kappa \\cdot n_{RNA} + \\eta_n + \\varepsilon_{BG}$$\n",
    "where $\\kappa$ is a scaling constant, $\\eta_n \\sim \\mathcal{N}(0, \\sigma^2_{probe}\\cdot n)$ is the noise due to variation in probe intensity, and\n",
    "$\\varepsilon_{BG} \\sim \\mathcal{N}(\\mu_{BG}, \\sigma^2_{BG})$ is the background noise. \n",
    "\n",
    "Recent publications ignore $\\sigma_{probe}$, so I will consider the simplified model\n",
    "$$I = \\kappa \\cdot n_{RNA} \\varepsilon_{BG}.$$"
   ]
  },
  {
   "cell_type": "code",
   "execution_count": 110,
   "metadata": {
    "slideshow": {
     "slide_type": "notes"
    }
   },
   "outputs": [],
   "source": [
    "with np.load('flowcyt_noise_parameters.npz') as par:\n",
    "    kappa = par['kappa'] \n",
    "    mu_bg = par['mu_bg'] \n",
    "    sigma_bg = par['sigma_bg']"
   ]
  },
  {
   "cell_type": "code",
   "execution_count": 111,
   "metadata": {
    "slideshow": {
     "slide_type": "notes"
    }
   },
   "outputs": [],
   "source": [
    "num_cells_flowcyt = 20000\n",
    "intensity_samples = np.zeros((len(t_meas), num_cells_flowcyt))\n",
    "\n",
    "for itime in range(0, len(t_meas)):\n",
    "    xmax = len(rna_distributions[itime])-1\n",
    "    nrna_samples = np.random.choice(xmax+1, size=(num_cells_flowcyt,), p= rna_distributions[itime]/np.sum(rna_distributions[itime]))\n",
    "    bg_noise = np.random.normal(loc=mu_bg, scale=sigma_bg, size=(num_cells_flowcyt,))\n",
    "    intensity_samples[itime, :] = kappa*nrna_samples + bg_noise"
   ]
  },
  {
   "cell_type": "markdown",
   "metadata": {
    "slideshow": {
     "slide_type": "slide"
    }
   },
   "source": [
    "## Modeling measurement noise with binomial distribution"
   ]
  },
  {
   "cell_type": "markdown",
   "metadata": {
    "slideshow": {
     "slide_type": "fragment"
    }
   },
   "source": [
    "The first noise we consider is that coming from inefficient probe binding, leading to the number of visible spots being lower than the actual mRNA copy number in the cell. \n",
    "\n",
    "Let $p_{bind}$ be the probability that a given mRNA molecule become visible, the number of spots recorded conditioned on the number of actual mRNA then follows a binomial distribution.\n",
    "\n",
    "We will call this the \"lossy\" smFISH measurement."
   ]
  },
  {
   "cell_type": "code",
   "execution_count": 112,
   "metadata": {
    "pycharm": {
     "is_executing": false
    },
    "slideshow": {
     "slide_type": "notes"
    }
   },
   "outputs": [],
   "source": [
    "def BinomialNoiseMatrix(n_max, p_success):\n",
    "    M = np.zeros((n_max + 1, n_max + 1))  \n",
    "    for j in range(0, n_max + 1):\n",
    "            M[:, j] = binom.pmf(np.linspace(0, n_max, n_max+1), j, p_success) \n",
    "    return M\n",
    "\n",
    "n_max = 200\n",
    "C_binom = BinomialNoiseMatrix(n_max, p_success)\n",
    "\n",
    "fim_binom = np.zeros((len(t_meas), 4, 4))\n",
    "for itime in range(0, len(t_meas)):\n",
    "    M = np.zeros((4,4))\n",
    "    xmax = len(rna_distributions[itime])-1\n",
    "    p = C_binom[0:xmax+1, 0:xmax+1]@rna_distributions[itime]\n",
    "    for ip in range(0, 4):\n",
    "        sip = C_binom[0:xmax+1, 0:xmax+1]@rna_sensitivities[itime][ip]\n",
    "        for jp in range(0, ip+1):\n",
    "            sjp = C_binom[0:xmax+1, 0:xmax+1]@rna_sensitivities[itime][jp]\n",
    "            M[ip, jp] = np.sum(sip*sjp/np.maximum(1.e-16, p))\n",
    "    for ip in range(0,4):\n",
    "        for jp in range(ip+1,4):\n",
    "            M[ip, jp] = M[jp, ip]\n",
    "    fim_binom[itime, :, :] = M\n",
    "np.savez('fim_binom.npz', fim_binom=fim_binom)\n"
   ]
  },
  {
   "cell_type": "markdown",
   "metadata": {
    "slideshow": {
     "slide_type": "slide"
    }
   },
   "source": [
    "## Modeling combinatorial noise from low image resolution"
   ]
  },
  {
   "cell_type": "markdown",
   "metadata": {
    "slideshow": {
     "slide_type": "fragment"
    }
   },
   "source": [
    "We consider spot miscounting due to low image resolution. Let $S$ be the size of the cell in terms of the pixels it occupies. Ignore for now the variability in cell sizes. Bright spots may clutter within a pixel, making the image looks like there is only one spot when there should actually be several of them.\n",
    "\n",
    "Given cell size S and n mRNA molecules, the recorded number of spots is given by the formula\n",
    "$$\n",
    "P(Y = j | S, n)\n",
    "=\n",
    "\\frac\n",
    "{\\binom{S}{j}\\binom{n-1}{j-1}}\n",
    "{\\binom{S + n - 1}{n}}\n",
    "$$\n",
    "\n",
    "This comes from a combinatoric problem: Given $S$ boxes and $n$ apples, how many ways are there to distribute these apples into these boxes such that there are exactly $j$ non-empty boxes."
   ]
  },
  {
   "cell_type": "code",
   "execution_count": 113,
   "metadata": {
    "slideshow": {
     "slide_type": "notes"
    }
   },
   "outputs": [],
   "source": [
    "def LowResNoiseMatrix(n_max):\n",
    "    M = np.zeros((n_max + 1, n_max + 1))  \n",
    "    M[0,0] = 1.0\n",
    "    for j in range(1, n_max + 1):\n",
    "            M[:, j] = comb(num_pixels, np.arange(0, n_max+1))*comb(j-1, np.arange(0,n_max+1)-1)/comb(num_pixels + j - 1, j)       \n",
    "    return M\n",
    "\n",
    "n_max = 200\n",
    "C_lowres = LowResNoiseMatrix(n_max)\n",
    "\n",
    "fim_lowres = np.zeros((len(t_meas), 4, 4))\n",
    "for itime in range(0, len(t_meas)):\n",
    "    M = np.zeros((4,4))\n",
    "    xmax = len(rna_distributions[itime])-1\n",
    "    p = C_lowres[0:xmax+1, 0:xmax+1]@rna_distributions[itime]\n",
    "    for ip in range(0, 4):\n",
    "        sip = C_lowres[0:xmax+1, 0:xmax+1]@rna_sensitivities[itime][ip]\n",
    "        for jp in range(0, ip+1):\n",
    "            sjp = C_lowres[0:xmax+1, 0:xmax+1]@rna_sensitivities[itime][jp]\n",
    "            M[ip, jp] = np.sum(sip*sjp/np.maximum(1.e-16, p))\n",
    "    for ip in range(0,4):\n",
    "        for jp in range(ip+1,4):\n",
    "            M[ip, jp] = M[jp, ip]\n",
    "    fim_lowres[itime, :, :] = M\n",
    "np.savez('fim_lowres.npz', fim_lowres=fim_lowres)"
   ]
  },
  {
   "cell_type": "code",
   "execution_count": 114,
   "metadata": {
    "slideshow": {
     "slide_type": "slide"
    },
    "tags": [
     "to_remove"
    ]
   },
   "outputs": [
    {
     "data": {
      "application/vnd.jupyter.widget-view+json": {
       "model_id": "0d6beaf402bf44c08712593e7bc1f996",
       "version_major": 2,
       "version_minor": 0
      },
      "text/plain": [
       "interactive(children=(IntSlider(value=0, description='Time:', max=120), Output()), _dom_classes=('widget-inter…"
      ]
     },
     "metadata": {},
     "output_type": "display_data"
    }
   ],
   "source": [
    "time_slider = widgets.IntSlider(value=0, min=0, max=len(t_meas)-1, step=1, description='Time:')\n",
    "\n",
    "def plot_rna_dist_sens(itime):\n",
    "    fig_smfish = plt.figure()\n",
    "    fig_smfish.set_tight_layout(True)\n",
    "    gs = fig_smfish.add_gridspec(3, 2)\n",
    "    xmax = len(rna_distributions[itime])-1\n",
    "    p_binom = C_binom[0:xmax+1, 0:xmax+1]@rna_distributions[itime]\n",
    "    p_lowres = C_lowres[0:xmax+1, 0:xmax+1]@rna_distributions[itime]\n",
    "    \n",
    "    fig_smfish.suptitle(f't = {t_meas[itime]:.2f}')\n",
    "    ax0 = fig_smfish.add_subplot(1,1,1)\n",
    "    ax0.plot(np.arange(0, xmax+1), rna_distributions[itime], label='True')\n",
    "    ax0.plot(np.arange(0, xmax+1), p_binom, color='orange', linestyle=':', label='Lossy')\n",
    "    ax0.plot(np.arange(0, xmax+1), p_lowres, color='magenta', label='Low-resolution')\n",
    "    ax0.set_xlabel('RNA molecule count')\n",
    "    ax0.set_ylabel('Probability')\n",
    "    ax0.legend()\n",
    "    \n",
    "#     for ip in range(0,4):\n",
    "#         sip_binom = C_binom[0:xmax+1, 0:xmax+1]@rna_sensitivities[itime][ip]        \n",
    "#         sip_lowres = C_lowres[0:xmax+1, 0:xmax+1]@rna_sensitivities[itime][ip]\n",
    "#         ax1 = fig_smfish.add_subplot(gs[1 + ip // 2, ip % 2])\n",
    "#         ax1.plot(np.arange(0, xmax+1), rna_sensitivities[itime][ip])\n",
    "#         ax1.plot(np.arange(0, xmax+1), sip_binom, color='orange', linestyle=':')\n",
    "#         ax1.plot(np.arange(0, xmax+1), sip_lowres, color='magenta')\n",
    "#         ax1.set_xlabel('RNA molecule count')\n",
    "    \n",
    "    fig_flowcyt, ax = plt.subplots(1,1)\n",
    "    sns.distplot(intensity_samples[itime, :], ax=ax)\n",
    "    ax.set_xlabel('Intensity (AU)')\n",
    "    ax.set_ylabel('Probability')\n",
    "\n",
    "\n",
    "widgets.interactive(plot_rna_dist_sens, itime=time_slider)"
   ]
  },
  {
   "cell_type": "markdown",
   "metadata": {
    "slideshow": {
     "slide_type": "slide"
    }
   },
   "source": [
    "# 'One-shot' design: where all measurements are done at a single time"
   ]
  },
  {
   "cell_type": "markdown",
   "metadata": {
    "slideshow": {
     "slide_type": "slide"
    }
   },
   "source": [
    "## At each measurement time, different types of noisy measurement affect parameter uncertainties differently."
   ]
  },
  {
   "cell_type": "code",
   "execution_count": 115,
   "metadata": {
    "pycharm": {
     "is_executing": false
    },
    "scrolled": true,
    "slideshow": {
     "slide_type": "fragment"
    }
   },
   "outputs": [
    {
     "data": {
      "application/vnd.jupyter.widget-view+json": {
       "model_id": "79ae8e8b583246d28392be533bd40c94",
       "version_major": 2,
       "version_minor": 0
      },
      "text/plain": [
       "interactive(children=(IntSlider(value=37, description='Time:', max=120, min=1), IntText(value=2000, descriptio…"
      ]
     },
     "metadata": {},
     "output_type": "display_data"
    }
   ],
   "source": [
    "with np.load('fim_exact.npz') as data:\n",
    "    fim_exact = data['fim_exact']\n",
    "\n",
    "with np.load('fim_binom.npz') as data:\n",
    "    fim_binom = data['fim_binom']\n",
    "    \n",
    "with np.load('fim_lowres.npz') as data:\n",
    "    fim_lowres = data['fim_lowres']    \n",
    "    \n",
    "with np.load('fim_flowcyt_rep0.npz') as data:\n",
    "    fim_flowcyt = data['fim_flowcyt']\n",
    "\n",
    "if par_log_transform:\n",
    "    for it in range(0, len(t_meas)):\n",
    "        for i in range(0,4):\n",
    "            for j in range(0,4):\n",
    "                fim_exact[it, i, j] *= theta[i]*theta[j]*np.log(10)*np.log(10)\n",
    "                fim_binom[it, i, j] *= theta[i]*theta[j]*np.log(10)*np.log(10)\n",
    "                fim_lowres[it, i, j] *= theta[i]*theta[j]*np.log(10)*np.log(10)\n",
    "                fim_flowcyt[it, i, j] *= theta[i]*theta[j]*np.log(10)*np.log(10)\n",
    "\n",
    "def plot_conf_ellipse(fim, num_sigma, ax, par_idx, color='red', label='my_ellipse'):\n",
    "    covmat = np.linalg.inv(fim)\n",
    "    [eigvals, eigvecs] = np.linalg.eig(covmat[np.ix_([par_idx[0],par_idx[1]], [par_idx[0],par_idx[1]])])\n",
    "    mu0 = np.log10(theta[par_idx[0]])\n",
    "    mu1 = np.log10(theta[par_idx[1]])\n",
    "    sigma0 = np.sqrt(eigvals[0])\n",
    "    sigma1 = np.sqrt(eigvals[1])\n",
    "\n",
    "    rot_radian = np.arctan(eigvecs[1,0]/eigvecs[0,0])\n",
    "    rot_degree = 360*rot_radian/(2*np.pi)\n",
    "    \n",
    "    ellipse = patches.Ellipse(xy=(mu0, mu1), width=2*num_sigma*sigma0, height=2*num_sigma*sigma1, angle=rot_degree,\n",
    "                              fill=False, edgecolor=color, label=label)\n",
    "    return ax.add_patch(ellipse)\n",
    "\n",
    "def plot_uncertainties(itime, num_cells_smfish, num_cells_flowcyt):\n",
    "    fim_mats = [fim_exact[itime, :, :], \n",
    "                fim_binom[itime, :, :], \n",
    "                fim_lowres[itime, :, :], \n",
    "                fim_flowcyt[itime, :, :]]\n",
    "    \n",
    "    num_meas = [num_cells_smfish, num_cells_smfish, num_cells_smfish, num_cells_flowcyt]\n",
    "    \n",
    "    design_labels = [f'smFISH \\n Noise-free \\n {num_cells_smfish} cells', \n",
    "                        f'smFISH \\n Lossy spot \\n {num_cells_smfish} cells',\n",
    "                        f'smFISH \\n Low resolution \\n {num_cells_smfish} cells',\n",
    "                        f'flow cytometry \\n Additive noise \\n {num_cells_flowcyt} cells']\n",
    "    \n",
    "    design_colors = ['red', 'darkgreen', 'blue', 'orange']\n",
    "    \n",
    "    fig0 = plt.figure()\n",
    "    fig0.set_tight_layout(True)\n",
    "    ax0 = fig0.add_subplot(1,1,1)\n",
    "    \n",
    "    # The uncertainties in eigendirections of different experiments\n",
    "    for i in range(0, len(fim_mats)):\n",
    "        \n",
    "        [eigval, eigvec] = np.linalg.eig(num_meas[i]*fim_mats[i])\n",
    "        uncertainties = 1/np.sqrt(eigval)\n",
    "\n",
    "        ax0.hlines(uncertainties, xmin = (2*i + 1)-0.75, xmax = (2*i + 1) + 0.75, color=design_colors[i], linewidth=2)\n",
    "        \n",
    "    ax0.set_yscale('log')\n",
    "    ax0.set_xticks(2*np.arange(0, len(fim_mats)) + 1)    \n",
    "    ax0.set_xticklabels(design_labels)\n",
    "    ax0.set_ylabel('Uncertainty')\n",
    "    fig0.suptitle(f't = {t_meas[itime]:.2f} \\n')\n",
    "    \n",
    "    # The 3-sigma ellipses of different experiments\n",
    "    fig1, axes1 = plt.subplots(1, 2)\n",
    "    \n",
    "    for i in range(0, len(fim_mats)):\n",
    "        plot_conf_ellipse(num_meas[i]*fim_mats[i], 3, axes1[0], [0,1], design_colors[i], design_labels[i])\n",
    "        plot_conf_ellipse(num_meas[i]*fim_mats[i], 3, axes1[1], [2,3], design_colors[i], design_labels[i]) \n",
    "\n",
    "    for i in range(0, 2):\n",
    "        axes1[i].legend(bbox_to_anchor=(0, 1.02, 1, 0.2), loc='lower left')\n",
    "        axes1[i].autoscale()\n",
    "    \n",
    "time_slider = widgets.IntSlider(value=37, min=1, max=len(t_meas)-1, step=1, description='Time:')\n",
    "ncells_smfish_input = widgets.IntText(value=2000, description='#smFISH meas.:')\n",
    "ncells_flowcyt_input = widgets.IntText(value=200000, description='#flow cytometry meas.:')\n",
    "widgets.interactive(plot_uncertainties, itime=time_slider, num_cells_smfish=ncells_smfish_input, num_cells_flowcyt=ncells_flowcyt_input)"
   ]
  },
  {
   "cell_type": "markdown",
   "metadata": {
    "slideshow": {
     "slide_type": "slide"
    }
   },
   "source": [
    "## One-shot design with D-optimal measurement time"
   ]
  },
  {
   "cell_type": "code",
   "execution_count": 119,
   "metadata": {
    "scrolled": true,
    "slideshow": {
     "slide_type": "fragment"
    }
   },
   "outputs": [
    {
     "data": {
      "application/vnd.jupyter.widget-view+json": {
       "model_id": "478b74fd46d7430bbdb1b8782ef05b2e",
       "version_major": 2,
       "version_minor": 0
      },
      "text/plain": [
       "interactive(children=(IntText(value=2000, description='#smFISH meas.:'), IntText(value=200000, description='#f…"
      ]
     },
     "metadata": {},
     "output_type": "display_data"
    }
   ],
   "source": [
    "# Information volume across time of different measurement types\n",
    "nt = fim_flowcyt.shape[0]\n",
    "    \n",
    "fimdet_exact = np.zeros((nt,))\n",
    "fimdet_binom = np.zeros((nt,))\n",
    "fimdet_lowres = np.zeros((nt,))\n",
    "fimdet_flowcyt = np.zeros((nt,))\n",
    "\n",
    "for i in range(0, nt):\n",
    "    fimdet_exact[i] = np.linalg.det(fim_exact[i,:,:])\n",
    "    fimdet_binom[i] = np.linalg.det(fim_binom[i,:,:])\n",
    "    fimdet_lowres[i] = np.linalg.det(fim_lowres[i,:,:])\n",
    "    fimdet_flowcyt[i] = np.linalg.det(fim_flowcyt[i,:,:])\n",
    "\n",
    "itopt_exact = np.argmax(fimdet_exact)\n",
    "itopt_binom = np.argmax(fimdet_binom)\n",
    "itopt_lowres = np.argmax(fimdet_lowres)\n",
    "itopt_flowcyt = np.argmax(fimdet_flowcyt)\n",
    "\n",
    "def plot_dopt(num_cells_smfish, num_cells_flowcyt):    \n",
    "    fig, ax = plt.subplots(1,1)\n",
    "    ax.plot(t_meas, num_cells_smfish**4*fimdet_exact, label='Exact smFISH')\n",
    "    ax.plot(t_meas, num_cells_smfish**4*fimdet_binom, label='Lossy smFISH')\n",
    "    ax.plot(t_meas, num_cells_smfish**4*fimdet_lowres, label='Low resolution smFISH')\n",
    "    ax.plot(t_meas, num_cells_flowcyt**4*fimdet_flowcyt, label='Flow cytometry')\n",
    "    ax.set_yscale('log')\n",
    "    ax.set_ylabel('D-opt objective')\n",
    "    ax.set_xlabel('Measurement time')\n",
    "    ax.legend()\n",
    "    \n",
    "    fim_mats = [fim_exact[itopt_exact, :, :], \n",
    "                fim_binom[itopt_binom, :, :], \n",
    "                fim_lowres[itopt_lowres, :, :], \n",
    "                fim_flowcyt[itopt_flowcyt, :, :]]\n",
    "    \n",
    "    num_meas = [num_cells_smfish, num_cells_smfish, num_cells_smfish, num_cells_flowcyt]\n",
    "    \n",
    "    design_labels = [f'smFISH \\n Noise-free \\n {num_cells_smfish} cells \\n topt = {t_meas[itopt_exact]:.2f}', \n",
    "                        f'smFISH \\n Lossy spot \\n {num_cells_smfish} cells \\n topt = {t_meas[itopt_binom]:.2f}',\n",
    "                        f'smFISH \\n Low resolution \\n {num_cells_smfish} cells \\n topt = {t_meas[itopt_lowres]:.2f}',\n",
    "                        f'flow cytometry \\n Additive noise \\n {num_cells_flowcyt} cells \\n topt = {t_meas[itopt_flowcyt]:.2f}']\n",
    "    \n",
    "    design_colors = ['red', 'darkgreen', 'blue', 'orange']\n",
    "    \n",
    "    fig0 = plt.figure()\n",
    "    fig0.set_tight_layout(True)\n",
    "    ax0 = fig0.add_subplot(1,1,1)\n",
    "    \n",
    "    # The uncertainties in eigendirections of different experiments\n",
    "    for i in range(0, len(fim_mats)):\n",
    "        \n",
    "        [eigval, eigvec] = np.linalg.eig(num_meas[i]*fim_mats[i])\n",
    "        uncertainties = 1/np.sqrt(eigval)\n",
    "\n",
    "        ax0.hlines(uncertainties, xmin = (2*i + 1)-0.75, xmax = (2*i + 1) + 0.75, color=design_colors[i], linewidth=2)\n",
    "        \n",
    "    ax0.set_yscale('log')\n",
    "    ax0.set_xticks(2*np.arange(0, len(fim_mats)) + 1)    \n",
    "    ax0.set_xticklabels(design_labels)\n",
    "    ax0.set_ylabel('Uncertainty')\n",
    "    \n",
    "    # The 3-sigma ellipses of different experiments\n",
    "    fig1, axes1 = plt.subplots(1, 2)\n",
    "    \n",
    "    for i in range(0, len(fim_mats)):\n",
    "        plot_conf_ellipse(num_meas[i]*fim_mats[i], 3, axes1[0], [0,1], design_colors[i], design_labels[i])\n",
    "        plot_conf_ellipse(num_meas[i]*fim_mats[i], 3, axes1[1], [2,3], design_colors[i], design_labels[i]) \n",
    "\n",
    "    for i in range(0, 2):\n",
    "        axes1[i].legend(bbox_to_anchor=(0, 1.02, 1, 0.2), loc='lower left')\n",
    "        axes1[i].autoscale()\n",
    "\n",
    "ncells_smfish_input = widgets.IntText(value=2000, description='#smFISH meas.:')\n",
    "ncells_flowcyt_input = widgets.IntText(value=200000, description='#flow cytometry meas.:')\n",
    "widgets.interactive(plot_dopt, num_cells_smfish=ncells_smfish_input, num_cells_flowcyt=ncells_flowcyt_input)"
   ]
  }
 ],
 "metadata": {
  "@webio": {
   "lastCommId": null,
   "lastKernelId": null
  },
  "celltoolbar": "Slideshow",
  "kernelspec": {
   "display_name": "CME",
   "language": "python",
   "name": "cme"
  },
  "language_info": {
   "codemirror_mode": {
    "name": "ipython",
    "version": 3
   },
   "file_extension": ".py",
   "mimetype": "text/x-python",
   "name": "python",
   "nbconvert_exporter": "python",
   "pygments_lexer": "ipython3",
   "version": "3.7.4"
  },
  "pycharm": {
   "stem_cell": {
    "cell_type": "raw",
    "metadata": {
     "collapsed": false
    },
    "source": []
   }
  }
 },
 "nbformat": 4,
 "nbformat_minor": 2
}
