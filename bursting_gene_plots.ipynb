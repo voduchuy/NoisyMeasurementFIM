{
 "cells": [
  {
   "cell_type": "code",
   "execution_count": 1,
   "metadata": {
    "pycharm": {
     "is_executing": false
    }
   },
   "outputs": [],
   "source": [
    "# from IPython.display import HTML\n",
    "\n",
    "# HTML('''\n",
    "# <script>\n",
    "#   function code_toggle() {\n",
    "#     if (code_shown){\n",
    "#       $('div.input').hide('500');\n",
    "#       $('#toggleButton').val('Show Code')\n",
    "#     } else {\n",
    "#       $('div.input').show('500');\n",
    "#       $('#toggleButton').val('Hide Code')\n",
    "#     }\n",
    "#     code_shown = !code_shown\n",
    "#   }\n",
    "\n",
    "#   $( document ).ready(function(){\n",
    "#     code_shown=false;\n",
    "#     $('div.input').hide()\n",
    "#   });\n",
    "# </script>\n",
    "# <form action=\"javascript:code_toggle()\"><input type=\"submit\" id=\"toggleButton\" value=\"Show Code\"></form>\n",
    "# ''')\n",
    "\n",
    "par_log_transform = True"
   ]
  },
  {
   "cell_type": "code",
   "execution_count": 3,
   "metadata": {
    "pycharm": {
     "is_executing": false
    },
    "slideshow": {
     "slide_type": "skip"
    }
   },
   "outputs": [],
   "source": [
    "from pypacmensl.sensitivity.multi_sinks import SensFspSolverMultiSinks\n",
    "import mpi4py.MPI as mpi\n",
    "import numpy as np\n",
    "\n",
    "import numpy.linalg as LA\n",
    "import matplotlib.pyplot as plt\n",
    "import matplotlib.patches as patches\n",
    "from scipy.stats import binom, poisson, norm\n",
    "from scipy.special import comb     \n",
    "from math import exp, log, sqrt\n",
    "\n",
    "from numba import jit\n",
    "\n",
    "from chebpy import chebfun\n",
    "import chebpy\n",
    "\n",
    "from matplotlib.patches import Ellipse\n",
    "from matplotlib.ticker import FormatStrFormatter\n",
    "import ipywidgets as widgets\n",
    "\n",
    "from scipy.stats import logistic\n",
    "from IPython.display import clear_output\n",
    "\n",
    "# For nice plots\n",
    "import seaborn as sns\n",
    "sns.set(style='darkgrid')"
   ]
  },
  {
   "cell_type": "code",
   "execution_count": 4,
   "metadata": {
    "pycharm": {
     "is_executing": false
    },
    "slideshow": {
     "slide_type": "skip"
    }
   },
   "outputs": [],
   "source": [
    "fsp_sol_file = np.load('fsp_solutions.npz', allow_pickle=True)\n",
    "rna_distributions = fsp_sol_file['rna_distributions']\n",
    "rna_sensitivities = fsp_sol_file['rna_sensitivities']\n",
    "t_meas = fsp_sol_file['t_meas']\n",
    "fsp_sol_file.close()\n",
    "\n",
    "with np.load('bursting_parameters.npz') as par:\n",
    "    k_on = par['kon']\n",
    "    k_off = par['koff']\n",
    "    k_r = par['kr']\n",
    "    gamma = par['gamma']\n",
    "\n",
    "theta = np.array([k_on, k_off, k_r, gamma])"
   ]
  },
  {
   "cell_type": "markdown",
   "metadata": {
    "slideshow": {
     "slide_type": "skip"
    }
   },
   "source": [
    "## Exact smFISH measurement FIM"
   ]
  },
  {
   "cell_type": "code",
   "execution_count": 5,
   "metadata": {
    "slideshow": {
     "slide_type": "skip"
    },
    "pycharm": {
     "is_executing": false
    }
   },
   "outputs": [],
   "source": [
    "# FIM for exact smFISH measurements\n",
    "fim_exact = np.zeros((len(t_meas), 4, 4))\n",
    "for itime in range(0, len(t_meas)):\n",
    "    M = np.zeros((4,4))\n",
    "    for ip in range(0, 4):\n",
    "        for jp in range(0, ip+1):\n",
    "            M[ip, jp] = np.sum(rna_sensitivities[itime][ip]*rna_sensitivities[itime][jp]/\n",
    "                               np.maximum(rna_distributions[itime], 1.0e-16))\n",
    "    for ip in range(0,4):\n",
    "        for jp in range(ip+1,4):\n",
    "            M[ip, jp] = M[jp, ip]\n",
    "    fim_exact[itime, : , :] = M\n",
    " \n",
    "np.savez('fim_exact.npz', fim_exact=fim_exact)"
   ]
  },
  {
   "cell_type": "markdown",
   "source": [
    "## Modeling noise in flow cytometry measurement"
   ],
   "metadata": {
    "collapsed": false
   }
  },
  {
   "cell_type": "code",
   "execution_count": 6,
   "metadata": {
    "slideshow": {
     "slide_type": "skip"
    },
    "pycharm": {
     "is_executing": false
    }
   },
   "outputs": [],
   "source": []
  },
  {
   "cell_type": "markdown",
   "metadata": {
    "slideshow": {
     "slide_type": "slide"
    }
   },
   "source": [
    "## Modeling measurement noise with binomial distribution"
   ]
  },
  {
   "cell_type": "markdown",
   "metadata": {
    "slideshow": {
     "slide_type": "fragment"
    }
   },
   "source": [
    "The first noise we consider is that coming from inefficient probe binding, leading to the number of visible spots being lower than the actual mRNA copy number in the cell. \n",
    "\n",
    "Let $p_{bind}$ be the probability that a given mRNA molecule become visible, the number of spots recorded conditioned on the number of actual mRNA then follows a binomial distribution.\n",
    "\n",
    "We will call this the \"lossy\" smFISH measurement."
   ]
  },
  {
   "cell_type": "code",
   "execution_count": 8,
   "metadata": {
    "pycharm": {
     "is_executing": false
    },
    "slideshow": {
     "slide_type": "notes"
    }
   },
   "outputs": [],
   "source": [
    "p_success = 0.5\n",
    "def BinomialNoiseMatrix(n_max, p_success):\n",
    "    M = np.zeros((n_max + 1, n_max + 1))  \n",
    "    for j in range(0, n_max + 1):\n",
    "            M[:, j] = binom.pmf(np.linspace(0, n_max, n_max+1), j, p_success) \n",
    "    return M\n",
    "\n",
    "n_max = 200\n",
    "C_binom = BinomialNoiseMatrix(n_max, p_success)\n",
    "\n",
    "fim_binom = np.zeros((len(t_meas), 4, 4))\n",
    "for itime in range(0, len(t_meas)):\n",
    "    M = np.zeros((4,4))\n",
    "    xmax = len(rna_distributions[itime])-1\n",
    "    p = C_binom[0:xmax+1, 0:xmax+1]@rna_distributions[itime]\n",
    "    for ip in range(0, 4):\n",
    "        sip = C_binom[0:xmax+1, 0:xmax+1]@rna_sensitivities[itime][ip]\n",
    "        for jp in range(0, ip+1):\n",
    "            sjp = C_binom[0:xmax+1, 0:xmax+1]@rna_sensitivities[itime][jp]\n",
    "            M[ip, jp] = np.sum(sip*sjp/np.maximum(1.e-16, p))\n",
    "    for ip in range(0,4):\n",
    "        for jp in range(ip+1,4):\n",
    "            M[ip, jp] = M[jp, ip]\n",
    "    fim_binom[itime, :, :] = M\n",
    "np.savez('fim_binom.npz', fim_binom=fim_binom)"
   ]
  },
  {
   "cell_type": "markdown",
   "metadata": {
    "slideshow": {
     "slide_type": "slide"
    }
   },
   "source": [
    "## Modeling combinatorial noise from low image resolution"
   ]
  },
  {
   "cell_type": "markdown",
   "metadata": {
    "slideshow": {
     "slide_type": "fragment"
    }
   },
   "source": [
    "We consider spot miscounting due to low image resolution. Let $S$ be the size of the cell in terms of the pixels it occupies. Ignore for now the variability in cell sizes. Bright spots may clutter within a pixel, making the image looks like there is only one spot when there should actually be several of them.\n",
    "\n",
    "Given cell size S and n mRNA molecules, the recorded number of spots is given by the formula\n",
    "$$\n",
    "P(Y = j | S, n)\n",
    "=\n",
    "\\frac\n",
    "{\\binom{S}{j}\\binom{n-1}{j-1}}\n",
    "{\\binom{S + n - 1}{n}}\n",
    "$$\n",
    "\n",
    "This comes from a combinatoric problem: Given $S$ boxes and $n$ apples, how many ways are there to distribute these apples into these boxes such that there are exactly $j$ non-empty boxes."
   ]
  },
  {
   "cell_type": "code",
   "execution_count": 9,
   "metadata": {
    "slideshow": {
     "slide_type": "notes"
    },
    "pycharm": {
     "is_executing": false
    }
   },
   "outputs": [],
   "source": [
    "num_pixels = 100 # number of pixels occupied by a typical cells\n",
    "def LowResNoiseMatrix(n_max):\n",
    "    M = np.zeros((n_max + 1, n_max + 1))  \n",
    "    M[0,0] = 1.0\n",
    "    for j in range(1, n_max + 1):\n",
    "            M[:, j] = comb(num_pixels, np.arange(0, n_max+1))*comb(j-1, np.arange(0,n_max+1)-1)/comb(num_pixels + j - 1, j)       \n",
    "    return M\n",
    "\n",
    "n_max = 200\n",
    "C_lowres = LowResNoiseMatrix(n_max)\n",
    "\n",
    "fim_lowres = np.zeros((len(t_meas), 4, 4))\n",
    "for itime in range(0, len(t_meas)):\n",
    "    M = np.zeros((4,4))\n",
    "    xmax = len(rna_distributions[itime])-1\n",
    "    p = C_lowres[0:xmax+1, 0:xmax+1]@rna_distributions[itime]\n",
    "    for ip in range(0, 4):\n",
    "        sip = C_lowres[0:xmax+1, 0:xmax+1]@rna_sensitivities[itime][ip]\n",
    "        for jp in range(0, ip+1):\n",
    "            sjp = C_lowres[0:xmax+1, 0:xmax+1]@rna_sensitivities[itime][jp]\n",
    "            M[ip, jp] = np.sum(sip*sjp/np.maximum(1.e-16, p))\n",
    "    for ip in range(0,4):\n",
    "        for jp in range(ip+1,4):\n",
    "            M[ip, jp] = M[jp, ip]\n",
    "    fim_lowres[itime, :, :] = M\n",
    "np.savez('fim_lowres.npz', fim_lowres=fim_lowres)"
   ]
  },
  {
   "cell_type": "code",
   "execution_count": 10,
   "metadata": {
    "pycharm": {
     "is_executing": false
    }
   },
   "outputs": [],
   "source": [
    "C_composite = C_binom@C_lowres\n",
    "\n",
    "fim_composite = np.zeros((len(t_meas), 4, 4))\n",
    "for itime in range(0, len(t_meas)):\n",
    "    M = np.zeros((4,4))\n",
    "    xmax = len(rna_distributions[itime])-1\n",
    "    p = C_composite[0:xmax+1, 0:xmax+1]@rna_distributions[itime]\n",
    "    for ip in range(0, 4):\n",
    "        sip = C_composite[0:xmax+1, 0:xmax+1]@rna_sensitivities[itime][ip]\n",
    "        for jp in range(0, ip+1):\n",
    "            sjp = C_composite[0:xmax+1, 0:xmax+1]@rna_sensitivities[itime][jp]\n",
    "            M[ip, jp] = np.sum(sip*sjp/np.maximum(1.e-16, p))\n",
    "    for ip in range(0,4):\n",
    "        for jp in range(ip+1,4):\n",
    "            M[ip, jp] = M[jp, ip]\n",
    "    fim_composite[itime, :, :] = M\n",
    "np.savez('fim_composite.npz', fim_composite=fim_composite)"
   ]
  },
  {
   "cell_type": "code",
   "execution_count": 11,
   "metadata": {
    "slideshow": {
     "slide_type": "slide"
    },
    "tags": [
     "to_remove"
    ],
    "pycharm": {
     "is_executing": false
    }
   },
   "outputs": [
    {
     "data": {
      "text/plain": "interactive(children=(IntSlider(value=0, description='Time:', max=200), Output()), _dom_classes=('widget-inter…",
      "application/vnd.jupyter.widget-view+json": {
       "version_major": 2,
       "version_minor": 0,
       "model_id": "3e42ad46ad4c487ba06aafdc39c2125b"
      }
     },
     "metadata": {},
     "output_type": "display_data"
    }
   ],
   "source": [
    "time_slider = widgets.IntSlider(value=0, min=0, max=len(t_meas)-1, step=1, description='Time:')\n",
    "\n",
    "def plot_rna_dist_sens(itime):\n",
    "    fig_smfish = plt.figure()\n",
    "    fig_smfish.set_tight_layout(True)    \n",
    "    xmax = len(rna_distributions[itime])-1\n",
    "    p_binom = C_binom[0:xmax+1, 0:xmax+1]@rna_distributions[itime]\n",
    "    p_composite = C_composite[0:xmax+1, 0:xmax+1]@rna_distributions[itime]\n",
    "    p_lowres = C_lowres[0:xmax+1, 0:xmax+1]@rna_distributions[itime]\n",
    "    \n",
    "    fig_smfish.suptitle(f't = {t_meas[itime]:.2f}')\n",
    "    ax0 = fig_smfish.add_subplot(1,1,1)\n",
    "    ax0.plot(np.arange(0, xmax+1), rna_distributions[itime], label='True', linewidth=4)\n",
    "    ax0.plot(np.arange(0, xmax+1), p_binom, color='orange', linestyle=':', label='Lossy')\n",
    "    ax0.plot(np.arange(0, xmax+1), p_lowres, color='magenta', linestyle='dotted', label='Low-resolution')\n",
    "    ax0.plot(np.arange(0, xmax+1), p_composite, color='red', linestyle=':', label='Composite noise')    \n",
    "    ax0.set_xlabel('RNA molecule count')\n",
    "    ax0.set_ylabel('Probability')    \n",
    "    \n",
    "    ax1 = ax0.twinx()\n",
    "    xvals = np.logspace(-8, np.log10(xmax), 100)*kappa\n",
    "    pflowcyt = flowcyt_intensity_prob[itime](xvals)\n",
    "    ax1.plot(xvals/kappa, pflowcyt, color='green', linestyle='-', marker = 'v', label='Flow cytometry')\n",
    "    ax1.tick_params(axis='y', labelcolor='green')\n",
    "    ax1.set_ylabel('Probability density', color='green')\n",
    "    \n",
    "    fig_smfish.legend(bbox_to_anchor=(0.25, 0, 1, 1), loc = 'lower right')        \n",
    "\n",
    "\n",
    "widgets.interactive(plot_rna_dist_sens, itime=time_slider)"
   ]
  },
  {
   "cell_type": "code",
   "execution_count": 12,
   "metadata": {
    "pycharm": {
     "is_executing": false
    },
    "scrolled": true,
    "slideshow": {
     "slide_type": "fragment"
    }
   },
   "outputs": [],
   "source": [
    "with np.load('fim_exact.npz') as data:\n",
    "    fim_exact = data['fim_exact']\n",
    "\n",
    "with np.load('fim_binom.npz') as data:\n",
    "    fim_binom = data['fim_binom']\n",
    "    \n",
    "with np.load('fim_lowres.npz') as data:\n",
    "    fim_lowres = data['fim_lowres']  \n",
    "    \n",
    "with np.load('fim_composite.npz') as data:\n",
    "    fim_composite = data['fim_composite']      \n",
    "    \n",
    "with np.load('fim_flowcyt.npz') as data:\n",
    "    fim_flowcyt = data['fim_flowcyt']\n",
    "\n",
    "if par_log_transform:\n",
    "    for it in range(0, len(t_meas)):\n",
    "        for i in range(0,4):\n",
    "            for j in range(0,4):\n",
    "                fim_exact[it, i, j] *= theta[i]*theta[j]*np.log(10)*np.log(10)\n",
    "                fim_binom[it, i, j] *= theta[i]*theta[j]*np.log(10)*np.log(10)\n",
    "                fim_lowres[it, i, j] *= theta[i]*theta[j]*np.log(10)*np.log(10)\n",
    "                fim_flowcyt[it, i, j] *= theta[i]*theta[j]*np.log(10)*np.log(10)\n",
    "                fim_composite[it, i, j] *= theta[i]*theta[j]*np.log(10)*np.log(10)\n",
    "\n",
    "def plot_conf_ellipse(fim, num_sigma, ax, par_idx, color='red', label='my_ellipse'):\n",
    "    covmat = np.linalg.inv(fim)\n",
    "    [eigvals, eigvecs] = np.linalg.eig(covmat[np.ix_([par_idx[0],par_idx[1]], [par_idx[0],par_idx[1]])])\n",
    "    mu0 = np.log10(theta[par_idx[0]])\n",
    "    mu1 = np.log10(theta[par_idx[1]])\n",
    "    sigma0 = np.sqrt(eigvals[0])\n",
    "    sigma1 = np.sqrt(eigvals[1])\n",
    "\n",
    "    ax.axvline(mu0, color='k', linestyle='-.')\n",
    "    ax.axhline(mu1, color='k', linestyle='-.')\n",
    "    \n",
    "    rot_radian = np.arctan(eigvecs[1,0]/eigvecs[0,0])\n",
    "    rot_degree = 360*rot_radian/(2*np.pi)\n",
    "    \n",
    "    ellipse = patches.Ellipse(xy=(mu0, mu1), width=2*num_sigma*sigma0, height=2*num_sigma*sigma1, angle=rot_degree,\n",
    "                              fill=False, edgecolor=color, label=label)\n",
    "    ax.add_patch(ellipse)\n",
    "\n",
    "    return 0\n",
    "\n",
    "def plot_uncertainties(itime, num_cells_smfish, num_cells_flowcyt):\n",
    "    fim_mats = [fim_exact[itime, :, :], \n",
    "                fim_binom[itime, :, :], \n",
    "                fim_lowres[itime, :, :], \n",
    "                fim_composite[itime, :, :],\n",
    "                fim_flowcyt[itime, :, :]]\n",
    "    \n",
    "    num_meas = [num_cells_smfish, num_cells_smfish, num_cells_smfish, num_cells_smfish, num_cells_flowcyt]\n",
    "    \n",
    "    design_labels = [f'smFISH \\n Noise-free \\n {num_cells_smfish} cells', \n",
    "                        f'smFISH \\n Lossy spot \\n {num_cells_smfish} cells',\n",
    "                        f'smFISH \\n Low resolution \\n {num_cells_smfish} cells',\n",
    "                        f'smFISH \\n Combo \\n {num_cells_smfish} cells',\n",
    "                        f'flow cytometry \\n Additive noise \\n {num_cells_flowcyt} cells']\n",
    "    \n",
    "    design_colors = ['red', 'darkgreen', 'blue', 'magenta', 'orange']\n",
    "    \n",
    "    fig0 = plt.figure()\n",
    "    fig0.set_tight_layout(True)\n",
    "    ax0 = fig0.add_subplot(1,1,1)\n",
    "    \n",
    "    # The uncertainties in eigendirections of different experiments\n",
    "    for i in range(0, len(fim_mats)):\n",
    "        \n",
    "        [eigval, eigvec] = np.linalg.eig(num_meas[i]*fim_mats[i])\n",
    "        uncertainties = 1/np.sqrt(eigval)\n",
    "\n",
    "        ax0.hlines(uncertainties, xmin = (2*i + 1)-0.75, xmax = (2*i + 1) + 0.75, color=design_colors[i], linewidth=2)\n",
    "        \n",
    "    ax0.set_yscale('log')\n",
    "    ax0.set_xticks(2*np.arange(0, len(fim_mats)) + 1)    \n",
    "    ax0.set_xticklabels(design_labels)\n",
    "    ax0.set_ylabel('Uncertainty')\n",
    "    fig0.suptitle(f't = {t_meas[itime]:.2f} \\n')\n",
    "    \n",
    "    # The 3-sigma ellipses of different experiments\n",
    "    fig1, axes1 = plt.subplots(1, 2)\n",
    "    \n",
    "    for i in range(0, len(fim_mats)):\n",
    "        plot_conf_ellipse(num_meas[i]*fim_mats[i], 3, axes1[0], [0,1], design_colors[i], design_labels[i])\n",
    "        plot_conf_ellipse(num_meas[i]*fim_mats[i], 3, axes1[1], [2,3], design_colors[i], design_labels[i]) \n",
    "\n",
    "    for i in range(0, 2):\n",
    "        axes1[i].legend(bbox_to_anchor=(0, 1.02, 1, 0.2), loc='lower left')\n",
    "        axes1[i].autoscale()"
   ]
  },
  {
   "cell_type": "code",
   "execution_count": 14,
   "metadata": {
    "pycharm": {
     "is_executing": false
    }
   },
   "outputs": [
    {
     "data": {
      "text/plain": "200"
     },
     "metadata": {},
     "output_type": "execute_result",
     "execution_count": 14
    }
   ],
   "source": [
    "mu_bg\n",
    "sigma_bg"
   ]
  },
  {
   "cell_type": "code",
   "execution_count": 15,
   "metadata": {
    "pycharm": {
     "is_executing": false
    }
   },
   "outputs": [
    {
     "data": {
      "text/plain": "<Figure size 720x360 with 2 Axes>",
      "image/png": "[encoded data removed]"
     },
     "metadata": {},
     "output_type": "display_data"
    },
    {
     "data": {
      "text/plain": "<Figure size 360x432 with 1 Axes>",
      "image/png": "[encoded data removed]"
     },
     "metadata": {},
     "output_type": "display_data"
    },
    {
     "data": {
      "text/plain": "<Figure size 360x432 with 1 Axes>",
      "image/png": "[encoded data removed]"
     },
     "metadata": {},
     "output_type": "display_data"
    }
   ],
   "source": [
    "ncells_smfish = 1000\n",
    "ncells_flowcyt = 10000\n",
    "\n",
    "def compute_combined_fim(fim_array, dt, num_times, ncells):\n",
    "    t_idx = dt*np.linspace(1, num_times, num_times, dtype=int)\n",
    "    fim = ncells*fim_array[t_idx[0], :, :]\n",
    "    for i in range(1, len(t_idx)):\n",
    "        fim += ncells*fim_array[t_idx[i], :, :]\n",
    "    return fim\n",
    "\n",
    "num_times = 4\n",
    "dt_min = 1\n",
    "dt_max = int(np.floor(t_meas[-1]/num_times))\n",
    "dt_array = np.linspace(dt_min, dt_max, dt_max - dt_min +1, dtype=int)\n",
    "\n",
    "combined_fim_exact = np.zeros((len(dt_array), 4, 4))\n",
    "combined_fim_binom = np.zeros((len(dt_array), 4, 4))\n",
    "combined_fim_lowres = np.zeros((len(dt_array), 4, 4))\n",
    "combined_fim_flowcyt = np.zeros((len(dt_array), 4, 4))\n",
    "\n",
    "det_comb_fim_exact = np.zeros(len(dt_array))\n",
    "det_comb_fim_binom = np.zeros(len(dt_array))\n",
    "det_comb_fim_lowres = np.zeros(len(dt_array))\n",
    "det_comb_fim_flowcyt = np.zeros(len(dt_array))\n",
    "\n",
    "\n",
    "for i in range(0, len(dt_array)):\n",
    "    combined_fim_exact[i, :, :] = compute_combined_fim(fim_exact, dt_array[i],  num_times, ncells_smfish)\n",
    "    combined_fim_binom[i, :, :] = compute_combined_fim(fim_binom, dt_array[i], num_times, ncells_smfish)\n",
    "    combined_fim_lowres[i, :, :] = compute_combined_fim(fim_lowres, dt_array[i],  num_times, ncells_smfish)    \n",
    "    combined_fim_flowcyt[i, :, :] = compute_combined_fim(fim_flowcyt, dt_array[i],  num_times, ncells_flowcyt)\n",
    "       \n",
    "    det_comb_fim_exact[i] = np.linalg.det(combined_fim_exact[i,:,:])\n",
    "    det_comb_fim_binom[i] = np.linalg.det(combined_fim_binom[i,:,:])\n",
    "    det_comb_fim_lowres[i] = np.linalg.det(combined_fim_lowres[i,:,:])    \n",
    "    det_comb_fim_flowcyt[i] = np.linalg.det(combined_fim_flowcyt[i,:,:])\n",
    "    \n",
    "num_meas = [ncells_smfish, ncells_smfish, ncells_smfish, ncells_smfish, ncells_flowcyt]\n",
    "\n",
    "iopt_exact = np.argmax(det_comb_fim_exact)\n",
    "iopt_binom = np.argmax(det_comb_fim_binom)\n",
    "iopt_lowres = np.argmax(det_comb_fim_lowres)\n",
    "iopt_flowcyt = np.argmax(det_comb_fim_flowcyt)\n",
    "\n",
    "design_colors = ['red', 'darkgreen', 'blue', 'orange']\n",
    "\n",
    "design_labels = [f'smFISH \\n Noise-free \\n dt = {dt_array[iopt_exact]:.2f}', \n",
    "                f'smFISH \\n Lossy \\n dt = {dt_array[iopt_binom]:.2f}',\n",
    "                f'smFISH \\n Low resolution \\n dt = {dt_array[iopt_lowres]:.2f}',                \n",
    "                f'flow cytometry \\n dt = {dt_array[iopt_flowcyt]:.2f}']\n",
    "\n",
    "fim_mats = [combined_fim_exact[iopt_exact, :, :], \n",
    "            combined_fim_binom[iopt_binom, :, :], \n",
    "            combined_fim_lowres[iopt_lowres, :, :],            \n",
    "            combined_fim_flowcyt[iopt_flowcyt, :, :]]\n",
    "\n",
    "fig, axes = plt.subplots(1,2)\n",
    "fig.set_tight_layout(True)\n",
    "fig.set_size_inches(10, 5)\n",
    "# The 3-sigma ellipses of different experiments\n",
    "for i in range(0, len(fim_mats)):\n",
    "    plot_conf_ellipse(fim_mats[i], 3, axes[0], [0,1], design_colors[i], design_labels[i])\n",
    "    plot_conf_ellipse(fim_mats[i], 3, axes[1], [2,3], design_colors[i], design_labels[i]) \n",
    "\n",
    "for i in range(0,2):\n",
    "    axes[i].legend(bbox_to_anchor=(0, 1.1, 1, 1), loc='lower left', frameon=False, ncol=2)\n",
    "    axes[i].autoscale()\n",
    "\n",
    "axes[0].set_xlabel('$\\log_{10}({k_{ON}})$')    \n",
    "axes[0].set_ylabel('$\\log_{10}({k_{OFF}})$')\n",
    "axes[1].set_xlabel('$\\log_{10}({k_{r}})$')    \n",
    "axes[1].set_ylabel('$\\log_{10}({\\gamma})$')\n",
    "fig.savefig('mle_ellipses.pdf')\n",
    "\n",
    "\n",
    "        \n",
    "fig, ax = plt.subplots(1,1)\n",
    "fig.set_tight_layout(True)\n",
    "fig.set_size_inches(5, 6)\n",
    "ax.plot(dt_array, det_comb_fim_exact, label='Exact smFISH', color=design_colors[0])\n",
    "ax.plot(dt_array, det_comb_fim_binom, label='Lossy smFISH', color=design_colors[1])        \n",
    "ax.plot(dt_array, det_comb_fim_lowres, label='Low-resolution smFISH', color=design_colors[2])\n",
    "ax.plot(dt_array, det_comb_fim_flowcyt, label='Flow cytometry', color=design_colors[3])\n",
    "ax.legend(bbox_to_anchor=(0, 1.1, 1, 1), loc='lower left')\n",
    "ax.set_xlim([0, 50])\n",
    "ax.set_xlabel('$\\Delta t$ (min)')\n",
    "ax.set_ylabel('$\\operatorname{det}(FIM)$')\n",
    "fig.savefig('fim_dopt.pdf')\n",
    "\n",
    "# The uncertainties in eigendirections of different experiments\n",
    "fig, ax0 = plt.subplots(1,1)\n",
    "fig.set_size_inches(5, 6)\n",
    "for i in range(0, len(fim_mats)):\n",
    "    [eigval, eigvec] = np.linalg.eig(fim_mats[i])\n",
    "    uncertainties = 1/np.sqrt(eigval)\n",
    "\n",
    "    ax0.hlines(uncertainties, xmin = (2*i + 1)-0.75, xmax = (2*i + 1) + 0.75, color=design_colors[i], linewidth=2)\n",
    "fig.set_tight_layout(True)\n",
    "ax0.set_yscale('log')\n",
    "ax0.set_xticks(2*np.arange(0, len(fim_mats)) + 1)    \n",
    "ax0.set_xticklabels(design_labels)\n",
    "ax0.set_ylabel('Uncertainty in $\\log_{10}$-transformed space')\n",
    "fig.savefig('eig_uncertainties.pdf')"
   ]
  },
  {
   "cell_type": "code",
   "execution_count": 16,
   "metadata": {
    "pycharm": {
     "is_executing": false
    }
   },
   "outputs": [
    {
     "traceback": [
      "\u001b[0;31m---------------------------------------------------------------------------\u001b[0m",
      "\u001b[0;31mTypeError\u001b[0m                                 Traceback (most recent call last)",
      "\u001b[0;32m<ipython-input-16-a2b5865011df>\u001b[0m in \u001b[0;36m<module>\u001b[0;34m\u001b[0m\n\u001b[1;32m      4\u001b[0m     \u001b[0mfits_right\u001b[0m \u001b[0;34m=\u001b[0m \u001b[0mfile\u001b[0m\u001b[0;34m[\u001b[0m\u001b[0;34m'thetas'\u001b[0m\u001b[0;34m]\u001b[0m\u001b[0;34m\u001b[0m\u001b[0;34m\u001b[0m\u001b[0m\n\u001b[1;32m      5\u001b[0m \u001b[0;34m\u001b[0m\u001b[0m\n\u001b[0;32m----> 6\u001b[0;31m \u001b[0mM\u001b[0m \u001b[0;34m=\u001b[0m \u001b[0mcompute_combined_fim\u001b[0m\u001b[0;34m(\u001b[0m\u001b[0mfim_binom\u001b[0m\u001b[0;34m,\u001b[0m \u001b[0;36m300\u001b[0m\u001b[0;34m,\u001b[0m \u001b[0;36m100\u001b[0m\u001b[0;34m)\u001b[0m\u001b[0;34m\u001b[0m\u001b[0;34m\u001b[0m\u001b[0m\n\u001b[0m\u001b[1;32m      7\u001b[0m \u001b[0;34m\u001b[0m\u001b[0m\n\u001b[1;32m      8\u001b[0m \u001b[0mipar0\u001b[0m \u001b[0;34m=\u001b[0m \u001b[0;36m2\u001b[0m\u001b[0;34m\u001b[0m\u001b[0;34m\u001b[0m\u001b[0m\n",
      "\u001b[0;31mTypeError\u001b[0m: compute_combined_fim() missing 1 required positional argument: 'ncells'"
     ],
     "ename": "TypeError",
     "evalue": "compute_combined_fim() missing 1 required positional argument: 'ncells'",
     "output_type": "error"
    }
   ],
   "source": [
    "with np.load('ge_mle_misfits.npz') as file:\n",
    "    fits_wrong = file['thetas']\n",
    "with np.load('ge_mle_correct_fits.npz') as file:\n",
    "    fits_right = file['thetas']\n",
    "    \n",
    "M = compute_combined_fim(fim_binom, 300, 100)\n",
    "\n",
    "ipar0 = 2\n",
    "ipar1 = 3\n",
    "fig, ax = plt.subplots(1,1)\n",
    "fig.set_tight_layout(True)\n",
    "sns.scatterplot(fits_wrong[:,ipar0], fits_wrong[:,ipar1], ax = ax, label='MLE fits - no measurement error model')\n",
    "sns.scatterplot(x=fits_right[:,ipar0], y=fits_right[:,ipar1], ax=ax, label='MLE fits - with measurement error model')\n",
    "ax.set_xlabel('$\\log_{10}({k_{r}})$')    \n",
    "ax.set_ylabel('$\\log_{10}({\\gamma})$')\n",
    "plot_conf_ellipse(M, 2, ax, [ipar0, ipar1], 'red', 'FIM-predicted two-sigma ellipse')\n",
    "ax.autoscale()\n",
    "ax.legend(bbox_to_anchor=(0, 1, 1, 1), loc='lower left')\n",
    "fig.savefig('bursting_mle.pdf')"
   ]
  },
  {
   "cell_type": "code",
   "execution_count": null,
   "metadata": {
    "pycharm": {
     "is_executing": false,
     "name": "#%%\n"
    }
   },
   "outputs": [],
   "source": [
    "time_slider = widgets.IntSlider(value=0, min=0, max=len(t_meas)-1, step=1, description='Time:')\n",
    "\n",
    "def plot_rna_dist_sens(itime):\n",
    "    fig_smfish = plt.figure()\n",
    "    fig_smfish.set_tight_layout(True)\n",
    "    gs = fig_smfish.add_gridspec(3, 2)\n",
    "    xmax = len(rna_distributions[itime])-1\n",
    "    p_binom = C_binom[0:xmax+1, 0:xmax+1]@rna_distributions[itime]\n",
    "    p_composite = C_composite[0:xmax+1, 0:xmax+1]@rna_distributions[itime]\n",
    "    p_lowres = C_lowres[0:xmax+1, 0:xmax+1]@rna_distributions[itime]\n",
    "    \n",
    "#     fig_smfish.suptitle(f't = {t_meas[itime]:.2f}')\n",
    "    ax0 = fig_smfish.add_subplot(1,1,1)\n",
    "    ax0.plot(np.arange(0, xmax+1), rna_distributions[itime], label='True', linewidth=4, color='red')\n",
    "    ax0.plot(np.arange(0, xmax+1), p_binom, color='blue', linestyle=':', label='Distorted')\n",
    "    ax0.set_xlabel('RNA molecule count')\n",
    "    ax0.set_ylabel('Probability')        \n",
    "    \n",
    "    fig_smfish.legend()\n",
    "    fig_smfish.savefig('true_v_distorted.pdf', bbox_inches='tight')\n",
    "\n",
    "\n",
    "widgets.interactive(plot_rna_dist_sens, itime=time_slider)\n"
   ]
  }
 ],
 "metadata": {
  "@webio": {
   "lastCommId": null,
   "lastKernelId": null
  },
  "celltoolbar": "Slideshow",
  "kernelspec": {
   "display_name": "CME",
   "language": "python",
   "name": "cme"
  },
  "language_info": {
   "codemirror_mode": {
    "name": "ipython",
    "version": 3
   },
   "file_extension": ".py",
   "mimetype": "text/x-python",
   "name": "python",
   "nbconvert_exporter": "python",
   "pygments_lexer": "ipython3",
   "version": "3.7.4"
  },
  "pycharm": {
   "stem_cell": {
    "cell_type": "raw",
    "source": [],
    "metadata": {
     "collapsed": false
    }
   }
  }
 },
 "nbformat": 4,
 "nbformat_minor": 2
}