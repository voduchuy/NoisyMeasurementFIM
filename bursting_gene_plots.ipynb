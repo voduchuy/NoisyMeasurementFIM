{
 "cells": [
  {
   "cell_type": "code",
   "execution_count": 1,
   "metadata": {
    "pycharm": {
     "is_executing": false
    }
   },
   "outputs": [],
   "source": [
    "par_log_transform = True"
   ]
  },
  {
   "cell_type": "code",
   "execution_count": 2,
   "metadata": {
    "pycharm": {
     "is_executing": false
    },
    "slideshow": {
     "slide_type": "skip"
    }
   },
   "outputs": [],
   "source": [
    "from pypacmensl.sensitivity.multi_sinks import SensFspSolverMultiSinks\n",
    "import mpi4py.MPI as mpi\n",
    "import numpy as np\n",
    "\n",
    "import numpy.linalg as LA\n",
    "import matplotlib.pyplot as plt\n",
    "import matplotlib.patches as patches\n",
    "from scipy.stats import binom, poisson, norm\n",
    "from scipy.special import comb     \n",
    "from math import exp, log, sqrt\n",
    "\n",
    "from numba import jit\n",
    "\n",
    "from chebpy import chebfun\n",
    "import chebpy\n",
    "\n",
    "from matplotlib.patches import Ellipse\n",
    "from matplotlib.ticker import FormatStrFormatter\n",
    "import ipywidgets as widgets\n",
    "\n",
    "from scipy.stats import logistic\n",
    "from IPython.display import clear_output\n",
    "\n",
    "# For nice plots\n",
    "import seaborn as sns\n",
    "# sns.set(style='darkgrid')"
   ]
  },
  {
   "cell_type": "code",
   "execution_count": 3,
   "metadata": {
    "pycharm": {
     "is_executing": false
    },
    "slideshow": {
     "slide_type": "skip"
    }
   },
   "outputs": [],
   "source": [
    "with np.load('fsp_solutions.npz', allow_pickle=True) as fsp_sol_file:\n",
    "    rna_distributions = fsp_sol_file['rna_distributions']\n",
    "    rna_sensitivities = fsp_sol_file['rna_sensitivities']\n",
    "    t_meas = fsp_sol_file['t_meas']\n",
    "\n",
    "with np.load('fim_flowcyt.npz', allow_pickle=True) as f:\n",
    "    flowcyt_prob = f['flowcyt_prob']\n",
    "    \n",
    "with np.load('flowcyt_pars.npz') as f:\n",
    "    kappa=f['kappa']\n",
    "    sigma_probe=f['sigma_probe']\n",
    "    mu_bg=f['mu_bg']\n",
    "    sigma_bg=f['sigma_bg']\n",
    "\n",
    "with np.load('bursting_parameters.npz') as par:\n",
    "    k_on = par['kon']\n",
    "    k_off = par['koff']\n",
    "    k_r = par['kr']\n",
    "    gamma = par['gamma']\n",
    "\n",
    "theta = np.array([k_on, k_off, k_r, gamma])"
   ]
  },
  {
   "cell_type": "markdown",
   "metadata": {
    "slideshow": {
     "slide_type": "slide"
    }
   },
   "source": [
    "## Modeling measurement noise with binomial distribution"
   ]
  },
  {
   "cell_type": "code",
   "execution_count": 4,
   "metadata": {
    "pycharm": {
     "is_executing": false
    },
    "slideshow": {
     "slide_type": "notes"
    }
   },
   "outputs": [],
   "source": [
    "p_success = 0.5\n",
    "def BinomialNoiseMatrix(n_max, p_success):\n",
    "    M = np.zeros((n_max + 1, n_max + 1))  \n",
    "    for j in range(0, n_max + 1):\n",
    "            M[:, j] = binom.pmf(np.linspace(0, n_max, n_max+1), j, p_success) \n",
    "    return M\n",
    "\n",
    "n_max = 400\n",
    "C_binom = BinomialNoiseMatrix(n_max, p_success)\n",
    "\n",
    "fim_binom = np.zeros((len(t_meas), 4, 4))\n",
    "for itime in range(0, len(t_meas)):\n",
    "    M = np.zeros((4,4))\n",
    "    xmax = len(rna_distributions[itime])-1\n",
    "    p = C_binom[0:xmax+1, 0:xmax+1]@rna_distributions[itime]\n",
    "    for ip in range(0, 4):\n",
    "        sip = C_binom[0:xmax+1, 0:xmax+1]@rna_sensitivities[itime][ip]\n",
    "        for jp in range(0, ip+1):\n",
    "            sjp = C_binom[0:xmax+1, 0:xmax+1]@rna_sensitivities[itime][jp]\n",
    "            M[ip, jp] = np.sum(sip*sjp/np.maximum(1.e-16, p))\n",
    "    for ip in range(0,4):\n",
    "        for jp in range(ip+1,4):\n",
    "            M[ip, jp] = M[jp, ip]\n",
    "    fim_binom[itime, :, :] = M\n",
    "np.savez('fim_binom.npz', fim_binom=fim_binom)"
   ]
  },
  {
   "cell_type": "markdown",
   "metadata": {
    "slideshow": {
     "slide_type": "slide"
    }
   },
   "source": [
    "## Modeling combinatorial noise from low image resolution"
   ]
  },
  {
   "cell_type": "markdown",
   "metadata": {
    "slideshow": {
     "slide_type": "fragment"
    }
   },
   "source": [
    "We consider spot miscounting due to low image resolution. Let $S$ be the size of the cell in terms of the pixels it occupies. Ignore for now the variability in cell sizes. Bright spots may clutter within a pixel, making the image looks like there is only one spot when there should actually be several of them.\n",
    "\n",
    "Given cell size S and n mRNA molecules, the recorded number of spots is given by the formula\n",
    "$$\n",
    "P(Y = j | S, n)\n",
    "=\n",
    "\\frac\n",
    "{\\binom{S}{j}\\binom{n-1}{j-1}}\n",
    "{\\binom{S + n - 1}{n}}\n",
    "$$\n",
    "\n",
    "This comes from a combinatoric problem: Given $S$ boxes and $n$ apples, how many ways are there to distribute these apples into these boxes such that there are exactly $j$ non-empty boxes."
   ]
  },
  {
   "cell_type": "code",
   "execution_count": 5,
   "metadata": {
    "slideshow": {
     "slide_type": "notes"
    },
    "pycharm": {
     "is_executing": false
    }
   },
   "outputs": [],
   "source": [
    "num_pixels = 100 # number of pixels occupied by a typical cells\n",
    "def LowResNoiseMatrix(n_max):\n",
    "    M = np.zeros((n_max + 1, n_max + 1))  \n",
    "    M[0,0] = 1.0\n",
    "    for j in range(1, n_max + 1):\n",
    "            M[:, j] = comb(num_pixels, np.arange(0, n_max+1))*comb(j-1, np.arange(0,n_max+1)-1)/comb(num_pixels + j - 1, j)       \n",
    "    return M\n",
    "\n",
    "n_max = 400\n",
    "C_lowres = LowResNoiseMatrix(n_max)\n",
    "\n",
    "fim_lowres = np.zeros((len(t_meas), 4, 4))\n",
    "for itime in range(0, len(t_meas)):\n",
    "    M = np.zeros((4,4))\n",
    "    xmax = len(rna_distributions[itime])-1\n",
    "    p = C_lowres[0:xmax+1, 0:xmax+1]@rna_distributions[itime]\n",
    "    for ip in range(0, 4):\n",
    "        sip = C_lowres[0:xmax+1, 0:xmax+1]@rna_sensitivities[itime][ip]\n",
    "        for jp in range(0, ip+1):\n",
    "            sjp = C_lowres[0:xmax+1, 0:xmax+1]@rna_sensitivities[itime][jp]\n",
    "            M[ip, jp] = np.sum(sip*sjp/np.maximum(1.e-16, p))\n",
    "    for ip in range(0,4):\n",
    "        for jp in range(ip+1,4):\n",
    "            M[ip, jp] = M[jp, ip]\n",
    "    fim_lowres[itime, :, :] = M\n",
    "np.savez('fim_lowres.npz', fim_lowres=fim_lowres)"
   ]
  },
  {
   "cell_type": "code",
   "metadata": {
    "pycharm": {
     "is_executing": false,
     "name": "#%%\n"
    },
    "scrolled": true,
    "slideshow": {
     "slide_type": "fragment"
    }
   },
   "source": [
    "fim_single_cell = dict()\n",
    "\n",
    "with np.load('fim_exact.npz') as data:\n",
    "    fim_single_cell['exact'] = data['fim_exact']\n",
    "\n",
    "with np.load('fim_binom.npz') as data:\n",
    "    fim_single_cell['binom'] = data['fim_binom']\n",
    "    \n",
    "with np.load('fim_lowres.npz') as data:\n",
    "    fim_single_cell['lowres'] = data['fim_lowres']  \n",
    "    \n",
    "with np.load('fim_composite.npz') as data:\n",
    "    fim_single_cell['composite'] = data['fim_composite']      \n",
    "\n",
    "# with np.load('fim_flowcyt_mc_0.npz') as data:\n",
    "#     fim_flowcyt = data['fim_flowcyt']    \n",
    "\n",
    "with np.load('fim_flowcyt.npz') as data:\n",
    "    fim_single_cell['flowcyt'] = data['fim_flowcyt']\n",
    "\n",
    "if par_log_transform:\n",
    "    for fim in fim_single_cell.values():\n",
    "        for it in range(0, len(t_meas)):\n",
    "            for i in range(0,4):\n",
    "                for j in range(0,4):\n",
    "                    fim[it, i, j] *= theta[i]*theta[j]*np.log(10)*np.log(10)"
   ],
   "execution_count": 6,
   "outputs": []
  },
  {
   "cell_type": "code",
   "execution_count": 7,
   "outputs": [],
   "source": [
    "def plot_conf_ellipse(fim, num_sigma, ax, par_idx, color='red', label='my_ellipse'):\n",
    "    covmat = np.linalg.inv(fim)\n",
    "    [eigvals, eigvecs] = np.linalg.eig(covmat[np.ix_([par_idx[0],par_idx[1]], [par_idx[0],par_idx[1]])])\n",
    "    \n",
    "    indx = np.argsort(eigvals)\n",
    "    indx = np.flip(indx)\n",
    "    eigvals = eigvals[indx]\n",
    "    eigvecs = eigvecs[:,indx]\n",
    "            \n",
    "    mu0 = np.log10(theta[par_idx[0]])\n",
    "    mu1 = np.log10(theta[par_idx[1]])\n",
    "    sigma0 = np.sqrt(eigvals[0])\n",
    "    sigma1 = np.sqrt(eigvals[1])\n",
    "    a = num_sigma*sigma0\n",
    "    b = num_sigma*sigma1\n",
    "\n",
    "    ax.axvline(mu0, color='k', linestyle='-', alpha=0.1)\n",
    "    ax.axhline(mu1, color='k', linestyle='-', alpha=0.1)\n",
    "    \n",
    "    phi = np.arctan2(eigvecs[1,0],eigvecs[0,0])\n",
    "    if phi < 0:\n",
    "        phi = phi + 2*np.pi \n",
    "\n",
    "    rot_matrix = np.array([\n",
    "                            [np.cos(phi), -np.sin(phi)],\n",
    "                            [np.sin(phi), np.cos(phi)]\n",
    "                           ])\n",
    "    \n",
    "    phi_grid = np.linspace(0, 2*np.pi, 100)\n",
    "    ellipse_x_r = a*np.cos(phi_grid)\n",
    "    ellipse_y_r = b*np.sin(phi_grid)\n",
    "    \n",
    "    r_ellipse = np.array(rot_matrix@[ellipse_x_r, ellipse_y_r])\n",
    "    \n",
    "    ax.plot(r_ellipse[0,:] + mu0, r_ellipse[1,:] + mu1, color=color, label=label)\n",
    "        \n",
    "    # Plot the major ax           \n",
    "    ax.plot([mu0 - eigvecs[0,0]*a, mu0 + eigvecs[0,0]*a], [mu1 - eigvecs[1,0]*a, mu1 + eigvecs[1,0]*a], color=color, \n",
    "            linestyle='--')\n",
    "    \n",
    "    return 0\n",
    "\n",
    "def plot_barcodes(fim_mats, labels, colors, ax):                            \n",
    "    # The uncertainties in eigendirections of different experiments\n",
    "    for i in range(0, len(fim_mats)):\n",
    "        \n",
    "        [eigval, eigvec] = np.linalg.eig(fim_mats[i])\n",
    "        uncertainties = 1/np.sqrt(eigval)\n",
    "\n",
    "        ax.hlines(uncertainties, xmin = (2*i + 1)-0.75, xmax = (2*i + 1) + 0.75, color=colors[i], linewidth=2)\n",
    "        \n",
    "    ax.set_yscale('log')\n",
    "    ax.set_xticks(2*np.arange(0, len(fim_mats)) + 1)    \n",
    "    ax.set_xticklabels(labels)\n",
    "    ax.set_ylabel('Uncertainty')    \n",
    "    \n",
    "    return 0 "
   ],
   "metadata": {
    "collapsed": false,
    "pycharm": {
     "name": "#%%\n",
     "is_executing": false
    }
   }
  },
  {
   "cell_type": "code",
   "execution_count": 8,
   "metadata": {
    "pycharm": {
     "is_executing": false
    }
   },
   "outputs": [],
   "source": [
    "ncells_smfish = 1000\n",
    "ncells_flowcyt = 10000\n",
    "nfish_mix = 500\n",
    "nflow_mix = 5000\n",
    "fim_mix = np.zeros((len(t_meas), 4, 4))\n",
    "\n",
    "for it in range(0, len(t_meas)):\n",
    "    fim_mix[it,:,:] = nfish_mix*fim_single_cell['lowres'][it] + nflow_mix*fim_single_cell['flowcyt'][it]      \n",
    "\n",
    "fim_multi_cells = dict()\n",
    "fim_multi_cells['mix'] = fim_mix \n",
    "\n",
    "for meas_type in fim_single_cell.keys():    \n",
    "    fim_multi_cells[meas_type] = ncells_smfish*fim_single_cell[meas_type]\n",
    "fim_multi_cells['flowcyt'] = ncells_flowcyt*fim_single_cell['flowcyt']\n",
    " \n",
    "def compute_combined_fim(fim_array, dt, num_times):\n",
    "    t_idx = dt*np.linspace(1, num_times, num_times, dtype=int)\n",
    "    fim = fim_array[t_idx[0], :, :]\n",
    "    for i in range(1, len(t_idx)):\n",
    "        fim += fim_array[t_idx[i], :, :]\n",
    "    return fim\n",
    "\n",
    "num_times = 5\n",
    "dt_min = 1\n",
    "dt_max = int(np.floor(t_meas[-1]/num_times))\n",
    "dt_array = np.linspace(dt_min, dt_max, dt_max - dt_min +1, dtype=int)\n",
    "\n",
    "fim_multi_cells_times = dict()\n",
    "det_fim_multi_cells_times = dict()\n",
    "\n",
    "for meas_type in fim_multi_cells.keys():\n",
    "    combined_fim = np.zeros((len(dt_array), 4, 4))\n",
    "    det_comb_fim = np.zeros((len(dt_array),))\n",
    "    \n",
    "    for i in range(0, len(dt_array)):\n",
    "        combined_fim[i, :, :] = compute_combined_fim(fim_multi_cells[meas_type], dt_array[i],  num_times)           \n",
    "        det_comb_fim[i] = np.linalg.det(combined_fim[i,:,:])\n",
    "        \n",
    "    fim_multi_cells_times[meas_type] = combined_fim \n",
    "    det_fim_multi_cells_times[meas_type] = det_comb_fim "
   ]
  },
  {
   "cell_type": "code",
   "execution_count": 9,
   "outputs": [],
   "source": [
    "opt_rates = dict()\n",
    "for meas in fim_multi_cells_times.keys():\n",
    "    opt_rates[meas] = np.argmax(det_fim_multi_cells_times[meas])"
   ],
   "metadata": {
    "collapsed": false,
    "pycharm": {
     "name": "#%%\n",
     "is_executing": false
    }
   }
  },
  {
   "cell_type": "code",
   "execution_count": 10,
   "outputs": [
    {
     "data": {
      "text/plain": "<Figure size 648x216 with 3 Axes>",
      "image/png": "[encoded data removed]"
     },
     "metadata": {
      "needs_background": "light"
     },
     "output_type": "display_data"
    }
   ],
   "source": [
    "labels = {\n",
    "        'exact': f'smFISH exact',\n",
    "        'binom': f'smFISH missing spots',\n",
    "        'lowres': f'smFISH low-resolution images',\n",
    "        'flowcyt': f'Flow cytometry',\n",
    "        'composite': f'smFISH low-resolution images with missing spots',\n",
    "        'mix': f'Mix',\n",
    "}\n",
    "\n",
    "colors = {\n",
    "        'exact': f'red',\n",
    "        'binom': f'blue',\n",
    "        'lowres': f'orange',\n",
    "        'flowcyt': f'darkgreen',\n",
    "        'mix': f'magenta',\n",
    "        'composite': f'k',\n",
    "}\n",
    "    \n",
    "fig, axs = plt.subplots(1,3)\n",
    "fig.set_size_inches(9, 3)\n",
    "fig.set_tight_layout(True)\n",
    "for meas in ['exact', 'binom', 'lowres', 'flowcyt', 'mix']:\n",
    "    idx_opt = opt_rates[meas]\n",
    "    fims = fim_multi_cells_times[meas]\n",
    "    dets = det_fim_multi_cells_times[meas]\n",
    "    \n",
    "    axs[0].plot(dt_array, dets, label=labels[meas], color=colors[meas])\n",
    "    axs[0].scatter(dt_array[idx_opt], dets[idx_opt],\n",
    "               100,\n",
    "               color=colors[meas], marker='*')\n",
    "    plot_conf_ellipse(fims[idx_opt], 3, \n",
    "                      axs[1], [1,0], colors[meas], '')\n",
    "    plot_conf_ellipse(fims[idx_opt], 3, axs[2], [3,2], colors[meas], '')\n",
    "\n",
    "h, l = axs[0].get_legend_handles_labels()\n",
    "fig.legend(h, l, bbox_to_anchor=(0, 1, 1, 1), loc='lower left', ncol=5)\n",
    "axs[0].set_xlim([0, 60])\n",
    "axs[0].set_xlabel('$\\Delta t$ (min)')\n",
    "axs[0].set_ylabel('$\\operatorname{det}(G_Y)$')\n",
    "\n",
    "for j in range(1, 3):\n",
    "    axs[j].set_aspect('equal', 'datalim')\n",
    "axs[1].set_ylabel('$\\log_{10}({k_{ON}})$')    \n",
    "axs[1].set_xlabel('$\\log_{10}({k_{OFF}})$')\n",
    "axs[2].set_ylabel('$\\log_{10}({k_{r}})$')    \n",
    "axs[2].set_xlabel('$\\log_{10}({\\gamma})$')\n",
    "\n",
    "for ax in list(axs):\n",
    "    ax.grid()\n",
    "\n",
    "axs[0].set_title('A')\n",
    "axs[1].set_title('B')\n",
    "axs[2].set_title('C')\n",
    "\n",
    "fig.savefig('fim_dopt.pdf', bbox_inches='tight')"
   ],
   "metadata": {
    "collapsed": false,
    "pycharm": {
     "name": "#%%\n",
     "is_executing": false
    }
   }
  },
  {
   "cell_type": "code",
   "execution_count": 11,
   "outputs": [],
   "source": [
    "def intensitycondprob(y, x):\n",
    "    return np.exp(-((y - x*kappa - mu_bg)**2.0)/(2.0*(x*x*sigma_probe**2.0+sigma_bg**2.0)))/ \\\n",
    "    np.sqrt(2*np.pi*(x*x*sigma_probe**2.0+sigma_bg**2.0))\n",
    "\n",
    "yrange = [mu_bg - 3*sigma_bg, kappa*200 + 3*sigma_bg]\n",
    "yeval = np.linspace(yrange[0], yrange[1], 1000)\n",
    "\n",
    "C_flowcyt = np.zeros((1000, 200))\n",
    "for j in range(0, 200):\n",
    "    C_flowcyt[:, j] = intensitycondprob(yeval, j)\n"
   ],
   "metadata": {
    "collapsed": false,
    "pycharm": {
     "name": "#%% Sample a few points of the flowcyt kernel\n",
     "is_executing": false
    }
   }
  },
  {
   "cell_type": "code",
   "execution_count": 12,
   "outputs": [
    {
     "data": {
      "text/plain": "<Figure size 648x180 with 6 Axes>",
      "image/png": "[encoded data removed]"
     },
     "metadata": {
      "needs_background": "light"
     },
     "output_type": "display_data"
    }
   ],
   "source": [
    "fig, axs = plt.subplots(1, 3)\n",
    "fig.set_size_inches(9, 2.5)\n",
    "fig.set_tight_layout(True)\n",
    "\n",
    "import matplotlib.colors as colors\n",
    "\n",
    "C_binom[C_binom<=0.0] = 1.0e-16\n",
    "p0 = axs[0].pcolormesh(C_binom[0:200,0:200], norm=colors.LogNorm(vmin=1.0E-5, vmax=1.0),\n",
    "                         cmap=plt.cm.get_cmap(\"Oranges\"))\n",
    "fig.colorbar(p0, ax=axs[0], orientation='vertical', extend='min', label=r\"Conditional Probability\")\n",
    "\n",
    "C_lowres[C_lowres == 0.0] = 1.0e-16\n",
    "p1 = axs[1].pcolormesh(C_lowres[0:200,0:200], norm=colors.LogNorm(vmin=1.0E-5, vmax=1.0),\n",
    "                         cmap=plt.cm.get_cmap(\"Blues\"))\n",
    "axs[1].set_ylim([0, 100])\n",
    "fig.colorbar(p1, ax=axs[1], orientation='vertical', extend='min', label=\"Conditional Probability\")\n",
    "\n",
    "p2 = axs[2].pcolormesh(np.arange(0, 201), yeval, C_flowcyt, norm=colors.LogNorm(vmin=1.0E-8, vmax=1.0E-3),\n",
    "                         cmap=plt.cm.get_cmap(\"Greens\"))\n",
    "axs[2].yaxis.set_major_formatter(FormatStrFormatter('%.0e'))\n",
    "cbar2 = fig.colorbar(p2, ax=axs[2], orientation='vertical', extend='both', label=r\"Conditional Probability\")\n",
    "\n",
    "\n",
    "for j in range(0,3):\n",
    "    axs[j].set_xlabel('True mRNA copy number')\n",
    "    axs[j].set_ylabel('Number of spots')\n",
    "axs[2].set_ylabel('Fluorescence intensity')    \n",
    "\n",
    "models = ['smFISH missing spots', 'smFISH low-resolution images', 'Flow cytometry']\n",
    "for j in range(0,3):\n",
    "    axs[j].set_title(models[j])\n",
    "    axs[j].grid()\n",
    "\n",
    "fig.savefig('kernel_maps.pdf', bbox_inches='tight')"
   ],
   "metadata": {
    "collapsed": false,
    "pycharm": {
     "name": "#%% Heatmaps for the probability kernels\n",
     "is_executing": false
    }
   }
  },
  {
   "cell_type": "code",
   "execution_count": 12,
   "outputs": [],
   "source": [],
   "metadata": {
    "collapsed": false,
    "pycharm": {
     "name": "#%%\n",
     "is_executing": false
    }
   }
  },
  {
   "cell_type": "code",
   "execution_count": 13,
   "outputs": [
    {
     "data": {
      "text/plain": "interactive(children=(IntSlider(value=0, description='Time:', max=400), Output()), _dom_classes=('widget-inter…",
      "application/vnd.jupyter.widget-view+json": {
       "version_major": 2,
       "version_minor": 0,
       "model_id": "c8c68f9e04734217b434b9c4b8b8372f"
      }
     },
     "metadata": {},
     "output_type": "display_data"
    }
   ],
   "source": [
    "time_slider = widgets.IntSlider(value=0, min=0, max=len(t_meas)-1, step=1, description='Time:')\n",
    "\n",
    "def plot_rna_dist_sens(itime):\n",
    "    fig_smfish = plt.figure()\n",
    "    fig_smfish.set_tight_layout(True)    \n",
    "    xmax = len(rna_distributions[itime])-1\n",
    "    p_binom = C_binom[0:xmax+1, 0:xmax+1]@rna_distributions[itime]    \n",
    "    p_lowres = C_lowres[0:xmax+1, 0:xmax+1]@rna_distributions[itime]\n",
    "    \n",
    "    fig_smfish.suptitle(f't = {t_meas[itime]:.2f}')\n",
    "    ax0 = fig_smfish.add_subplot(1,1,1)\n",
    "    ax0.plot(np.arange(0, xmax+1), rna_distributions[itime], label='True', linewidth=4)\n",
    "    ax0.plot(np.arange(0, xmax+1), p_binom, color='orange', linestyle=':', label='Lossy')\n",
    "    ax0.plot(np.arange(0, xmax+1), p_lowres, color='magenta', linestyle='dotted', label='Low-resolution')\n",
    "    \n",
    "    ax0.set_xlabel('RNA molecule count')\n",
    "    ax0.set_ylabel('Probability')    \n",
    "    \n",
    "    ax1 = ax0.twinx()    \n",
    "    ax1.plot(flowcyt_prob[itime]['yeval']/kappa, flowcyt_prob[itime]['peval'], \n",
    "            color='green', linestyle='-', label='Flow cytometry')\n",
    "    ax1.tick_params(axis='y', labelcolor='green')\n",
    "    ax1.set_ylabel('Probability density', color='green')    \n",
    "    fig_smfish.legend(bbox_to_anchor=(0.25, 0, 1, 1), loc = 'lower right')\n",
    "    fig_smfish.savefig('distributions.pdf', bbox_inches='tight')\n",
    "\n",
    "widgets.interactive(plot_rna_dist_sens, itime=time_slider)"
   ],
   "metadata": {
    "collapsed": false,
    "pycharm": {
     "name": "#%%\n",
     "is_executing": false
    }
   }
  },
  {
   "cell_type": "code",
   "execution_count": 18,
   "outputs": [
    {
     "data": {
      "text/plain": "<matplotlib.collections.PathCollection at 0x13c6fe190>"
     },
     "metadata": {},
     "output_type": "execute_result",
     "execution_count": 18
    },
    {
     "data": {
      "text/plain": "<Figure size 432x288 with 1 Axes>",
      "image/png": "[encoded data removed]"
     },
     "metadata": {
      "needs_background": "light"
     },
     "output_type": "display_data"
    }
   ],
   "source": [
    "with np.load('ge_mle_correct_fits.npz') as file:\n",
    "    fits_correct = file['thetas']\n",
    "with np.load('ge_mle_misfits.npz') as file:\n",
    "    fits_incorrect = file['thetas']\n",
    "\n",
    "fig, ax = plt.subplots(1,1)\n",
    "ax.scatter(fits_correct[:,2], fits_correct[:,3], 2, 'red')\n",
    "# ax.scatter(fits_correct[:,2], fits_incorrect[:,3], 2, 'orange')"
   ],
   "metadata": {
    "collapsed": false,
    "pycharm": {
     "name": "#%% Now plot the comparison between correct and incorrect noise models\n",
     "is_executing": false
    }
   }
  }
 ],
 "metadata": {
  "@webio": {
   "lastCommId": null,
   "lastKernelId": null
  },
  "celltoolbar": "Slideshow",
  "kernelspec": {
   "display_name": "CME",
   "language": "python",
   "name": "cme"
  },
  "language_info": {
   "codemirror_mode": {
    "name": "ipython",
    "version": 3
   },
   "file_extension": ".py",
   "mimetype": "text/x-python",
   "name": "python",
   "nbconvert_exporter": "python",
   "pygments_lexer": "ipython3",
   "version": "3.7.4"
  },
  "pycharm": {
   "stem_cell": {
    "cell_type": "raw",
    "source": [],
    "metadata": {
     "collapsed": false
    }
   }
  }
 },
 "nbformat": 4,
 "nbformat_minor": 2
}